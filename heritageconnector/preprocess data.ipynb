{
 "cells": [
  {
   "cell_type": "markdown",
   "metadata": {},
   "source": [
    "# process data\n"
   ]
  },
  {
   "cell_type": "code",
   "execution_count": 44,
   "metadata": {},
   "outputs": [],
   "source": [
    "import pandas as pd\n",
    "import json"
   ]
  },
  {
   "cell_type": "markdown",
   "metadata": {},
   "source": [
    "## process gazetteers"
   ]
  },
  {
   "cell_type": "code",
   "execution_count": 39,
   "metadata": {},
   "outputs": [
    {
     "name": "stdout",
     "output_type": "stream",
     "text": [
      "183 11 194\n"
     ]
    },
    {
     "data": {
      "text/plain": [
       "(['Rerrick',\n",
       "  'Dumfries',\n",
       "  'Kirkcudbright',\n",
       "  'Innerleithen',\n",
       "  'Drumelzier',\n",
       "  'Yarrow',\n",
       "  'Ettrick',\n",
       "  'Chirnside',\n",
       "  'Kirkhope',\n",
       "  'Selkirk'],\n",
       " ['Kirkcudbrightshire',\n",
       "  'Dumfries-Shire',\n",
       "  'Peebles-Shire',\n",
       "  'Selkirkshire',\n",
       "  'Berwickshire',\n",
       "  'Not Applicable',\n",
       "  'Wigtownshire',\n",
       "  'Roxburghshire',\n",
       "  'Midlothian',\n",
       "  'East Lothian'])"
      ]
     },
     "execution_count": 39,
     "metadata": {},
     "output_type": "execute_result"
    }
   ],
   "source": [
    "canmore_df = pd.read_csv(\"./HES/canmore_text_extract.csv\", low_memory=False)\n",
    "\n",
    "parishes = canmore_df['PARISH'].str.title().unique().tolist()\n",
    "counties = canmore_df['COUNTY_NAME'].str.title().unique().tolist()\n",
    "\n",
    "canmore_text = parishes + counties\n",
    "\n",
    "print(len(parishes), len(counties), len(canmore_text))\n",
    "\n",
    "parishes[0:10], counties[0:10]"
   ]
  },
  {
   "cell_type": "code",
   "execution_count": 40,
   "metadata": {},
   "outputs": [
    {
     "name": "stdout",
     "output_type": "stream",
     "text": [
      "7168 15873\n"
     ]
    },
    {
     "data": {
      "text/plain": [
       "(['North and Middle Littleton',\n",
       "  'Barton-on-the-Heath',\n",
       "  'Zennor',\n",
       "  'Zeals',\n",
       "  'Zeal Monachorum',\n",
       "  'Yoxford',\n",
       "  'Yoxall',\n",
       "  'Youlgreave',\n",
       "  'Yewbarrow',\n",
       "  'Yetminster'],\n",
       " ['Middle Littleton',\n",
       "  'North Littleton',\n",
       "  'Barton-on-the-Heath',\n",
       "  'Zennor',\n",
       "  'Zeals',\n",
       "  'Zeal Monachorum',\n",
       "  'Yoxford',\n",
       "  'Yoxall',\n",
       "  'All Saints, Youlgreave',\n",
       "  'Yellegrave'])"
      ]
     },
     "execution_count": 40,
     "metadata": {},
     "output_type": "execute_result"
    }
   ],
   "source": [
    "geonames_df = pd.read_csv(\"./BL/Geonames_GBNI_places.csv\", header=None, names=['place_name'])\n",
    "geonames_text = geonames_df['place_name'].unique().tolist()\n",
    "\n",
    "iams_df = pd.read_csv(\"./BL/IAMS_GBNI_places.csv\", header=None)\n",
    "iams_text = iams_df[0].unique().tolist()\n",
    "\n",
    "print(len(geonames_text), len(iams_text))\n",
    "\n",
    "geonames_text[0:10], iams_text[0:10]"
   ]
  },
  {
   "cell_type": "code",
   "execution_count": 41,
   "metadata": {},
   "outputs": [
    {
     "name": "stdout",
     "output_type": "stream",
     "text": [
      "925\n"
     ]
    },
    {
     "data": {
      "text/plain": [
       "['Northern England',\n",
       " 'Durham',\n",
       " 'Beverlaco',\n",
       " 'Dukmanton',\n",
       " 'Ettewelle',\n",
       " 'Leicester',\n",
       " 'Salopesburi',\n",
       " 'Shrewsbury',\n",
       " 'Stanlegh',\n",
       " 'Jezemue',\n",
       " 'Novo Castello',\n",
       " 'Berewico super Tweda',\n",
       " 'Weardale Forest',\n",
       " 'Berewyke',\n",
       " 'Northumberland',\n",
       " 'Jesemuth',\n",
       " 'Novo Castro',\n",
       " 'Cavereswall',\n",
       " 'Hetyleia',\n",
       " 'Derbyshire']"
      ]
     },
     "execution_count": 41,
     "metadata": {},
     "output_type": "execute_result"
    }
   ],
   "source": [
    "bl_places_df = pd.read_csv(\"./BL/BL_Med_places.csv\", header=None)\n",
    "bl_places_text = bl_places[0].apply(lambda i: i.split(\";\")[0].split(\",\")[0].strip()).unique().tolist()\n",
    "\n",
    "print(len(bl_places_text))\n",
    "\n",
    "bl_places_text[0:20]"
   ]
  },
  {
   "cell_type": "code",
   "execution_count": 43,
   "metadata": {},
   "outputs": [
    {
     "data": {
      "text/plain": [
       "16032"
      ]
     },
     "execution_count": 43,
     "metadata": {},
     "output_type": "execute_result"
    }
   ],
   "source": [
    "gazetteer = list(set(parishes + counties + iams_text + bl_places_text))\n",
    "\n",
    "len(gazetteer)"
   ]
  },
  {
   "cell_type": "code",
   "execution_count": 46,
   "metadata": {},
   "outputs": [],
   "source": [
    "gazetteer_dict = [{\"label\": \"GPE\", \"pattern\": place} for place in gazetteer]\n",
    "\n",
    "with open(\"gazetteer.jsonl\", \"w\") as f:\n",
    "    for item in gazetteer_dict:\n",
    "        json.dump(item, f)\n",
    "        f.write(\"\\n\")"
   ]
  },
  {
   "cell_type": "code",
   "execution_count": null,
   "metadata": {},
   "outputs": [],
   "source": []
  }
 ],
 "metadata": {
  "kernelspec": {
   "display_name": "Python 3",
   "language": "python",
   "name": "python3"
  },
  "language_info": {
   "codemirror_mode": {
    "name": "ipython",
    "version": 3
   },
   "file_extension": ".py",
   "mimetype": "text/x-python",
   "name": "python",
   "nbconvert_exporter": "python",
   "pygments_lexer": "ipython3",
   "version": "3.7.3"
  }
 },
 "nbformat": 4,
 "nbformat_minor": 4
}
