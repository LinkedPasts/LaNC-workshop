{
 "cells": [
  {
   "cell_type": "code",
   "execution_count": 1,
   "metadata": {},
   "outputs": [],
   "source": [
    "import pandas as pd\n",
    "import utils"
   ]
  },
  {
   "cell_type": "markdown",
   "metadata": {},
   "source": [
    "# Create a toponym matching training dataset\n",
    "\n",
    "This notebook shows how to generate a WikiGazetteer (that is, a gazetteer generated from Wikipedia entries with coordinates), and how to build a toponym matching training set for DeezyMatch. The resulting dataset will have the following format:\n",
    "\n",
    "Toponym 1 | Toponym 2 | Matching\n",
    "----------|-----------|---------\n",
    "Cala Egos | La Fuensanta | False\n",
    "Cala Egos | Cala Pada | False\n",
    "Cala Egos | Cala Nova | False\n",
    "Cala Egos | Cala Egos | True\n",
    "Cala Egos | Caló de ses Egos | True\n",
    "Cala Egos | Caló de ses Egües | True\n",
    "\n",
    "Note that this process may take several hours!"
   ]
  },
  {
   "cell_type": "markdown",
   "metadata": {},
   "source": [
    "## Step 1: Generate a WikiGazetteer\n",
    "\n",
    "WikiGazetteer is a gazetteer based on Wikipedia and enriched with Geonames data. To build a WikiGazetteer into a MySQL database for a specific Wikipedia language and version, follow [these instructions](https://github.com/Living-with-machines/lwm_GIR19_resolving_places/tree/master/gazetteer_construction).\n",
    "\n",
    "***\n",
    "\n",
    "<font color='darkred'>\n",
    "\n",
    "**Note:** You can skip this step if you wish to create a toponym matching training set using a different gazetteer (e.g. geonames). Step 2 requires the input in the following format:\n",
    "\n",
    "| &nbsp; | name | wikititle | latitude | longitude | source\n",
    "| -- | -- | -- | -- | -- | --\n",
    "| 416894 | Sierra del Caurel | Sierra_del_Caurel | 42.5833 | -7.16667 | wikimain\n",
    "| 416895 | Serra do Courel | Sierra_del_Caurel | 42.5833 | -7.16667 | wikiredirect\n",
    "| 416896 | Sierra del Courel | Sierra_del_Caurel | 42.5833 | -7.16667 | wikiredirect\n",
    "\n",
    "The first column contains the alternate name id, column `name` contains the alternate names for the locations specified through columns `wikititle` (if you are using your own gazetteer, the content of this column could be the location id), `latitude` and `longitude`. As you can see in the table-example, there should be one row for each alternate name of each location. Column `source` contains the source of this alternate name (this column can be empty).\n",
    "\n",
    "</font>\n",
    "\n",
    "***\n",
    "\n",
    "Once you have generated a WikiGazetteer, you can create a minimal version from it (minimal means containing only altnames, location ids, and coordinates, in the format shown in the table above) directly from MySQL (requires updating the server username and password and the name of your WikiGazetteer DB below):"
   ]
  },
  {
   "cell_type": "code",
   "execution_count": 2,
   "metadata": {},
   "outputs": [],
   "source": [
    "wikigaz_db = \"wikiGazES\" # Name of your Wikigazetteer DB in the MySQL server\n",
    "username_db = \"testGazetteer\" # Your MySQL user name\n",
    "password_db = \"1234\" # Your MySQL password\n",
    "min_wikigaz = \"wikigaz_es\" # Output name for the minimal Wikigazetteer from which we will create a training set"
   ]
  },
  {
   "cell_type": "code",
   "execution_count": 3,
   "metadata": {},
   "outputs": [],
   "source": [
    "# Create a minimal wikigazetteer from MySQL server:\n",
    "wgdf = utils.create_minimal_gaz(wikigaz_db, username_db, password_db, min_wikigaz)"
   ]
  },
  {
   "cell_type": "markdown",
   "metadata": {},
   "source": [
    "## Step 2: Create a training set\n",
    "\n",
    "Create a toponym matching training set from a local WikiGazetteer (or your own gazetteer in the right format).\n",
    "* You can restrict your WikiGazetteer based on one or multiple bounding boxes (for testing purposes, it can be useful to make this fairly small)"
   ]
  },
  {
   "cell_type": "code",
   "execution_count": 4,
   "metadata": {},
   "outputs": [],
   "source": [
    "# If you have skipped Step 1, load your own gazetteer here, updating this line as needed:\n",
    "wgdf = pd.read_pickle(min_wikigaz + \".pkl\")"
   ]
  },
  {
   "cell_type": "code",
   "execution_count": 5,
   "metadata": {},
   "outputs": [
    {
     "data": {
      "text/html": [
       "<div>\n",
       "<style scoped>\n",
       "    .dataframe tbody tr th:only-of-type {\n",
       "        vertical-align: middle;\n",
       "    }\n",
       "\n",
       "    .dataframe tbody tr th {\n",
       "        vertical-align: top;\n",
       "    }\n",
       "\n",
       "    .dataframe thead th {\n",
       "        text-align: right;\n",
       "    }\n",
       "</style>\n",
       "<table border=\"1\" class=\"dataframe\">\n",
       "  <thead>\n",
       "    <tr style=\"text-align: right;\">\n",
       "      <th></th>\n",
       "      <th>name</th>\n",
       "      <th>wikititle</th>\n",
       "      <th>latitude</th>\n",
       "      <th>longitude</th>\n",
       "      <th>source</th>\n",
       "    </tr>\n",
       "  </thead>\n",
       "  <tbody>\n",
       "    <tr>\n",
       "      <th>0</th>\n",
       "      <td>Stupinigi</td>\n",
       "      <td>Stupinigi</td>\n",
       "      <td>44.98330</td>\n",
       "      <td>7.600000</td>\n",
       "      <td>wikimain</td>\n",
       "    </tr>\n",
       "    <tr>\n",
       "      <th>2</th>\n",
       "      <td>Orto botanico Lorenzo Rota</td>\n",
       "      <td>Jardín_Botánico_de_Bergamo_\"Lorenzo_Rota\"</td>\n",
       "      <td>45.70780</td>\n",
       "      <td>9.657780</td>\n",
       "      <td>wikiredirect</td>\n",
       "    </tr>\n",
       "    <tr>\n",
       "      <th>3</th>\n",
       "      <td>Moen</td>\n",
       "      <td>Moen</td>\n",
       "      <td>7.43333</td>\n",
       "      <td>151.850000</td>\n",
       "      <td>wikimain</td>\n",
       "    </tr>\n",
       "    <tr>\n",
       "      <th>4</th>\n",
       "      <td>Torre del Gerro</td>\n",
       "      <td>Torre_del_Gerro</td>\n",
       "      <td>38.81990</td>\n",
       "      <td>0.159539</td>\n",
       "      <td>wikimain</td>\n",
       "    </tr>\n",
       "    <tr>\n",
       "      <th>5</th>\n",
       "      <td>Cerro Bayo</td>\n",
       "      <td>Cerro_Bayo_(desambiguación)</td>\n",
       "      <td>-25.41670</td>\n",
       "      <td>-68.583300</td>\n",
       "      <td>wikimain</td>\n",
       "    </tr>\n",
       "  </tbody>\n",
       "</table>\n",
       "</div>"
      ],
      "text/plain": [
       "                         name                                  wikititle  \\\n",
       "0                   Stupinigi                                  Stupinigi   \n",
       "2  Orto botanico Lorenzo Rota  Jardín_Botánico_de_Bergamo_\"Lorenzo_Rota\"   \n",
       "3                        Moen                                       Moen   \n",
       "4             Torre del Gerro                            Torre_del_Gerro   \n",
       "5                  Cerro Bayo                Cerro_Bayo_(desambiguación)   \n",
       "\n",
       "   latitude   longitude        source  \n",
       "0  44.98330    7.600000      wikimain  \n",
       "2  45.70780    9.657780  wikiredirect  \n",
       "3   7.43333  151.850000      wikimain  \n",
       "4  38.81990    0.159539      wikimain  \n",
       "5 -25.41670  -68.583300      wikimain  "
      ]
     },
     "execution_count": 5,
     "metadata": {},
     "output_type": "execute_result"
    }
   ],
   "source": [
    "wgdf.head()"
   ]
  },
  {
   "cell_type": "code",
   "execution_count": 6,
   "metadata": {},
   "outputs": [],
   "source": [
    "# Each bounding box is a list with coordinate limits: [W, S, E, N]\n",
    "bboxes = [[-9.86, 35.84, 3.7, 43.88], # Iberian Peninsula\n",
    "          [-18.71, 27.26, -12.99, 29.79], # Canary Islands\n",
    "          [-120.6, -56.7, -32.4, 33.9]] # Ibero-America\n",
    "\n",
    "# For testing: a small bounding box (corresponding to the Balearic Islands)\n",
    "bboxes = [[0.9, 38.42, 4.76, 40.42]] # Balearic Islands"
   ]
  },
  {
   "cell_type": "code",
   "execution_count": 7,
   "metadata": {},
   "outputs": [],
   "source": [
    "# Filter minimal gazetteer by coordinate bounding boxes:\n",
    "wgdf = wgdf[wgdf.apply(lambda x: utils.filter_gaz_by_bbox(x[\"latitude\"], x[\"longitude\"], bboxes), axis=1)]"
   ]
  },
  {
   "cell_type": "code",
   "execution_count": 8,
   "metadata": {},
   "outputs": [
    {
     "data": {
      "text/plain": [
       "(1341, 5)"
      ]
     },
     "execution_count": 8,
     "metadata": {},
     "output_type": "execute_result"
    }
   ],
   "source": [
    "# Show size of filtered gazetteer (number of rows is the number of altname-location combinations)\n",
    "wgdf.shape"
   ]
  },
  {
   "cell_type": "code",
   "execution_count": 9,
   "metadata": {},
   "outputs": [
    {
     "name": "stderr",
     "output_type": "stream",
     "text": [
      "100%|██████████| 1/1 [00:00<00:00,  6.32it/s]\n"
     ]
    }
   ],
   "source": [
    "# Create the toponym matching training dataset\n",
    "\n",
    "titles_per_chunk = 1000 # how many titles are processed by chunk\n",
    "kilometre_distance = 20 # minimum distance in km for negative toponym pairs (i.e.\n",
    "                        # toponyms of locations closer than x km will not be selected\n",
    "                        # as negative matches)\n",
    "N = \"default\" # Number of CPUs (default: all available CPUs)\n",
    "dataset_name = \"wikigaz_es_topmatching.txt\" # Name of the output file where the\n",
    "                                                   # toponym matching dataset is stored\n",
    "\n",
    "# Create the dataset:\n",
    "utils.create_pairmatch_dataset(N, titles_per_chunk, wgdf, kilometre_distance, dataset_name)"
   ]
  },
  {
   "cell_type": "code",
   "execution_count": 12,
   "metadata": {},
   "outputs": [
    {
     "data": {
      "text/html": [
       "<div>\n",
       "<style scoped>\n",
       "    .dataframe tbody tr th:only-of-type {\n",
       "        vertical-align: middle;\n",
       "    }\n",
       "\n",
       "    .dataframe tbody tr th {\n",
       "        vertical-align: top;\n",
       "    }\n",
       "\n",
       "    .dataframe thead th {\n",
       "        text-align: right;\n",
       "    }\n",
       "</style>\n",
       "<table border=\"1\" class=\"dataframe\">\n",
       "  <thead>\n",
       "    <tr style=\"text-align: right;\">\n",
       "      <th></th>\n",
       "      <th>Toponym1</th>\n",
       "      <th>Toponym2</th>\n",
       "      <th>Matching</th>\n",
       "    </tr>\n",
       "  </thead>\n",
       "  <tbody>\n",
       "    <tr>\n",
       "      <th>1414</th>\n",
       "      <td>Avenida Jaime III</td>\n",
       "      <td>Sant Mateu d Albarca</td>\n",
       "      <td>False</td>\n",
       "    </tr>\n",
       "    <tr>\n",
       "      <th>1415</th>\n",
       "      <td>Avenida Jaime III</td>\n",
       "      <td>Avenida Jaime III</td>\n",
       "      <td>True</td>\n",
       "    </tr>\n",
       "    <tr>\n",
       "      <th>1416</th>\n",
       "      <td>Aeródromo de Son Bonet</td>\n",
       "      <td>Estación de Verge de Lluc</td>\n",
       "      <td>False</td>\n",
       "    </tr>\n",
       "    <tr>\n",
       "      <th>1417</th>\n",
       "      <td>Aeródromo de Son Bonet</td>\n",
       "      <td>Aeródromo de Son Bonet</td>\n",
       "      <td>True</td>\n",
       "    </tr>\n",
       "    <tr>\n",
       "      <th>1418</th>\n",
       "      <td>Ullaró</td>\n",
       "      <td>Torre Asima</td>\n",
       "      <td>False</td>\n",
       "    </tr>\n",
       "    <tr>\n",
       "      <th>1419</th>\n",
       "      <td>Ullaró</td>\n",
       "      <td>Ullaró</td>\n",
       "      <td>True</td>\n",
       "    </tr>\n",
       "    <tr>\n",
       "      <th>1420</th>\n",
       "      <td>Ullaró</td>\n",
       "      <td>Soller</td>\n",
       "      <td>False</td>\n",
       "    </tr>\n",
       "    <tr>\n",
       "      <th>1421</th>\n",
       "      <td>Ullaró</td>\n",
       "      <td>Ullaro</td>\n",
       "      <td>True</td>\n",
       "    </tr>\n",
       "    <tr>\n",
       "      <th>1422</th>\n",
       "      <td>Buñola</td>\n",
       "      <td>Sa Cabaneta</td>\n",
       "      <td>False</td>\n",
       "    </tr>\n",
       "    <tr>\n",
       "      <th>1423</th>\n",
       "      <td>Buñola</td>\n",
       "      <td>El Terreno</td>\n",
       "      <td>False</td>\n",
       "    </tr>\n",
       "    <tr>\n",
       "      <th>1424</th>\n",
       "      <td>Buñola</td>\n",
       "      <td>Buñola</td>\n",
       "      <td>True</td>\n",
       "    </tr>\n",
       "    <tr>\n",
       "      <th>1425</th>\n",
       "      <td>Buñola</td>\n",
       "      <td>BUÑOLA</td>\n",
       "      <td>True</td>\n",
       "    </tr>\n",
       "    <tr>\n",
       "      <th>1426</th>\n",
       "      <td>Buñola</td>\n",
       "      <td>Buger</td>\n",
       "      <td>False</td>\n",
       "    </tr>\n",
       "    <tr>\n",
       "      <th>1427</th>\n",
       "      <td>Buñola</td>\n",
       "      <td>Sa Cala</td>\n",
       "      <td>False</td>\n",
       "    </tr>\n",
       "    <tr>\n",
       "      <th>1428</th>\n",
       "      <td>Buñola</td>\n",
       "      <td>Bunyola</td>\n",
       "      <td>True</td>\n",
       "    </tr>\n",
       "    <tr>\n",
       "      <th>1429</th>\n",
       "      <td>Buñola</td>\n",
       "      <td>Bunola</td>\n",
       "      <td>True</td>\n",
       "    </tr>\n",
       "    <tr>\n",
       "      <th>1430</th>\n",
       "      <td>Cala Llenya</td>\n",
       "      <td>Túnel de Soller</td>\n",
       "      <td>False</td>\n",
       "    </tr>\n",
       "    <tr>\n",
       "      <th>1431</th>\n",
       "      <td>Cala Llenya</td>\n",
       "      <td>Cala Llenya</td>\n",
       "      <td>True</td>\n",
       "    </tr>\n",
       "    <tr>\n",
       "      <th>1432</th>\n",
       "      <td>Palacio de Marivent</td>\n",
       "      <td>Cueva de los Ingleses</td>\n",
       "      <td>False</td>\n",
       "    </tr>\n",
       "    <tr>\n",
       "      <th>1433</th>\n",
       "      <td>Palacio de Marivent</td>\n",
       "      <td>Palacio de Marivent</td>\n",
       "      <td>True</td>\n",
       "    </tr>\n",
       "  </tbody>\n",
       "</table>\n",
       "</div>"
      ],
      "text/plain": [
       "                    Toponym1                   Toponym2  Matching\n",
       "1414       Avenida Jaime III       Sant Mateu d Albarca     False\n",
       "1415       Avenida Jaime III          Avenida Jaime III      True\n",
       "1416  Aeródromo de Son Bonet  Estación de Verge de Lluc     False\n",
       "1417  Aeródromo de Son Bonet     Aeródromo de Son Bonet      True\n",
       "1418                  Ullaró                Torre Asima     False\n",
       "1419                  Ullaró                     Ullaró      True\n",
       "1420                  Ullaró                     Soller     False\n",
       "1421                  Ullaró                     Ullaro      True\n",
       "1422                  Buñola                Sa Cabaneta     False\n",
       "1423                  Buñola                 El Terreno     False\n",
       "1424                  Buñola                     Buñola      True\n",
       "1425                  Buñola                     BUÑOLA      True\n",
       "1426                  Buñola                      Buger     False\n",
       "1427                  Buñola                    Sa Cala     False\n",
       "1428                  Buñola                    Bunyola      True\n",
       "1429                  Buñola                     Bunola      True\n",
       "1430             Cala Llenya            Túnel de Soller     False\n",
       "1431             Cala Llenya                Cala Llenya      True\n",
       "1432     Palacio de Marivent      Cueva de los Ingleses     False\n",
       "1433     Palacio de Marivent        Palacio de Marivent      True"
      ]
     },
     "execution_count": 12,
     "metadata": {},
     "output_type": "execute_result"
    }
   ],
   "source": [
    "# View the last 20 entries of your toponym matching dataset\n",
    "pd.read_csv(dataset_name, sep=\"\\t\", names=[\"Toponym1\", \"Toponym2\", \"Matching\"]).tail(20)"
   ]
  },
  {
   "cell_type": "code",
   "execution_count": null,
   "metadata": {},
   "outputs": [],
   "source": []
  }
 ],
 "metadata": {
  "kernelspec": {
   "display_name": "Python (py37linked)",
   "language": "python",
   "name": "py37linked"
  },
  "language_info": {
   "codemirror_mode": {
    "name": "ipython",
    "version": 3
   },
   "file_extension": ".py",
   "mimetype": "text/x-python",
   "name": "python",
   "nbconvert_exporter": "python",
   "pygments_lexer": "ipython3",
   "version": "3.7.9"
  }
 },
 "nbformat": 4,
 "nbformat_minor": 2
}
