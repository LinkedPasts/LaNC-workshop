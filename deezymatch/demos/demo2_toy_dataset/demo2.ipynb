{
 "cells": [
  {
   "cell_type": "markdown",
   "metadata": {},
   "source": [
    "# Demo2"
   ]
  },
  {
   "cell_type": "markdown",
   "metadata": {},
   "source": [
    "## Train a new model"
   ]
  },
  {
   "cell_type": "code",
   "execution_count": 1,
   "metadata": {
    "scrolled": false
   },
   "outputs": [
    {
     "name": "stdout",
     "output_type": "stream",
     "text": [
      "\u001b[92m2020-12-07 09:37:14\u001b[0m \u001b[95mMAC-ATI0414\u001b[0m \u001b[1m\u001b[90m[INFO]\u001b[0m \u001b[2;32mread input file: ./inputs/input_dfm_demo2.yaml\u001b[0m\n",
      "\u001b[92m2020-12-07 09:37:14\u001b[0m \u001b[95mMAC-ATI0414\u001b[0m \u001b[1m\u001b[90m[INFO]\u001b[0m \u001b[1;31mGPU was requested but not available.\u001b[0m\n",
      "\u001b[92m2020-12-07 09:37:14\u001b[0m \u001b[95mMAC-ATI0414\u001b[0m \u001b[1m\u001b[90m[INFO]\u001b[0m \u001b[1;32mpytorch will use: cpu\u001b[0m\n",
      "\u001b[92m2020-12-07 09:37:14\u001b[0m \u001b[95mMAC-ATI0414\u001b[0m \u001b[1m\u001b[90m[INFO]\u001b[0m \u001b[2;32mread CSV file: ../../dataset/BL_IAMS_geonames.tsv\u001b[0m\n",
      "\u001b[92m2020-12-07 09:37:14\u001b[0m \u001b[95mMAC-ATI0414\u001b[0m \u001b[1m\u001b[90m[INFO]\u001b[0m \u001b[1;32mnumber of labels, True: 9532 and False: 9135\u001b[0m\n",
      "\u001b[92m2020-12-07 09:37:14\u001b[0m \u001b[95mMAC-ATI0414\u001b[0m \u001b[1m\u001b[90m[INFO]\u001b[0m \u001b[2;32mSplitting the Dataset\u001b[0m\n",
      "\u001b[92m2020-12-07 09:37:14\u001b[0m \u001b[95mMAC-ATI0414\u001b[0m \u001b[1m\u001b[90m[INFO]\u001b[0m \u001b[2;32mfinish splitting the Dataset. User time: 0.01949167251586914\u001b[0m\n",
      "\u001b[92m2020-12-07 09:37:14\u001b[0m \u001b[95mMAC-ATI0414\u001b[0m \u001b[1m\u001b[90m[INFO]\u001b[0m \u001b[1;32msplits are as follow:\n",
      "train    14933\n",
      "val       3733\n",
      "test         1\n",
      "Name: split, dtype: int64\u001b[0m\n",
      "\u001b[92m2020-12-07 09:37:14\u001b[0m \u001b[95mMAC-ATI0414\u001b[0m \u001b[1m\u001b[90m[INFO]\u001b[0m \u001b[2;32mstart creating a lookup table and convert characters to indices\u001b[0m\n",
      "\u001b[92m2020-12-07 09:37:14\u001b[0m \u001b[95mMAC-ATI0414\u001b[0m \u001b[1m\u001b[90m[INFO]\u001b[0m \u001b[2;32m-- create vocabulary\u001b[0m\n"
     ]
    },
    {
     "name": "stderr",
     "output_type": "stream",
     "text": [
      "s2 padding:   0%|          | 0/14933 [00:00<?, ?it/s]"
     ]
    },
    {
     "name": "stdout",
     "output_type": "stream",
     "text": [
      "\u001b[92m2020-12-07 09:37:14\u001b[0m \u001b[95mMAC-ATI0414\u001b[0m \u001b[1m\u001b[90m[INFO]\u001b[0m \u001b[2;32m-- convert tokens to indices\u001b[0m\n",
      "\u001b[92m2020-12-07 09:37:14\u001b[0m \u001b[95mMAC-ATI0414\u001b[0m \u001b[1m\u001b[90m[INFO]\u001b[0m \u001b[2;32m-- create a lookup table for tokens\u001b[0m\n",
      "\u001b[92m2020-12-07 09:37:14\u001b[0m \u001b[95mMAC-ATI0414\u001b[0m \u001b[1m\u001b[90m[INFO]\u001b[0m \u001b[2;32m-- read list of characters from ../../dataset/characters_v001.vocab\u001b[0m\n",
      "\u001b[92m2020-12-07 09:37:14\u001b[0m \u001b[95mMAC-ATI0414\u001b[0m \u001b[1m\u001b[90m[INFO]\u001b[0m \u001b[2;32m-- Length of vocabulary: 7543\u001b[0m\n"
     ]
    },
    {
     "name": "stderr",
     "output_type": "stream",
     "text": [
      "                                                     "
     ]
    },
    {
     "name": "stdout",
     "output_type": "stream",
     "text": [
      "\n",
      "\n",
      "\n",
      "\u001b[92m2020-12-07 09:37:15\u001b[0m \u001b[95mMAC-ATI0414\u001b[0m \u001b[1m\u001b[90m[INFO]\u001b[0m \u001b[95m******************************\u001b[0m\n",
      "\u001b[92m2020-12-07 09:37:15\u001b[0m \u001b[95mMAC-ATI0414\u001b[0m \u001b[1m\u001b[90m[INFO]\u001b[0m \u001b[95m**** (Bi-directional) GRU ****\u001b[0m\n",
      "\u001b[92m2020-12-07 09:37:15\u001b[0m \u001b[95mMAC-ATI0414\u001b[0m \u001b[1m\u001b[90m[INFO]\u001b[0m \u001b[95m******************************\u001b[0m\n",
      "\u001b[92m2020-12-07 09:37:15\u001b[0m \u001b[95mMAC-ATI0414\u001b[0m \u001b[1m\u001b[90m[INFO]\u001b[0m \u001b[2;32mread inputs\u001b[0m\n",
      "\u001b[92m2020-12-07 09:37:15\u001b[0m \u001b[95mMAC-ATI0414\u001b[0m \u001b[1m\u001b[90m[INFO]\u001b[0m \u001b[2;32mcreate a two_parallel_rnns model\u001b[0m\n",
      "\u001b[92m2020-12-07 09:37:15\u001b[0m \u001b[95mMAC-ATI0414\u001b[0m \u001b[1m\u001b[90m[INFO]\u001b[0m \u001b[1;32mstart fitting parameters\u001b[0m\n",
      "\u001b[92m2020-12-07 09:37:15\u001b[0m \u001b[95mMAC-ATI0414\u001b[0m \u001b[1m\u001b[90m[INFO]\u001b[0m \u001b[2;32mNumber of batches: 467\u001b[0m\n",
      "\u001b[92m2020-12-07 09:37:15\u001b[0m \u001b[95mMAC-ATI0414\u001b[0m \u001b[1m\u001b[90m[INFO]\u001b[0m \u001b[2;32mNumber of epochs: 5\u001b[0m\n"
     ]
    },
    {
     "name": "stderr",
     "output_type": "stream",
     "text": [
      "\r"
     ]
    },
    {
     "data": {
      "application/vnd.jupyter.widget-view+json": {
       "model_id": "35c77b39459e4c1a8b5df31b05a4a712",
       "version_major": 2,
       "version_minor": 0
      },
      "text/plain": [
       "HBox(children=(FloatProgress(value=0.0, max=5.0), HTML(value='')))"
      ]
     },
     "metadata": {},
     "output_type": "display_data"
    },
    {
     "data": {
      "application/vnd.jupyter.widget-view+json": {
       "model_id": "",
       "version_major": 2,
       "version_minor": 0
      },
      "text/plain": [
       "HBox(children=(FloatProgress(value=0.0, max=467.0), HTML(value='')))"
      ]
     },
     "metadata": {},
     "output_type": "display_data"
    },
    {
     "name": "stdout",
     "output_type": "stream",
     "text": [
      "\n",
      "\n",
      "\n",
      "====================\n",
      "Total number of params: 627303\n",
      "\n",
      "two_parallel_rnns (\n",
      "  (emb): Embedding(7543, 60), weights=((7543, 60),), parameters=452580\n",
      "  (rnn_1): GRU(60, 60, num_layers=2, dropout=0.01, bidirectional=True), weights=((180, 60), (180, 60), (180,), (180,), (180, 60), (180, 60), (180,), (180,), (180, 120), (180, 60), (180,), (180,), (180, 120), (180, 60), (180,), (180,)), parameters=109440\n",
      "  (attn_step1): Linear(in_features=120, out_features=60, bias=True), weights=((60, 120), (60,)), parameters=7260\n",
      "  (attn_step2): Linear(in_features=60, out_features=1, bias=True), weights=((1, 60), (1,)), parameters=61\n",
      "  (fc1): Linear(in_features=480, out_features=120, bias=True), weights=((120, 480), (120,)), parameters=57720\n",
      "  (fc2): Linear(in_features=120, out_features=2, bias=True), weights=((2, 120), (2,)), parameters=242\n",
      ")\n",
      "====================\n",
      "\n",
      "\n",
      "\u001b[92m2020-12-07 09:38:04\u001b[0m \u001b[95mMAC-ATI0414\u001b[0m \u001b[1m\u001b[90m[INFO]\u001b[0m \u001b[0;33m12/07/2020_09:38:04 -- Epoch: 1/5; Train; loss: 0.197; acc: 0.918; precision: 0.906, recall: 0.937, macrof1: 0.918, weightedf1: 0.918\u001b[0m\n"
     ]
    },
    {
     "data": {
      "application/vnd.jupyter.widget-view+json": {
       "model_id": "",
       "version_major": 2,
       "version_minor": 0
      },
      "text/plain": [
       "HBox(children=(FloatProgress(value=0.0, max=117.0), HTML(value='')))"
      ]
     },
     "metadata": {},
     "output_type": "display_data"
    },
    {
     "name": "stdout",
     "output_type": "stream",
     "text": [
      "\u001b[92m2020-12-07 09:38:06\u001b[0m \u001b[95mMAC-ATI0414\u001b[0m \u001b[1m\u001b[90m[INFO]\u001b[0m \u001b[1;31m12/07/2020_09:38:06 -- Epoch: 1/5; Valid; loss: 1.168; acc: 0.717; precision: 0.648, recall: 0.975, macrof1: 0.693, weightedf1: 0.695\u001b[0m\n",
      "\u001b[92m2020-12-07 09:38:06\u001b[0m \u001b[95mMAC-ATI0414\u001b[0m \u001b[1m\u001b[90m[INFO]\u001b[0m \u001b[1;32msaving the model\u001b[0m\n"
     ]
    },
    {
     "data": {
      "application/vnd.jupyter.widget-view+json": {
       "model_id": "",
       "version_major": 2,
       "version_minor": 0
      },
      "text/plain": [
       "HBox(children=(FloatProgress(value=0.0, max=467.0), HTML(value='')))"
      ]
     },
     "metadata": {},
     "output_type": "display_data"
    },
    {
     "name": "stdout",
     "output_type": "stream",
     "text": [
      "\u001b[92m2020-12-07 09:38:56\u001b[0m \u001b[95mMAC-ATI0414\u001b[0m \u001b[1m\u001b[90m[INFO]\u001b[0m \u001b[0;33m12/07/2020_09:38:56 -- Epoch: 2/5; Train; loss: 0.065; acc: 0.982; precision: 0.989, recall: 0.977, macrof1: 0.982, weightedf1: 0.982\u001b[0m\n"
     ]
    },
    {
     "data": {
      "application/vnd.jupyter.widget-view+json": {
       "model_id": "",
       "version_major": 2,
       "version_minor": 0
      },
      "text/plain": [
       "HBox(children=(FloatProgress(value=0.0, max=117.0), HTML(value='')))"
      ]
     },
     "metadata": {},
     "output_type": "display_data"
    },
    {
     "name": "stdout",
     "output_type": "stream",
     "text": [
      "\u001b[92m2020-12-07 09:38:58\u001b[0m \u001b[95mMAC-ATI0414\u001b[0m \u001b[1m\u001b[90m[INFO]\u001b[0m \u001b[1;31m12/07/2020_09:38:58 -- Epoch: 2/5; Valid; loss: 0.758; acc: 0.783; precision: 0.712, recall: 0.966, macrof1: 0.774, weightedf1: 0.775\u001b[0m\n",
      "\u001b[92m2020-12-07 09:38:58\u001b[0m \u001b[95mMAC-ATI0414\u001b[0m \u001b[1m\u001b[90m[INFO]\u001b[0m \u001b[1;32msaving the model\u001b[0m\n"
     ]
    },
    {
     "data": {
      "application/vnd.jupyter.widget-view+json": {
       "model_id": "",
       "version_major": 2,
       "version_minor": 0
      },
      "text/plain": [
       "HBox(children=(FloatProgress(value=0.0, max=467.0), HTML(value='')))"
      ]
     },
     "metadata": {},
     "output_type": "display_data"
    },
    {
     "name": "stdout",
     "output_type": "stream",
     "text": [
      "\u001b[92m2020-12-07 09:39:46\u001b[0m \u001b[95mMAC-ATI0414\u001b[0m \u001b[1m\u001b[90m[INFO]\u001b[0m \u001b[0;33m12/07/2020_09:39:46 -- Epoch: 3/5; Train; loss: 0.049; acc: 0.987; precision: 0.992, recall: 0.983, macrof1: 0.987, weightedf1: 0.987\u001b[0m\n"
     ]
    },
    {
     "data": {
      "application/vnd.jupyter.widget-view+json": {
       "model_id": "",
       "version_major": 2,
       "version_minor": 0
      },
      "text/plain": [
       "HBox(children=(FloatProgress(value=0.0, max=117.0), HTML(value='')))"
      ]
     },
     "metadata": {},
     "output_type": "display_data"
    },
    {
     "name": "stdout",
     "output_type": "stream",
     "text": [
      "\u001b[92m2020-12-07 09:39:48\u001b[0m \u001b[95mMAC-ATI0414\u001b[0m \u001b[1m\u001b[90m[INFO]\u001b[0m \u001b[1;31m12/07/2020_09:39:48 -- Epoch: 3/5; Valid; loss: 1.643; acc: 0.690; precision: 0.626, recall: 0.974, macrof1: 0.658, weightedf1: 0.661\u001b[0m\n",
      "\u001b[92m2020-12-07 09:39:48\u001b[0m \u001b[95mMAC-ATI0414\u001b[0m \u001b[1m\u001b[90m[INFO]\u001b[0m \u001b[1;32msaving the model (early stopped) with least valid loss (checkpoint: 2) at ./models/BL_model/BL_model.model\u001b[0m\n",
      "\u001b[92m2020-12-07 09:39:48\u001b[0m \u001b[95mMAC-ATI0414\u001b[0m \u001b[1m\u001b[90m[INFO]\u001b[0m \u001b[1;32msaving the model\u001b[0m\n",
      "\u001b[92m2020-12-07 09:39:48\u001b[0m \u001b[95mMAC-ATI0414\u001b[0m \u001b[1m\u001b[90m[INFO]\u001b[0m \u001b[2;32mEarly stopping at epoch: 3, selected epoch: 2\u001b[0m\n",
      "\n",
      "\n",
      "\n",
      "\n",
      "====================\n",
      "User time: 153.4943\n",
      "====================\n"
     ]
    }
   ],
   "source": [
    "from DeezyMatch import train as dm_train\n",
    "\n",
    "# train a new model\n",
    "dm_train(input_file_path=\"./inputs/input_dfm_demo2.yaml\", \n",
    "         dataset_path=\"../../dataset/BL_IAMS_geonames.tsv\",\n",
    "         model_name=\"BL_model\")"
   ]
  },
  {
   "cell_type": "markdown",
   "metadata": {},
   "source": [
    "## Finetune a pretrained model"
   ]
  },
  {
   "cell_type": "code",
   "execution_count": 2,
   "metadata": {
    "scrolled": true
   },
   "outputs": [],
   "source": [
    "# from DeezyMatch import finetune as dm_finetune\n",
    "\n",
    "# # fine-tune a pretrained model stored at pretrained_model_path and pretrained_vocab_path \n",
    "# dm_finetune(input_file_path=\"./inputs/input_dfm_demo2.yaml\", \n",
    "#             dataset_path=\"../../dataset/BL_IAMS_geonames.tsv\", \n",
    "#             model_name=\"ft_BL_model\",\n",
    "#             pretrained_model_path=\"./models/BL_model/BL_model.model\", \n",
    "#             pretrained_vocab_path=\"./models/BL_model/BL_model.vocab\")"
   ]
  },
  {
   "cell_type": "markdown",
   "metadata": {},
   "source": [
    "## Model inference"
   ]
  },
  {
   "cell_type": "code",
   "execution_count": 3,
   "metadata": {
    "scrolled": true
   },
   "outputs": [
    {
     "name": "stdout",
     "output_type": "stream",
     "text": [
      "\u001b[92m2020-12-07 09:40:35\u001b[0m \u001b[95mMAC-ATI0414\u001b[0m \u001b[1m\u001b[90m[INFO]\u001b[0m \u001b[2;32mread input file: ./inputs/input_dfm_demo2.yaml\u001b[0m\n",
      "\u001b[92m2020-12-07 09:40:35\u001b[0m \u001b[95mMAC-ATI0414\u001b[0m \u001b[1m\u001b[90m[INFO]\u001b[0m \u001b[1;31mGPU was requested but not available.\u001b[0m\n",
      "\u001b[92m2020-12-07 09:40:35\u001b[0m \u001b[95mMAC-ATI0414\u001b[0m \u001b[1m\u001b[90m[INFO]\u001b[0m \u001b[1;32mpytorch will use: cpu\u001b[0m\n",
      "\u001b[92m2020-12-07 09:40:35\u001b[0m \u001b[95mMAC-ATI0414\u001b[0m \u001b[1m\u001b[90m[INFO]\u001b[0m \u001b[2;32mread CSV file: ../../dataset/BL_IAMS_geonames.tsv\u001b[0m\n",
      "\u001b[92m2020-12-07 09:40:35\u001b[0m \u001b[95mMAC-ATI0414\u001b[0m \u001b[1m\u001b[90m[INFO]\u001b[0m \u001b[1;32mnumber of labels, True: 9532 and False: 9135\u001b[0m\n"
     ]
    },
    {
     "name": "stderr",
     "output_type": "stream",
     "text": [
      "s2 padding:   0%|          | 0/18667 [00:00<?, ?it/s]"
     ]
    },
    {
     "name": "stdout",
     "output_type": "stream",
     "text": [
      "\u001b[92m2020-12-07 09:40:35\u001b[0m \u001b[95mMAC-ATI0414\u001b[0m \u001b[1m\u001b[90m[INFO]\u001b[0m \u001b[2;32mskipping 0 lines\u001b[0m\n"
     ]
    },
    {
     "name": "stderr",
     "output_type": "stream",
     "text": [
      "                                                     \r"
     ]
    },
    {
     "data": {
      "application/vnd.jupyter.widget-view+json": {
       "model_id": "",
       "version_major": 2,
       "version_minor": 0
      },
      "text/plain": [
       "HBox(children=(FloatProgress(value=0.0, max=584.0), HTML(value='')))"
      ]
     },
     "metadata": {},
     "output_type": "display_data"
    },
    {
     "name": "stdout",
     "output_type": "stream",
     "text": [
      "\u001b[92m2020-12-07 09:40:45\u001b[0m \u001b[95mMAC-ATI0414\u001b[0m \u001b[1m\u001b[90m[INFO]\u001b[0m \u001b[1;31m12/07/2020_09:40:45 -- Epoch: 0/0; Test; loss: 0.195; acc: 0.945; precision: 0.920, recall: 0.977, macrof1: 0.945, weightedf1: 0.945\u001b[0m\n",
      "--- 9.397141933441162 seconds ---\n"
     ]
    }
   ],
   "source": [
    "from DeezyMatch import inference as dm_inference\n",
    "\n",
    "# model inference using a model stored at pretrained_model_path and pretrained_vocab_path \n",
    "dm_inference(input_file_path=\"./inputs/input_dfm_demo2.yaml\",\n",
    "             dataset_path=\"../../dataset/BL_IAMS_geonames.tsv\", \n",
    "             pretrained_model_path=\"./models/BL_model/BL_model.model\", \n",
    "             pretrained_vocab_path=\"./models/BL_model/BL_model.vocab\")"
   ]
  },
  {
   "cell_type": "markdown",
   "metadata": {},
   "source": [
    "## Generate query vectors"
   ]
  },
  {
   "cell_type": "code",
   "execution_count": 4,
   "metadata": {},
   "outputs": [
    {
     "name": "stderr",
     "output_type": "stream",
     "text": [
      "                                                  "
     ]
    },
    {
     "name": "stdout",
     "output_type": "stream",
     "text": [
      "\u001b[92m2020-12-07 09:40:56\u001b[0m \u001b[95mMAC-ATI0414\u001b[0m \u001b[1m\u001b[90m[INFO]\u001b[0m \u001b[2;32mread input file: ./inputs/input_dfm_demo2.yaml\u001b[0m\n",
      "\u001b[92m2020-12-07 09:40:57\u001b[0m \u001b[95mMAC-ATI0414\u001b[0m \u001b[1m\u001b[90m[INFO]\u001b[0m \u001b[1;31mGPU was requested but not available.\u001b[0m\n",
      "\u001b[92m2020-12-07 09:40:57\u001b[0m \u001b[95mMAC-ATI0414\u001b[0m \u001b[1m\u001b[90m[INFO]\u001b[0m \u001b[1;32mpytorch will use: cpu\u001b[0m\n",
      "\u001b[92m2020-12-07 09:40:57\u001b[0m \u001b[95mMAC-ATI0414\u001b[0m \u001b[1m\u001b[90m[INFO]\u001b[0m \u001b[2;32mread CSV file: ../../query_scenarios/ukcounties_queries.txt\u001b[0m\n",
      "\u001b[92m2020-12-07 09:40:57\u001b[0m \u001b[95mMAC-ATI0414\u001b[0m \u001b[1m\u001b[90m[INFO]\u001b[0m \u001b[1;32mnumber of labels, True: 0 and False: 35\u001b[0m\n",
      "\u001b[92m2020-12-07 09:40:57\u001b[0m \u001b[95mMAC-ATI0414\u001b[0m \u001b[1m\u001b[90m[INFO]\u001b[0m \u001b[2;32mskipping 0 lines\u001b[0m\n",
      "\u001b[92m2020-12-07 09:40:57\u001b[0m \u001b[95mMAC-ATI0414\u001b[0m \u001b[1m\u001b[90m[INFO]\u001b[0m \u001b[2;32msave test-data-class: /Users/khosseini/myJobs/ATI/Projects/2019/LaNC-workshop/deezymatch/demos/demo2_toy_dataset/queries/demo2/dataframe.df\u001b[0m\n"
     ]
    },
    {
     "name": "stderr",
     "output_type": "stream",
     "text": [
      "\r"
     ]
    },
    {
     "data": {
      "application/vnd.jupyter.widget-view+json": {
       "model_id": "",
       "version_major": 2,
       "version_minor": 0
      },
      "text/plain": [
       "HBox(children=(FloatProgress(value=0.0, max=2.0), HTML(value='')))"
      ]
     },
     "metadata": {},
     "output_type": "display_data"
    },
    {
     "name": "stdout",
     "output_type": "stream",
     "text": [
      "--- 0.09249496459960938 seconds ---\n"
     ]
    }
   ],
   "source": [
    "from DeezyMatch import inference as dm_inference\n",
    "\n",
    "# generate vectors for queries (specified in dataset_path) \n",
    "# using a model stored at pretrained_model_path and pretrained_vocab_path \n",
    "dm_inference(input_file_path=\"./inputs/input_dfm_demo2.yaml\",\n",
    "            dataset_path=\"../../query_scenarios/ukcounties_queries.txt\", \n",
    "            pretrained_model_path=\"./models/BL_model/BL_model.model\", \n",
    "            pretrained_vocab_path=\"./models/BL_model/BL_model.vocab\",\n",
    "            inference_mode=\"vect\",\n",
    "            scenario=\"queries/demo2\")"
   ]
  },
  {
   "cell_type": "markdown",
   "metadata": {},
   "source": [
    "## Generate candidate vectors"
   ]
  },
  {
   "cell_type": "code",
   "execution_count": 5,
   "metadata": {},
   "outputs": [
    {
     "name": "stderr",
     "output_type": "stream",
     "text": [
      "                                                  "
     ]
    },
    {
     "name": "stdout",
     "output_type": "stream",
     "text": [
      "\u001b[92m2020-12-07 09:41:06\u001b[0m \u001b[95mMAC-ATI0414\u001b[0m \u001b[1m\u001b[90m[INFO]\u001b[0m \u001b[2;32mread input file: ./inputs/input_dfm_demo2.yaml\u001b[0m\n",
      "\u001b[92m2020-12-07 09:41:06\u001b[0m \u001b[95mMAC-ATI0414\u001b[0m \u001b[1m\u001b[90m[INFO]\u001b[0m \u001b[1;31mGPU was requested but not available.\u001b[0m\n",
      "\u001b[92m2020-12-07 09:41:06\u001b[0m \u001b[95mMAC-ATI0414\u001b[0m \u001b[1m\u001b[90m[INFO]\u001b[0m \u001b[1;32mpytorch will use: cpu\u001b[0m\n",
      "\u001b[92m2020-12-07 09:41:06\u001b[0m \u001b[95mMAC-ATI0414\u001b[0m \u001b[1m\u001b[90m[INFO]\u001b[0m \u001b[2;32mread CSV file: ../../candidate_scenarios/ukcounties_candidates.txt\u001b[0m\n",
      "\u001b[92m2020-12-07 09:41:06\u001b[0m \u001b[95mMAC-ATI0414\u001b[0m \u001b[1m\u001b[90m[INFO]\u001b[0m \u001b[1;32mnumber of labels, True: 0 and False: 94\u001b[0m\n",
      "\u001b[92m2020-12-07 09:41:06\u001b[0m \u001b[95mMAC-ATI0414\u001b[0m \u001b[1m\u001b[90m[INFO]\u001b[0m \u001b[2;32mskipping 0 lines\u001b[0m\n",
      "\u001b[92m2020-12-07 09:41:06\u001b[0m \u001b[95mMAC-ATI0414\u001b[0m \u001b[1m\u001b[90m[INFO]\u001b[0m \u001b[2;32msave test-data-class: /Users/khosseini/myJobs/ATI/Projects/2019/LaNC-workshop/deezymatch/demos/demo2_toy_dataset/candidates/demo2/dataframe.df\u001b[0m\n"
     ]
    },
    {
     "name": "stderr",
     "output_type": "stream",
     "text": [
      "\r"
     ]
    },
    {
     "data": {
      "application/vnd.jupyter.widget-view+json": {
       "model_id": "",
       "version_major": 2,
       "version_minor": 0
      },
      "text/plain": [
       "HBox(children=(FloatProgress(value=0.0, max=3.0), HTML(value='')))"
      ]
     },
     "metadata": {},
     "output_type": "display_data"
    },
    {
     "name": "stdout",
     "output_type": "stream",
     "text": [
      "--- 0.10760092735290527 seconds ---\n"
     ]
    }
   ],
   "source": [
    "from DeezyMatch import inference as dm_inference\n",
    "\n",
    "# generate vectors for candidates (specified in dataset_path) \n",
    "# using a model stored at pretrained_model_path and pretrained_vocab_path \n",
    "dm_inference(input_file_path=\"./inputs/input_dfm_demo2.yaml\",\n",
    "            dataset_path=\"../../candidate_scenarios/ukcounties_candidates.txt\", \n",
    "            pretrained_model_path=\"./models/BL_model/BL_model.model\", \n",
    "            pretrained_vocab_path=\"./models/BL_model/BL_model.vocab\",\n",
    "            inference_mode=\"vect\",\n",
    "            scenario=\"candidates/demo2\")"
   ]
  },
  {
   "cell_type": "markdown",
   "metadata": {},
   "source": [
    "## Assembling queries vector representations"
   ]
  },
  {
   "cell_type": "code",
   "execution_count": 6,
   "metadata": {
    "scrolled": true
   },
   "outputs": [
    {
     "name": "stdout",
     "output_type": "stream",
     "text": [
      "\u001b[92m2020-12-07 09:41:14\u001b[0m \u001b[95mMAC-ATI0414\u001b[0m \u001b[1m\u001b[90m[INFO]\u001b[0m \u001b[2;32mread input file: queries/demo2/input_dfm_demo2.yaml\u001b[0m\n",
      "\u001b[92m2020-12-07 09:41:14\u001b[0m \u001b[95mMAC-ATI0414\u001b[0m \u001b[1m\u001b[90m[INFO]\u001b[0m \u001b[1;31mGPU was requested but not available.\u001b[0m\n",
      "\u001b[92m2020-12-07 09:41:14\u001b[0m \u001b[95mMAC-ATI0414\u001b[0m \u001b[1m\u001b[90m[INFO]\u001b[0m \u001b[1;32mpytorch will use: cpu\u001b[0m\n",
      "\n",
      "\n",
      "-- Combine vectors\n",
      "Reading vectors from queries/demo2/embeddings/rnn_fwd*\n",
      "0000000 queries/demo2/embeddings/rnn_fwd_0\n",
      "\n",
      "\n",
      "-- Combine IDs\n",
      "0000000 queries/demo2/embeddings/rnn_indxs_0\n",
      "\n",
      "\n",
      "\n",
      "-- Combine vectors\n",
      "Reading vectors from queries/demo2/embeddings/rnn_bwd*\n",
      "0000000 queries/demo2/embeddings/rnn_bwd_0\n",
      "\n",
      "\n",
      "-- Combine IDs\n",
      "0000000 queries/demo2/embeddings/rnn_indxs_0\n",
      "\n",
      "--- 239.859530210495 seconds ---\n"
     ]
    }
   ],
   "source": [
    "from DeezyMatch import combine_vecs\n",
    "\n",
    "# combine vectors stored in queries/test and save them in combined/queries_test\n",
    "combine_vecs(rnn_passes=['fwd', 'bwd'], \n",
    "             input_scenario='queries/demo2', \n",
    "             output_scenario='combined/queries_demo2', \n",
    "             print_every=10)"
   ]
  },
  {
   "cell_type": "markdown",
   "metadata": {},
   "source": [
    "## Assembling candidates vector representations"
   ]
  },
  {
   "cell_type": "code",
   "execution_count": 7,
   "metadata": {
    "scrolled": true
   },
   "outputs": [
    {
     "name": "stdout",
     "output_type": "stream",
     "text": [
      "\u001b[92m2020-12-07 09:41:15\u001b[0m \u001b[95mMAC-ATI0414\u001b[0m \u001b[1m\u001b[90m[INFO]\u001b[0m \u001b[2;32mread input file: candidates/demo2/input_dfm_demo2.yaml\u001b[0m\n",
      "\u001b[92m2020-12-07 09:41:15\u001b[0m \u001b[95mMAC-ATI0414\u001b[0m \u001b[1m\u001b[90m[INFO]\u001b[0m \u001b[1;31mGPU was requested but not available.\u001b[0m\n",
      "\u001b[92m2020-12-07 09:41:15\u001b[0m \u001b[95mMAC-ATI0414\u001b[0m \u001b[1m\u001b[90m[INFO]\u001b[0m \u001b[1;32mpytorch will use: cpu\u001b[0m\n",
      "\n",
      "\n",
      "-- Combine vectors\n",
      "Reading vectors from candidates/demo2/embeddings/rnn_fwd*\n",
      "0000000 candidates/demo2/embeddings/rnn_fwd_0\n",
      "\n",
      "\n",
      "-- Combine IDs\n",
      "0000000 candidates/demo2/embeddings/rnn_indxs_0\n",
      "\n",
      "\n",
      "\n",
      "-- Combine vectors\n",
      "Reading vectors from candidates/demo2/embeddings/rnn_bwd*\n",
      "0000000 candidates/demo2/embeddings/rnn_bwd_0\n",
      "\n",
      "\n",
      "-- Combine IDs\n",
      "0000000 candidates/demo2/embeddings/rnn_indxs_0\n",
      "\n",
      "--- 240.6270911693573 seconds ---\n"
     ]
    }
   ],
   "source": [
    "from DeezyMatch import combine_vecs\n",
    "\n",
    "# combine vectors stored in candidates/test and save them in combined/candidates_test\n",
    "combine_vecs(rnn_passes=['fwd', 'bwd'], \n",
    "             input_scenario='candidates/demo2', \n",
    "             output_scenario='combined/candidates_demo2', \n",
    "             print_every=10)"
   ]
  },
  {
   "cell_type": "markdown",
   "metadata": {},
   "source": [
    "## Candidate Ranker"
   ]
  },
  {
   "cell_type": "code",
   "execution_count": 8,
   "metadata": {
    "scrolled": true
   },
   "outputs": [
    {
     "name": "stderr",
     "output_type": "stream",
     "text": [
      "                                                 "
     ]
    },
    {
     "name": "stdout",
     "output_type": "stream",
     "text": [
      "\u001b[92m2020-12-07 09:41:20\u001b[0m \u001b[95mMAC-ATI0414\u001b[0m \u001b[1m\u001b[90m[INFO]\u001b[0m \u001b[2;32mread input file: ./combined/candidates_demo2/input_dfm_demo2.yaml\u001b[0m\n",
      "\u001b[92m2020-12-07 09:41:20\u001b[0m \u001b[95mMAC-ATI0414\u001b[0m \u001b[1m\u001b[90m[INFO]\u001b[0m \u001b[1;31mGPU was requested but not available.\u001b[0m\n",
      "\u001b[92m2020-12-07 09:41:20\u001b[0m \u001b[95mMAC-ATI0414\u001b[0m \u001b[1m\u001b[90m[INFO]\u001b[0m \u001b[1;32mpytorch will use: cpu\u001b[0m\n",
      "Is faiss_id_candis already trained? True\n",
      "=========== Start the search for 0 E Ayrshire\n"
     ]
    },
    {
     "name": "stderr",
     "output_type": "stream",
     "text": [
      "\r"
     ]
    },
    {
     "data": {
      "application/vnd.jupyter.widget-view+json": {
       "model_id": "",
       "version_major": 2,
       "version_minor": 0
      },
      "text/plain": [
       "HBox(children=(FloatProgress(value=0.0, max=1.0), HTML(value='')))"
      ]
     },
     "metadata": {},
     "output_type": "display_data"
    },
    {
     "name": "stderr",
     "output_type": "stream",
     "text": [
      "                                                 "
     ]
    },
    {
     "name": "stdout",
     "output_type": "stream",
     "text": [
      "ID: 1/35 -- Number of found candidates so far: 5, searched: 5\n",
      "=========== Start the search for 1 North Lanarcshire\n"
     ]
    },
    {
     "name": "stderr",
     "output_type": "stream",
     "text": [
      "\r"
     ]
    },
    {
     "data": {
      "application/vnd.jupyter.widget-view+json": {
       "model_id": "",
       "version_major": 2,
       "version_minor": 0
      },
      "text/plain": [
       "HBox(children=(FloatProgress(value=0.0, max=1.0), HTML(value='')))"
      ]
     },
     "metadata": {},
     "output_type": "display_data"
    },
    {
     "name": "stdout",
     "output_type": "stream",
     "text": [
      "ID: 2/35 -- Number of found candidates so far: 5, searched: 5\n",
      "=========== Start the search for 2"
     ]
    },
    {
     "name": "stderr",
     "output_type": "stream",
     "text": [
      "                                                 "
     ]
    },
    {
     "name": "stdout",
     "output_type": "stream",
     "text": [
      " N. Yorksh\n"
     ]
    },
    {
     "name": "stderr",
     "output_type": "stream",
     "text": [
      "\r"
     ]
    },
    {
     "data": {
      "application/vnd.jupyter.widget-view+json": {
       "model_id": "",
       "version_major": 2,
       "version_minor": 0
      },
      "text/plain": [
       "HBox(children=(FloatProgress(value=0.0, max=1.0), HTML(value='')))"
      ]
     },
     "metadata": {},
     "output_type": "display_data"
    },
    {
     "name": "stderr",
     "output_type": "stream",
     "text": [
      "                                                 "
     ]
    },
    {
     "name": "stdout",
     "output_type": "stream",
     "text": [
      "ID: 3/35 -- Number of found candidates so far: 5, searched: 5\n",
      "=========== Start the search for 3 N.amptonshire\n"
     ]
    },
    {
     "name": "stderr",
     "output_type": "stream",
     "text": [
      "\r"
     ]
    },
    {
     "data": {
      "application/vnd.jupyter.widget-view+json": {
       "model_id": "",
       "version_major": 2,
       "version_minor": 0
      },
      "text/plain": [
       "HBox(children=(FloatProgress(value=0.0, max=1.0), HTML(value='')))"
      ]
     },
     "metadata": {},
     "output_type": "display_data"
    },
    {
     "name": "stderr",
     "output_type": "stream",
     "text": [
      "                                                 "
     ]
    },
    {
     "name": "stdout",
     "output_type": "stream",
     "text": [
      "ID: 4/35 -- Number of found candidates so far: 5, searched: 5\n",
      "=========== Start the search for 4 Northumbld\n"
     ]
    },
    {
     "name": "stderr",
     "output_type": "stream",
     "text": [
      "\r"
     ]
    },
    {
     "data": {
      "application/vnd.jupyter.widget-view+json": {
       "model_id": "",
       "version_major": 2,
       "version_minor": 0
      },
      "text/plain": [
       "HBox(children=(FloatProgress(value=0.0, max=1.0), HTML(value='')))"
      ]
     },
     "metadata": {},
     "output_type": "display_data"
    },
    {
     "name": "stderr",
     "output_type": "stream",
     "text": [
      "                                                 "
     ]
    },
    {
     "name": "stdout",
     "output_type": "stream",
     "text": [
      "ID: 5/35 -- Number of found candidates so far: 5, searched: 5\n",
      "=========== Start the search for 5 Northumberl\n"
     ]
    },
    {
     "name": "stderr",
     "output_type": "stream",
     "text": [
      "\r"
     ]
    },
    {
     "data": {
      "application/vnd.jupyter.widget-view+json": {
       "model_id": "",
       "version_major": 2,
       "version_minor": 0
      },
      "text/plain": [
       "HBox(children=(FloatProgress(value=0.0, max=1.0), HTML(value='')))"
      ]
     },
     "metadata": {},
     "output_type": "display_data"
    },
    {
     "name": "stderr",
     "output_type": "stream",
     "text": [
      "                                                 "
     ]
    },
    {
     "name": "stdout",
     "output_type": "stream",
     "text": [
      "ID: 6/35 -- Number of found candidates so far: 5, searched: 5\n",
      "=========== Start the search for 6 Nottingham shire\n"
     ]
    },
    {
     "name": "stderr",
     "output_type": "stream",
     "text": [
      "\r"
     ]
    },
    {
     "data": {
      "application/vnd.jupyter.widget-view+json": {
       "model_id": "",
       "version_major": 2,
       "version_minor": 0
      },
      "text/plain": [
       "HBox(children=(FloatProgress(value=0.0, max=1.0), HTML(value='')))"
      ]
     },
     "metadata": {},
     "output_type": "display_data"
    },
    {
     "name": "stderr",
     "output_type": "stream",
     "text": [
      "                                                 "
     ]
    },
    {
     "name": "stdout",
     "output_type": "stream",
     "text": [
      "ID: 7/35 -- Number of found candidates so far: 5, searched: 5\n",
      "=========== Start the search for 7 Orkneys\n"
     ]
    },
    {
     "name": "stderr",
     "output_type": "stream",
     "text": [
      "\r"
     ]
    },
    {
     "data": {
      "application/vnd.jupyter.widget-view+json": {
       "model_id": "",
       "version_major": 2,
       "version_minor": 0
      },
      "text/plain": [
       "HBox(children=(FloatProgress(value=0.0, max=1.0), HTML(value='')))"
      ]
     },
     "metadata": {},
     "output_type": "display_data"
    },
    {
     "name": "stderr",
     "output_type": "stream",
     "text": [
      "                                                 "
     ]
    },
    {
     "name": "stdout",
     "output_type": "stream",
     "text": [
      "ID: 8/35 -- Number of found candidates so far: 5, searched: 5\n",
      "=========== Start the search for 8 Pembrockshire\n"
     ]
    },
    {
     "name": "stderr",
     "output_type": "stream",
     "text": [
      "\r"
     ]
    },
    {
     "data": {
      "application/vnd.jupyter.widget-view+json": {
       "model_id": "",
       "version_major": 2,
       "version_minor": 0
      },
      "text/plain": [
       "HBox(children=(FloatProgress(value=0.0, max=1.0), HTML(value='')))"
      ]
     },
     "metadata": {},
     "output_type": "display_data"
    },
    {
     "name": "stderr",
     "output_type": "stream",
     "text": [
      "                                                 "
     ]
    },
    {
     "name": "stdout",
     "output_type": "stream",
     "text": [
      "ID: 9/35 -- Number of found candidates so far: 5, searched: 5\n",
      "=========== Start the search for 9 Perth&Kinross\n"
     ]
    },
    {
     "name": "stderr",
     "output_type": "stream",
     "text": [
      "\r"
     ]
    },
    {
     "data": {
      "application/vnd.jupyter.widget-view+json": {
       "model_id": "",
       "version_major": 2,
       "version_minor": 0
      },
      "text/plain": [
       "HBox(children=(FloatProgress(value=0.0, max=1.0), HTML(value='')))"
      ]
     },
     "metadata": {},
     "output_type": "display_data"
    },
    {
     "name": "stderr",
     "output_type": "stream",
     "text": [
      "                                                 "
     ]
    },
    {
     "name": "stdout",
     "output_type": "stream",
     "text": [
      "ID: 10/35 -- Number of found candidates so far: 5, searched: 5\n",
      "=========== Start the search for 10 Perth-Kinross\n"
     ]
    },
    {
     "name": "stderr",
     "output_type": "stream",
     "text": [
      "\r"
     ]
    },
    {
     "data": {
      "application/vnd.jupyter.widget-view+json": {
       "model_id": "",
       "version_major": 2,
       "version_minor": 0
      },
      "text/plain": [
       "HBox(children=(FloatProgress(value=0.0, max=1.0), HTML(value='')))"
      ]
     },
     "metadata": {},
     "output_type": "display_data"
    },
    {
     "name": "stderr",
     "output_type": "stream",
     "text": [
      "                                                 "
     ]
    },
    {
     "name": "stdout",
     "output_type": "stream",
     "text": [
      "ID: 11/35 -- Number of found candidates so far: 5, searched: 5\n",
      "=========== Start the search for 11 Kinross\n"
     ]
    },
    {
     "name": "stderr",
     "output_type": "stream",
     "text": [
      "\r"
     ]
    },
    {
     "data": {
      "application/vnd.jupyter.widget-view+json": {
       "model_id": "",
       "version_major": 2,
       "version_minor": 0
      },
      "text/plain": [
       "HBox(children=(FloatProgress(value=0.0, max=1.0), HTML(value='')))"
      ]
     },
     "metadata": {},
     "output_type": "display_data"
    },
    {
     "name": "stderr",
     "output_type": "stream",
     "text": [
      "                                                 "
     ]
    },
    {
     "name": "stdout",
     "output_type": "stream",
     "text": [
      "ID: 12/35 -- Number of found candidates so far: 5, searched: 5\n",
      "=========== Start the search for 12 Radnorshire\n"
     ]
    },
    {
     "name": "stderr",
     "output_type": "stream",
     "text": [
      "\r"
     ]
    },
    {
     "data": {
      "application/vnd.jupyter.widget-view+json": {
       "model_id": "",
       "version_major": 2,
       "version_minor": 0
      },
      "text/plain": [
       "HBox(children=(FloatProgress(value=0.0, max=1.0), HTML(value='')))"
      ]
     },
     "metadata": {},
     "output_type": "display_data"
    },
    {
     "name": "stderr",
     "output_type": "stream",
     "text": [
      "                                                 "
     ]
    },
    {
     "name": "stdout",
     "output_type": "stream",
     "text": [
      "ID: 13/35 -- Number of found candidates so far: 5, searched: 5\n",
      "=========== Start the search for 13 Renfrew\n"
     ]
    },
    {
     "name": "stderr",
     "output_type": "stream",
     "text": [
      "\r"
     ]
    },
    {
     "data": {
      "application/vnd.jupyter.widget-view+json": {
       "model_id": "",
       "version_major": 2,
       "version_minor": 0
      },
      "text/plain": [
       "HBox(children=(FloatProgress(value=0.0, max=1.0), HTML(value='')))"
      ]
     },
     "metadata": {},
     "output_type": "display_data"
    },
    {
     "name": "stderr",
     "output_type": "stream",
     "text": [
      "                                                 "
     ]
    },
    {
     "name": "stdout",
     "output_type": "stream",
     "text": [
      "ID: 14/35 -- Number of found candidates so far: 5, searched: 5\n",
      "=========== Start the search for 14 Scot. Borders\n"
     ]
    },
    {
     "name": "stderr",
     "output_type": "stream",
     "text": [
      "\r"
     ]
    },
    {
     "data": {
      "application/vnd.jupyter.widget-view+json": {
       "model_id": "",
       "version_major": 2,
       "version_minor": 0
      },
      "text/plain": [
       "HBox(children=(FloatProgress(value=0.0, max=1.0), HTML(value='')))"
      ]
     },
     "metadata": {},
     "output_type": "display_data"
    },
    {
     "name": "stderr",
     "output_type": "stream",
     "text": [
      "                                                 "
     ]
    },
    {
     "name": "stdout",
     "output_type": "stream",
     "text": [
      "ID: 15/35 -- Number of found candidates so far: 5, searched: 5\n",
      "=========== Start the search for 15 Shetlands\n"
     ]
    },
    {
     "name": "stderr",
     "output_type": "stream",
     "text": [
      "\r"
     ]
    },
    {
     "data": {
      "application/vnd.jupyter.widget-view+json": {
       "model_id": "",
       "version_major": 2,
       "version_minor": 0
      },
      "text/plain": [
       "HBox(children=(FloatProgress(value=0.0, max=1.0), HTML(value='')))"
      ]
     },
     "metadata": {},
     "output_type": "display_data"
    },
    {
     "name": "stderr",
     "output_type": "stream",
     "text": [
      "                                                 "
     ]
    },
    {
     "name": "stdout",
     "output_type": "stream",
     "text": [
      "ID: 16/35 -- Number of found candidates so far: 5, searched: 5\n",
      "=========== Start the search for 16 Shrops\n"
     ]
    },
    {
     "name": "stderr",
     "output_type": "stream",
     "text": [
      "\r"
     ]
    },
    {
     "data": {
      "application/vnd.jupyter.widget-view+json": {
       "model_id": "",
       "version_major": 2,
       "version_minor": 0
      },
      "text/plain": [
       "HBox(children=(FloatProgress(value=0.0, max=1.0), HTML(value='')))"
      ]
     },
     "metadata": {},
     "output_type": "display_data"
    },
    {
     "name": "stderr",
     "output_type": "stream",
     "text": [
      "                                                 "
     ]
    },
    {
     "name": "stdout",
     "output_type": "stream",
     "text": [
      "ID: 17/35 -- Number of found candidates so far: 5, searched: 5\n",
      "=========== Start the search for 17 SOMERSUTSIIIIE\n"
     ]
    },
    {
     "name": "stderr",
     "output_type": "stream",
     "text": [
      "\r"
     ]
    },
    {
     "data": {
      "application/vnd.jupyter.widget-view+json": {
       "model_id": "",
       "version_major": 2,
       "version_minor": 0
      },
      "text/plain": [
       "HBox(children=(FloatProgress(value=0.0, max=1.0), HTML(value='')))"
      ]
     },
     "metadata": {},
     "output_type": "display_data"
    },
    {
     "name": "stderr",
     "output_type": "stream",
     "text": [
      "                                                 "
     ]
    },
    {
     "name": "stdout",
     "output_type": "stream",
     "text": [
      "ID: 18/35 -- Number of found candidates so far: 5, searched: 5\n",
      "=========== Start the search for 18 S Ayrshire\n"
     ]
    },
    {
     "name": "stderr",
     "output_type": "stream",
     "text": [
      "\r"
     ]
    },
    {
     "data": {
      "application/vnd.jupyter.widget-view+json": {
       "model_id": "",
       "version_major": 2,
       "version_minor": 0
      },
      "text/plain": [
       "HBox(children=(FloatProgress(value=0.0, max=1.0), HTML(value='')))"
      ]
     },
     "metadata": {},
     "output_type": "display_data"
    },
    {
     "name": "stderr",
     "output_type": "stream",
     "text": [
      "                                                 "
     ]
    },
    {
     "name": "stdout",
     "output_type": "stream",
     "text": [
      "ID: 19/35 -- Number of found candidates so far: 5, searched: 5\n",
      "=========== Start the search for 19 S. Lanarkshire\n"
     ]
    },
    {
     "name": "stderr",
     "output_type": "stream",
     "text": [
      "\r"
     ]
    },
    {
     "data": {
      "application/vnd.jupyter.widget-view+json": {
       "model_id": "",
       "version_major": 2,
       "version_minor": 0
      },
      "text/plain": [
       "HBox(children=(FloatProgress(value=0.0, max=1.0), HTML(value='')))"
      ]
     },
     "metadata": {},
     "output_type": "display_data"
    },
    {
     "name": "stderr",
     "output_type": "stream",
     "text": [
      "                                                 "
     ]
    },
    {
     "name": "stdout",
     "output_type": "stream",
     "text": [
      "ID: 20/35 -- Number of found candidates so far: 5, searched: 5\n",
      "=========== Start the search for 20 South Yorkshire\n"
     ]
    },
    {
     "name": "stderr",
     "output_type": "stream",
     "text": [
      "\r"
     ]
    },
    {
     "data": {
      "application/vnd.jupyter.widget-view+json": {
       "model_id": "",
       "version_major": 2,
       "version_minor": 0
      },
      "text/plain": [
       "HBox(children=(FloatProgress(value=0.0, max=1.0), HTML(value='')))"
      ]
     },
     "metadata": {},
     "output_type": "display_data"
    },
    {
     "name": "stderr",
     "output_type": "stream",
     "text": [
      "                                                 "
     ]
    },
    {
     "name": "stdout",
     "output_type": "stream",
     "text": [
      "ID: 21/35 -- Number of found candidates so far: 5, searched: 5\n",
      "=========== Start the search for 21 Staffordshire\n"
     ]
    },
    {
     "name": "stderr",
     "output_type": "stream",
     "text": [
      "\r"
     ]
    },
    {
     "data": {
      "application/vnd.jupyter.widget-view+json": {
       "model_id": "",
       "version_major": 2,
       "version_minor": 0
      },
      "text/plain": [
       "HBox(children=(FloatProgress(value=0.0, max=1.0), HTML(value='')))"
      ]
     },
     "metadata": {},
     "output_type": "display_data"
    },
    {
     "name": "stderr",
     "output_type": "stream",
     "text": [
      "                                                 "
     ]
    },
    {
     "name": "stdout",
     "output_type": "stream",
     "text": [
      "ID: 22/35 -- Number of found candidates so far: 5, searched: 5\n",
      "=========== Start the search for 22 Sterling\n"
     ]
    },
    {
     "name": "stderr",
     "output_type": "stream",
     "text": [
      "\r"
     ]
    },
    {
     "data": {
      "application/vnd.jupyter.widget-view+json": {
       "model_id": "",
       "version_major": 2,
       "version_minor": 0
      },
      "text/plain": [
       "HBox(children=(FloatProgress(value=0.0, max=1.0), HTML(value='')))"
      ]
     },
     "metadata": {},
     "output_type": "display_data"
    },
    {
     "name": "stderr",
     "output_type": "stream",
     "text": [
      "                                                 "
     ]
    },
    {
     "name": "stdout",
     "output_type": "stream",
     "text": [
      "ID: 23/35 -- Number of found candidates so far: 5, searched: 5\n",
      "=========== Start the search for 23 Suffolk\n"
     ]
    },
    {
     "name": "stderr",
     "output_type": "stream",
     "text": [
      "\r"
     ]
    },
    {
     "data": {
      "application/vnd.jupyter.widget-view+json": {
       "model_id": "",
       "version_major": 2,
       "version_minor": 0
      },
      "text/plain": [
       "HBox(children=(FloatProgress(value=0.0, max=1.0), HTML(value='')))"
      ]
     },
     "metadata": {},
     "output_type": "display_data"
    },
    {
     "name": "stderr",
     "output_type": "stream",
     "text": [
      "                                                 "
     ]
    },
    {
     "name": "stdout",
     "output_type": "stream",
     "text": [
      "ID: 24/35 -- Number of found candidates so far: 5, searched: 5\n",
      "=========== Start the search for 24 Suff\n"
     ]
    },
    {
     "name": "stderr",
     "output_type": "stream",
     "text": [
      "\r"
     ]
    },
    {
     "data": {
      "application/vnd.jupyter.widget-view+json": {
       "model_id": "",
       "version_major": 2,
       "version_minor": 0
      },
      "text/plain": [
       "HBox(children=(FloatProgress(value=0.0, max=1.0), HTML(value='')))"
      ]
     },
     "metadata": {},
     "output_type": "display_data"
    },
    {
     "name": "stderr",
     "output_type": "stream",
     "text": [
      "                                                 "
     ]
    },
    {
     "name": "stdout",
     "output_type": "stream",
     "text": [
      "ID: 25/35 -- Number of found candidates so far: 5, searched: 5\n",
      "=========== Start the search for 25 Surrey\n"
     ]
    },
    {
     "name": "stderr",
     "output_type": "stream",
     "text": [
      "\r"
     ]
    },
    {
     "data": {
      "application/vnd.jupyter.widget-view+json": {
       "model_id": "",
       "version_major": 2,
       "version_minor": 0
      },
      "text/plain": [
       "HBox(children=(FloatProgress(value=0.0, max=1.0), HTML(value='')))"
      ]
     },
     "metadata": {},
     "output_type": "display_data"
    },
    {
     "name": "stderr",
     "output_type": "stream",
     "text": [
      "                                                 "
     ]
    },
    {
     "name": "stdout",
     "output_type": "stream",
     "text": [
      "ID: 26/35 -- Number of found candidates so far: 5, searched: 5\n",
      "=========== Start the search for 26 Surr\n"
     ]
    },
    {
     "name": "stderr",
     "output_type": "stream",
     "text": [
      "\r"
     ]
    },
    {
     "data": {
      "application/vnd.jupyter.widget-view+json": {
       "model_id": "",
       "version_major": 2,
       "version_minor": 0
      },
      "text/plain": [
       "HBox(children=(FloatProgress(value=0.0, max=1.0), HTML(value='')))"
      ]
     },
     "metadata": {},
     "output_type": "display_data"
    },
    {
     "name": "stderr",
     "output_type": "stream",
     "text": [
      "                                                 "
     ]
    },
    {
     "name": "stdout",
     "output_type": "stream",
     "text": [
      "ID: 27/35 -- Number of found candidates so far: 5, searched: 5\n",
      "=========== Start the search for 27 Tyne & Wear\n"
     ]
    },
    {
     "name": "stderr",
     "output_type": "stream",
     "text": [
      "\r"
     ]
    },
    {
     "data": {
      "application/vnd.jupyter.widget-view+json": {
       "model_id": "",
       "version_major": 2,
       "version_minor": 0
      },
      "text/plain": [
       "HBox(children=(FloatProgress(value=0.0, max=1.0), HTML(value='')))"
      ]
     },
     "metadata": {},
     "output_type": "display_data"
    },
    {
     "name": "stderr",
     "output_type": "stream",
     "text": [
      "                                                 "
     ]
    },
    {
     "name": "stdout",
     "output_type": "stream",
     "text": [
      "ID: 28/35 -- Number of found candidates so far: 5, searched: 5\n",
      "=========== Start the search for 28 Tyron\n"
     ]
    },
    {
     "name": "stderr",
     "output_type": "stream",
     "text": [
      "\r"
     ]
    },
    {
     "data": {
      "application/vnd.jupyter.widget-view+json": {
       "model_id": "",
       "version_major": 2,
       "version_minor": 0
      },
      "text/plain": [
       "HBox(children=(FloatProgress(value=0.0, max=1.0), HTML(value='')))"
      ]
     },
     "metadata": {},
     "output_type": "display_data"
    },
    {
     "name": "stderr",
     "output_type": "stream",
     "text": [
      "                                                 "
     ]
    },
    {
     "name": "stdout",
     "output_type": "stream",
     "text": [
      "ID: 29/35 -- Number of found candidates so far: 5, searched: 5\n",
      "=========== Start the search for 29 Warwicksh\n"
     ]
    },
    {
     "name": "stderr",
     "output_type": "stream",
     "text": [
      "\r"
     ]
    },
    {
     "data": {
      "application/vnd.jupyter.widget-view+json": {
       "model_id": "",
       "version_major": 2,
       "version_minor": 0
      },
      "text/plain": [
       "HBox(children=(FloatProgress(value=0.0, max=1.0), HTML(value='')))"
      ]
     },
     "metadata": {},
     "output_type": "display_data"
    },
    {
     "name": "stderr",
     "output_type": "stream",
     "text": [
      "                                                 "
     ]
    },
    {
     "name": "stdout",
     "output_type": "stream",
     "text": [
      "ID: 30/35 -- Number of found candidates so far: 5, searched: 5\n",
      "=========== Start the search for 30 W Berkshire\n"
     ]
    },
    {
     "name": "stderr",
     "output_type": "stream",
     "text": [
      "\r"
     ]
    },
    {
     "data": {
      "application/vnd.jupyter.widget-view+json": {
       "model_id": "",
       "version_major": 2,
       "version_minor": 0
      },
      "text/plain": [
       "HBox(children=(FloatProgress(value=0.0, max=1.0), HTML(value='')))"
      ]
     },
     "metadata": {},
     "output_type": "display_data"
    },
    {
     "name": "stderr",
     "output_type": "stream",
     "text": [
      "                                                 "
     ]
    },
    {
     "name": "stdout",
     "output_type": "stream",
     "text": [
      "ID: 31/35 -- Number of found candidates so far: 5, searched: 5\n",
      "=========== Start the search for 31 Wiltsh\n"
     ]
    },
    {
     "name": "stderr",
     "output_type": "stream",
     "text": [
      "\r"
     ]
    },
    {
     "data": {
      "application/vnd.jupyter.widget-view+json": {
       "model_id": "",
       "version_major": 2,
       "version_minor": 0
      },
      "text/plain": [
       "HBox(children=(FloatProgress(value=0.0, max=1.0), HTML(value='')))"
      ]
     },
     "metadata": {},
     "output_type": "display_data"
    },
    {
     "name": "stderr",
     "output_type": "stream",
     "text": [
      "                                                 "
     ]
    },
    {
     "name": "stdout",
     "output_type": "stream",
     "text": [
      "ID: 32/35 -- Number of found candidates so far: 5, searched: 5\n",
      "=========== Start the search for 32 Worchestershire\n"
     ]
    },
    {
     "name": "stderr",
     "output_type": "stream",
     "text": [
      "\r"
     ]
    },
    {
     "data": {
      "application/vnd.jupyter.widget-view+json": {
       "model_id": "",
       "version_major": 2,
       "version_minor": 0
      },
      "text/plain": [
       "HBox(children=(FloatProgress(value=0.0, max=1.0), HTML(value='')))"
      ]
     },
     "metadata": {},
     "output_type": "display_data"
    },
    {
     "name": "stderr",
     "output_type": "stream",
     "text": [
      "                                                 "
     ]
    },
    {
     "name": "stdout",
     "output_type": "stream",
     "text": [
      "ID: 33/35 -- Number of found candidates so far: 5, searched: 5\n",
      "=========== Start the search for 33 Worcs\n"
     ]
    },
    {
     "name": "stderr",
     "output_type": "stream",
     "text": [
      "\r"
     ]
    },
    {
     "data": {
      "application/vnd.jupyter.widget-view+json": {
       "model_id": "",
       "version_major": 2,
       "version_minor": 0
      },
      "text/plain": [
       "HBox(children=(FloatProgress(value=0.0, max=1.0), HTML(value='')))"
      ]
     },
     "metadata": {},
     "output_type": "display_data"
    },
    {
     "name": "stderr",
     "output_type": "stream",
     "text": [
      "                                                 "
     ]
    },
    {
     "name": "stdout",
     "output_type": "stream",
     "text": [
      "ID: 34/35 -- Number of found candidates so far: 5, searched: 5\n",
      "=========== Start the search for 34 Tyne\n"
     ]
    },
    {
     "name": "stderr",
     "output_type": "stream",
     "text": [
      "\r"
     ]
    },
    {
     "data": {
      "application/vnd.jupyter.widget-view+json": {
       "model_id": "",
       "version_major": 2,
       "version_minor": 0
      },
      "text/plain": [
       "HBox(children=(FloatProgress(value=0.0, max=1.0), HTML(value='')))"
      ]
     },
     "metadata": {},
     "output_type": "display_data"
    },
    {
     "name": "stdout",
     "output_type": "stream",
     "text": [
      "ID: 35/35 -- Number of found candidates so far: 5, searched: 5\n",
      "TOTAL TIME: 2.6396830081939697\n"
     ]
    }
   ],
   "source": [
    "from DeezyMatch import candidate_ranker\n",
    "\n",
    "# Select candidates based on L2-norm distance (aka faiss distance):\n",
    "# find candidates from candidate_scenario \n",
    "# for queries specified in query_scenario\n",
    "candidates_pd = \\\n",
    "    candidate_ranker(query_scenario=\"./combined/queries_demo2\",\n",
    "                     candidate_scenario=\"./combined/candidates_demo2\", \n",
    "                     ranking_metric=\"faiss\", \n",
    "                     selection_threshold=100., \n",
    "                     num_candidates=5, \n",
    "                     search_size=5, \n",
    "                     output_path=\"ranker_results/candidates_deezymatch_demo2\", \n",
    "                     pretrained_model_path=\"./models/BL_model/BL_model.model\", \n",
    "                     pretrained_vocab_path=\"./models/BL_model/BL_model.vocab\")"
   ]
  },
  {
   "cell_type": "code",
   "execution_count": 9,
   "metadata": {
    "scrolled": true
   },
   "outputs": [
    {
     "data": {
      "text/html": [
       "<div>\n",
       "<style scoped>\n",
       "    .dataframe tbody tr th:only-of-type {\n",
       "        vertical-align: middle;\n",
       "    }\n",
       "\n",
       "    .dataframe tbody tr th {\n",
       "        vertical-align: top;\n",
       "    }\n",
       "\n",
       "    .dataframe thead th {\n",
       "        text-align: right;\n",
       "    }\n",
       "</style>\n",
       "<table border=\"1\" class=\"dataframe\">\n",
       "  <thead>\n",
       "    <tr style=\"text-align: right;\">\n",
       "      <th></th>\n",
       "      <th>query</th>\n",
       "      <th>pred_score</th>\n",
       "      <th>1-pred_score</th>\n",
       "      <th>faiss_distance</th>\n",
       "      <th>cosine_dist</th>\n",
       "      <th>candidate_original_ids</th>\n",
       "      <th>query_original_id</th>\n",
       "      <th>num_all_searches</th>\n",
       "    </tr>\n",
       "    <tr>\n",
       "      <th>id</th>\n",
       "      <th></th>\n",
       "      <th></th>\n",
       "      <th></th>\n",
       "      <th></th>\n",
       "      <th></th>\n",
       "      <th></th>\n",
       "      <th></th>\n",
       "      <th></th>\n",
       "    </tr>\n",
       "  </thead>\n",
       "  <tbody>\n",
       "    <tr>\n",
       "      <th>0</th>\n",
       "      <td>E Ayrshire</td>\n",
       "      <td>{'Eilean Siar': 0.7194, 'Pembrokeshire': 0.539...</td>\n",
       "      <td>{'Eilean Siar': 0.28059999999999996, 'Pembroke...</td>\n",
       "      <td>{'Eilean Siar': 13.675, 'Pembrokeshire': 17.34...</td>\n",
       "      <td>{'Eilean Siar': 0.4136, 'Pembrokeshire': 0.462...</td>\n",
       "      <td>{'Eilean Siar': 68, 'Pembrokeshire': 48, 'East...</td>\n",
       "      <td>0</td>\n",
       "      <td>5</td>\n",
       "    </tr>\n",
       "    <tr>\n",
       "      <th>1</th>\n",
       "      <td>North Lanarcshire</td>\n",
       "      <td>{'North Lanarkshire': 0.9899, 'North Ayrshire'...</td>\n",
       "      <td>{'North Lanarkshire': 0.010099999999999998, 'N...</td>\n",
       "      <td>{'North Lanarkshire': 0.1857, 'North Ayrshire'...</td>\n",
       "      <td>{'North Lanarkshire': 0.004, 'North Ayrshire':...</td>\n",
       "      <td>{'North Lanarkshire': 77, 'North Ayrshire': 76...</td>\n",
       "      <td>1</td>\n",
       "      <td>5</td>\n",
       "    </tr>\n",
       "    <tr>\n",
       "      <th>2</th>\n",
       "      <td>N. Yorksh</td>\n",
       "      <td>{'North Yorkshire': 0.9864, 'Oxfordshire': 0.9...</td>\n",
       "      <td>{'North Yorkshire': 0.013599999999999945, 'Oxf...</td>\n",
       "      <td>{'North Yorkshire': 7.6954, 'Oxfordshire': 9.4...</td>\n",
       "      <td>{'North Yorkshire': 0.126, 'Oxfordshire': 0.16...</td>\n",
       "      <td>{'North Yorkshire': 24, 'Oxfordshire': 28, 'No...</td>\n",
       "      <td>2</td>\n",
       "      <td>5</td>\n",
       "    </tr>\n",
       "    <tr>\n",
       "      <th>3</th>\n",
       "      <td>N.amptonshire</td>\n",
       "      <td>{'Northamptonshire': 0.9931, 'Pembrokeshire': ...</td>\n",
       "      <td>{'Northamptonshire': 0.006900000000000017, 'Pe...</td>\n",
       "      <td>{'Northamptonshire': 2.558, 'Pembrokeshire': 2...</td>\n",
       "      <td>{'Northamptonshire': 0.0537, 'Pembrokeshire': ...</td>\n",
       "      <td>{'Northamptonshire': 25, 'Pembrokeshire': 48, ...</td>\n",
       "      <td>3</td>\n",
       "      <td>5</td>\n",
       "    </tr>\n",
       "    <tr>\n",
       "      <th>4</th>\n",
       "      <td>Northumbld</td>\n",
       "      <td>{'Northumberland': 0.9903, 'Fermanagh': 0.9826...</td>\n",
       "      <td>{'Northumberland': 0.009700000000000042, 'Ferm...</td>\n",
       "      <td>{'Northumberland': 1.6716, 'Fermanagh': 11.603...</td>\n",
       "      <td>{'Northumberland': 0.0249, 'Fermanagh': 0.1883...</td>\n",
       "      <td>{'Northumberland': 26, 'Fermanagh': 91, 'Orkne...</td>\n",
       "      <td>4</td>\n",
       "      <td>5</td>\n",
       "    </tr>\n",
       "    <tr>\n",
       "      <th>5</th>\n",
       "      <td>Northumberl</td>\n",
       "      <td>{'Northumberland': 0.9959, 'North Ayrshire': 0...</td>\n",
       "      <td>{'Northumberland': 0.0040999999999999925, 'Nor...</td>\n",
       "      <td>{'Northumberland': 4.9383, 'North Ayrshire': 6...</td>\n",
       "      <td>{'Northumberland': 0.0824, 'North Ayrshire': 0...</td>\n",
       "      <td>{'Northumberland': 26, 'North Ayrshire': 76, '...</td>\n",
       "      <td>5</td>\n",
       "      <td>5</td>\n",
       "    </tr>\n",
       "    <tr>\n",
       "      <th>6</th>\n",
       "      <td>Nottingham shire</td>\n",
       "      <td>{'Nottinghamshire': 0.9908, 'North Ayrshire': ...</td>\n",
       "      <td>{'Nottinghamshire': 0.009199999999999986, 'Nor...</td>\n",
       "      <td>{'Nottinghamshire': 0.1109, 'North Ayrshire': ...</td>\n",
       "      <td>{'Nottinghamshire': 0.0025, 'North Ayrshire': ...</td>\n",
       "      <td>{'Nottinghamshire': 27, 'North Ayrshire': 76, ...</td>\n",
       "      <td>6</td>\n",
       "      <td>5</td>\n",
       "    </tr>\n",
       "    <tr>\n",
       "      <th>7</th>\n",
       "      <td>Orkneys</td>\n",
       "      <td>{'Renfrewshire': 0.9978, 'Oxfordshire': 0.9989...</td>\n",
       "      <td>{'Renfrewshire': 0.0021999999999999797, 'Oxfor...</td>\n",
       "      <td>{'Renfrewshire': 7.6993, 'Oxfordshire': 8.4693...</td>\n",
       "      <td>{'Renfrewshire': 0.1478, 'Oxfordshire': 0.1603...</td>\n",
       "      <td>{'Renfrewshire': 80, 'Oxfordshire': 28, 'Moray...</td>\n",
       "      <td>7</td>\n",
       "      <td>5</td>\n",
       "    </tr>\n",
       "    <tr>\n",
       "      <th>8</th>\n",
       "      <td>Pembrockshire</td>\n",
       "      <td>{'Pembrokeshire': 0.9907, 'North Ayrshire': 0....</td>\n",
       "      <td>{'Pembrokeshire': 0.009299999999999975, 'North...</td>\n",
       "      <td>{'Pembrokeshire': 0.0954, 'North Ayrshire': 3....</td>\n",
       "      <td>{'Pembrokeshire': 0.002, 'North Ayrshire': 0.0...</td>\n",
       "      <td>{'Pembrokeshire': 48, 'North Ayrshire': 76, 'N...</td>\n",
       "      <td>8</td>\n",
       "      <td>5</td>\n",
       "    </tr>\n",
       "    <tr>\n",
       "      <th>9</th>\n",
       "      <td>Perth&amp;Kinross</td>\n",
       "      <td>{'Perth and Kinross': 0.9958, 'Pembrokeshire':...</td>\n",
       "      <td>{'Perth and Kinross': 0.0041999999999999815, '...</td>\n",
       "      <td>{'Perth and Kinross': 1.8524, 'Pembrokeshire':...</td>\n",
       "      <td>{'Perth and Kinross': 0.0351, 'Pembrokeshire':...</td>\n",
       "      <td>{'Perth and Kinross': 79, 'Pembrokeshire': 48,...</td>\n",
       "      <td>9</td>\n",
       "      <td>5</td>\n",
       "    </tr>\n",
       "    <tr>\n",
       "      <th>10</th>\n",
       "      <td>Perth-Kinross</td>\n",
       "      <td>{'Perth and Kinross': 0.9958, 'Norfolk': 0.965...</td>\n",
       "      <td>{'Perth and Kinross': 0.0041999999999999815, '...</td>\n",
       "      <td>{'Perth and Kinross': 1.8967, 'Norfolk': 9.634...</td>\n",
       "      <td>{'Perth and Kinross': 0.0351, 'Norfolk': 0.171...</td>\n",
       "      <td>{'Perth and Kinross': 79, 'Norfolk': 23, 'Pemb...</td>\n",
       "      <td>10</td>\n",
       "      <td>5</td>\n",
       "    </tr>\n",
       "    <tr>\n",
       "      <th>11</th>\n",
       "      <td>Kinross</td>\n",
       "      <td>{'Surrey': 0.9909, 'Kent': 0.9403, 'South York...</td>\n",
       "      <td>{'Surrey': 0.009099999999999997, 'Kent': 0.059...</td>\n",
       "      <td>{'Surrey': 12.4705, 'Kent': 13.4711, 'South Yo...</td>\n",
       "      <td>{'Surrey': 0.29, 'Kent': 0.3855, 'South Yorksh...</td>\n",
       "      <td>{'Surrey': 34, 'Kent': 18, 'South Yorkshire': ...</td>\n",
       "      <td>11</td>\n",
       "      <td>5</td>\n",
       "    </tr>\n",
       "    <tr>\n",
       "      <th>12</th>\n",
       "      <td>Radnorshire</td>\n",
       "      <td>{'Radnorshire': 0.9956, 'Pembrokeshire': 0.997...</td>\n",
       "      <td>{'Radnorshire': 0.0043999999999999595, 'Pembro...</td>\n",
       "      <td>{'Radnorshire': 0.0, 'Pembrokeshire': 3.6471, ...</td>\n",
       "      <td>{'Radnorshire': 0.0, 'Pembrokeshire': 0.072, '...</td>\n",
       "      <td>{'Radnorshire': 49, 'Pembrokeshire': 48, 'Falk...</td>\n",
       "      <td>12</td>\n",
       "      <td>5</td>\n",
       "    </tr>\n",
       "    <tr>\n",
       "      <th>13</th>\n",
       "      <td>Renfrew</td>\n",
       "      <td>{'Renfrewshire': 0.9979, 'Tyrone': 0.9952, 'No...</td>\n",
       "      <td>{'Renfrewshire': 0.0020999999999999908, 'Tyron...</td>\n",
       "      <td>{'Renfrewshire': 5.5945, 'Tyrone': 6.966, 'Nor...</td>\n",
       "      <td>{'Renfrewshire': 0.119, 'Tyrone': 0.1186, 'Nor...</td>\n",
       "      <td>{'Renfrewshire': 80, 'Tyrone': 93, 'Norfolk': ...</td>\n",
       "      <td>13</td>\n",
       "      <td>5</td>\n",
       "    </tr>\n",
       "    <tr>\n",
       "      <th>14</th>\n",
       "      <td>Scot. Borders</td>\n",
       "      <td>{'Scottish Borders': 0.9932, 'Shetland Islands...</td>\n",
       "      <td>{'Scottish Borders': 0.006800000000000028, 'Sh...</td>\n",
       "      <td>{'Scottish Borders': 0.2031, 'Shetland Islands...</td>\n",
       "      <td>{'Scottish Borders': 0.0027, 'Shetland Islands...</td>\n",
       "      <td>{'Scottish Borders': 81, 'Shetland Islands': 8...</td>\n",
       "      <td>14</td>\n",
       "      <td>5</td>\n",
       "    </tr>\n",
       "    <tr>\n",
       "      <th>15</th>\n",
       "      <td>Shetlands</td>\n",
       "      <td>{'Shetland Islands': 0.9942, 'Scottish Borders...</td>\n",
       "      <td>{'Shetland Islands': 0.005800000000000027, 'Sc...</td>\n",
       "      <td>{'Shetland Islands': 0.7516, 'Scottish Borders...</td>\n",
       "      <td>{'Shetland Islands': 0.0101, 'Scottish Borders...</td>\n",
       "      <td>{'Shetland Islands': 82, 'Scottish Borders': 8...</td>\n",
       "      <td>15</td>\n",
       "      <td>5</td>\n",
       "    </tr>\n",
       "    <tr>\n",
       "      <th>16</th>\n",
       "      <td>Shrops</td>\n",
       "      <td>{'Somerset': 0.9978, 'Shropshire': 0.9938, 'Pe...</td>\n",
       "      <td>{'Somerset': 0.0021999999999999797, 'Shropshir...</td>\n",
       "      <td>{'Somerset': 5.3141, 'Shropshire': 6.3937, 'Pe...</td>\n",
       "      <td>{'Somerset': 0.1096, 'Shropshire': 0.1375, 'Pe...</td>\n",
       "      <td>{'Somerset': 30, 'Shropshire': 29, 'Perth and ...</td>\n",
       "      <td>16</td>\n",
       "      <td>5</td>\n",
       "    </tr>\n",
       "    <tr>\n",
       "      <th>17</th>\n",
       "      <td>SOMERSUTSIIIIE</td>\n",
       "      <td>{'Tyrone': 0.9768, 'Fife': 0.9909, 'Renfrewshi...</td>\n",
       "      <td>{'Tyrone': 0.0232, 'Fife': 0.00909999999999999...</td>\n",
       "      <td>{'Tyrone': 9.5495, 'Fife': 12.7961, 'Renfrewsh...</td>\n",
       "      <td>{'Tyrone': 0.1615, 'Fife': 0.2615, 'Renfrewshi...</td>\n",
       "      <td>{'Tyrone': 93, 'Fife': 70, 'Renfrewshire': 80,...</td>\n",
       "      <td>17</td>\n",
       "      <td>5</td>\n",
       "    </tr>\n",
       "    <tr>\n",
       "      <th>18</th>\n",
       "      <td>S Ayrshire</td>\n",
       "      <td>{'South Ayrshire': 0.9919, 'South Lanarkshire'...</td>\n",
       "      <td>{'South Ayrshire': 0.008099999999999996, 'Sout...</td>\n",
       "      <td>{'South Ayrshire': 3.5248, 'South Lanarkshire'...</td>\n",
       "      <td>{'South Ayrshire': 0.1071, 'South Lanarkshire'...</td>\n",
       "      <td>{'South Ayrshire': 83, 'South Lanarkshire': 84...</td>\n",
       "      <td>18</td>\n",
       "      <td>5</td>\n",
       "    </tr>\n",
       "    <tr>\n",
       "      <th>19</th>\n",
       "      <td>S. Lanarkshire</td>\n",
       "      <td>{'South Lanarkshire': 0.9812, 'Staffordshire':...</td>\n",
       "      <td>{'South Lanarkshire': 0.01880000000000004, 'St...</td>\n",
       "      <td>{'South Lanarkshire': 8.0286, 'Staffordshire':...</td>\n",
       "      <td>{'South Lanarkshire': 0.2197, 'Staffordshire':...</td>\n",
       "      <td>{'South Lanarkshire': 84, 'Staffordshire': 32,...</td>\n",
       "      <td>19</td>\n",
       "      <td>5</td>\n",
       "    </tr>\n",
       "    <tr>\n",
       "      <th>20</th>\n",
       "      <td>South Yorkshire</td>\n",
       "      <td>{'South Yorkshire': 0.9926, 'South Lanarkshire...</td>\n",
       "      <td>{'South Yorkshire': 0.007399999999999962, 'Sou...</td>\n",
       "      <td>{'South Yorkshire': 0.0, 'South Lanarkshire': ...</td>\n",
       "      <td>{'South Yorkshire': 0.0, 'South Lanarkshire': ...</td>\n",
       "      <td>{'South Yorkshire': 31, 'South Lanarkshire': 8...</td>\n",
       "      <td>20</td>\n",
       "      <td>5</td>\n",
       "    </tr>\n",
       "    <tr>\n",
       "      <th>21</th>\n",
       "      <td>Staffordshire</td>\n",
       "      <td>{'Staffordshire': 0.942, 'Eilean Siar': 0.3092...</td>\n",
       "      <td>{'Staffordshire': 0.05800000000000005, 'Eilean...</td>\n",
       "      <td>{'Staffordshire': 0.0, 'Eilean Siar': 9.9669, ...</td>\n",
       "      <td>{'Staffordshire': 0.0, 'Eilean Siar': 0.2107, ...</td>\n",
       "      <td>{'Staffordshire': 32, 'Eilean Siar': 68, 'Suff...</td>\n",
       "      <td>21</td>\n",
       "      <td>5</td>\n",
       "    </tr>\n",
       "    <tr>\n",
       "      <th>22</th>\n",
       "      <td>Sterling</td>\n",
       "      <td>{'Stirling': 0.9803, 'Staffordshire': 0.9095, ...</td>\n",
       "      <td>{'Stirling': 0.01970000000000005, 'Staffordshi...</td>\n",
       "      <td>{'Stirling': 2.4107, 'Staffordshire': 11.4084,...</td>\n",
       "      <td>{'Stirling': 0.0446, 'Staffordshire': 0.2278, ...</td>\n",
       "      <td>{'Stirling': 85, 'Staffordshire': 32, 'Eilean ...</td>\n",
       "      <td>22</td>\n",
       "      <td>5</td>\n",
       "    </tr>\n",
       "    <tr>\n",
       "      <th>23</th>\n",
       "      <td>Suffolk</td>\n",
       "      <td>{'Suffolk': 0.9934, 'Surrey': 0.9893, 'South L...</td>\n",
       "      <td>{'Suffolk': 0.00660000000000005, 'Surrey': 0.0...</td>\n",
       "      <td>{'Suffolk': 0.0, 'Surrey': 7.1292, 'South Lana...</td>\n",
       "      <td>{'Suffolk': 0.0, 'Surrey': 0.1576, 'South Lana...</td>\n",
       "      <td>{'Suffolk': 33, 'Surrey': 34, 'South Lanarkshi...</td>\n",
       "      <td>23</td>\n",
       "      <td>5</td>\n",
       "    </tr>\n",
       "    <tr>\n",
       "      <th>24</th>\n",
       "      <td>Suff</td>\n",
       "      <td>{'Suffolk': 0.988, 'Surrey': 0.9796, 'South La...</td>\n",
       "      <td>{'Suffolk': 0.01200000000000001, 'Surrey': 0.0...</td>\n",
       "      <td>{'Suffolk': 4.0392, 'Surrey': 4.9928, 'South L...</td>\n",
       "      <td>{'Suffolk': 0.0872, 'Surrey': 0.1062, 'South L...</td>\n",
       "      <td>{'Suffolk': 33, 'Surrey': 34, 'South Lanarkshi...</td>\n",
       "      <td>24</td>\n",
       "      <td>5</td>\n",
       "    </tr>\n",
       "    <tr>\n",
       "      <th>25</th>\n",
       "      <td>Surrey</td>\n",
       "      <td>{'Surrey': 0.9967, 'South Yorkshire': 0.9924, ...</td>\n",
       "      <td>{'Surrey': 0.0032999999999999696, 'South Yorks...</td>\n",
       "      <td>{'Surrey': 0.0, 'South Yorkshire': 5.5817, 'So...</td>\n",
       "      <td>{'Surrey': 0.0, 'South Yorkshire': 0.1283, 'So...</td>\n",
       "      <td>{'Surrey': 34, 'South Yorkshire': 31, 'South A...</td>\n",
       "      <td>25</td>\n",
       "      <td>5</td>\n",
       "    </tr>\n",
       "    <tr>\n",
       "      <th>26</th>\n",
       "      <td>Surr</td>\n",
       "      <td>{'Surrey': 0.9965, 'South Yorkshire': 0.9968, ...</td>\n",
       "      <td>{'Surrey': 0.0034999999999999476, 'South Yorks...</td>\n",
       "      <td>{'Surrey': 4.1421, 'South Yorkshire': 6.5809, ...</td>\n",
       "      <td>{'Surrey': 0.0877, 'South Yorkshire': 0.147, '...</td>\n",
       "      <td>{'Surrey': 34, 'South Yorkshire': 31, 'South L...</td>\n",
       "      <td>26</td>\n",
       "      <td>5</td>\n",
       "    </tr>\n",
       "    <tr>\n",
       "      <th>27</th>\n",
       "      <td>Tyne &amp; Wear</td>\n",
       "      <td>{'Northamptonshire': 0.9914, 'North Lanarkshir...</td>\n",
       "      <td>{'Northamptonshire': 0.008600000000000052, 'No...</td>\n",
       "      <td>{'Northamptonshire': 4.4946, 'North Lanarkshir...</td>\n",
       "      <td>{'Northamptonshire': 0.0992, 'North Lanarkshir...</td>\n",
       "      <td>{'Northamptonshire': 25, 'North Lanarkshire': ...</td>\n",
       "      <td>27</td>\n",
       "      <td>5</td>\n",
       "    </tr>\n",
       "    <tr>\n",
       "      <th>28</th>\n",
       "      <td>Tyron</td>\n",
       "      <td>{'Tyrone': 0.9979, 'Norfolk': 0.9885, 'Northam...</td>\n",
       "      <td>{'Tyrone': 0.0020999999999999908, 'Norfolk': 0...</td>\n",
       "      <td>{'Tyrone': 0.7807, 'Norfolk': 11.4744, 'Northa...</td>\n",
       "      <td>{'Tyrone': 0.0126, 'Norfolk': 0.1922, 'Northam...</td>\n",
       "      <td>{'Tyrone': 93, 'Norfolk': 23, 'Northamptonshir...</td>\n",
       "      <td>28</td>\n",
       "      <td>5</td>\n",
       "    </tr>\n",
       "    <tr>\n",
       "      <th>29</th>\n",
       "      <td>Warwicksh</td>\n",
       "      <td>{'Warwickshire': 0.9907, 'Wiltshire': 0.9969, ...</td>\n",
       "      <td>{'Warwickshire': 0.009299999999999975, 'Wiltsh...</td>\n",
       "      <td>{'Warwickshire': 8.6173, 'Wiltshire': 14.4939,...</td>\n",
       "      <td>{'Warwickshire': 0.1743, 'Wiltshire': 0.2877, ...</td>\n",
       "      <td>{'Warwickshire': 36, 'Wiltshire': 41, 'Scottis...</td>\n",
       "      <td>29</td>\n",
       "      <td>5</td>\n",
       "    </tr>\n",
       "    <tr>\n",
       "      <th>30</th>\n",
       "      <td>W Berkshire</td>\n",
       "      <td>{'Warwickshire': 0.9841, 'Worcestershire': 0.9...</td>\n",
       "      <td>{'Warwickshire': 0.015900000000000025, 'Worces...</td>\n",
       "      <td>{'Warwickshire': 5.9148, 'Worcestershire': 9.8...</td>\n",
       "      <td>{'Warwickshire': 0.1534, 'Worcestershire': 0.2...</td>\n",
       "      <td>{'Warwickshire': 36, 'Worcestershire': 42, 'Gl...</td>\n",
       "      <td>30</td>\n",
       "      <td>5</td>\n",
       "    </tr>\n",
       "    <tr>\n",
       "      <th>31</th>\n",
       "      <td>Wiltsh</td>\n",
       "      <td>{'Wiltshire': 0.9946, 'Scottish Borders': 0.99...</td>\n",
       "      <td>{'Wiltshire': 0.00539999999999996, 'Scottish B...</td>\n",
       "      <td>{'Wiltshire': 9.1789, 'Scottish Borders': 12.9...</td>\n",
       "      <td>{'Wiltshire': 0.1598, 'Scottish Borders': 0.20...</td>\n",
       "      <td>{'Wiltshire': 41, 'Scottish Borders': 81, 'Sur...</td>\n",
       "      <td>31</td>\n",
       "      <td>5</td>\n",
       "    </tr>\n",
       "    <tr>\n",
       "      <th>32</th>\n",
       "      <td>Worchestershire</td>\n",
       "      <td>{'Worcestershire': 0.9984, 'Oxfordshire': 0.99...</td>\n",
       "      <td>{'Worcestershire': 0.0016000000000000458, 'Oxf...</td>\n",
       "      <td>{'Worcestershire': 0.4978, 'Oxfordshire': 4.45...</td>\n",
       "      <td>{'Worcestershire': 0.0099, 'Oxfordshire': 0.09...</td>\n",
       "      <td>{'Worcestershire': 42, 'Oxfordshire': 28, 'Ren...</td>\n",
       "      <td>32</td>\n",
       "      <td>5</td>\n",
       "    </tr>\n",
       "    <tr>\n",
       "      <th>33</th>\n",
       "      <td>Worcs</td>\n",
       "      <td>{'Worcestershire': 0.9983, 'Oxfordshire': 0.99...</td>\n",
       "      <td>{'Worcestershire': 0.0017000000000000348, 'Oxf...</td>\n",
       "      <td>{'Worcestershire': 6.9262, 'Oxfordshire': 10.8...</td>\n",
       "      <td>{'Worcestershire': 0.1327, 'Oxfordshire': 0.20...</td>\n",
       "      <td>{'Worcestershire': 42, 'Oxfordshire': 28, 'Ren...</td>\n",
       "      <td>33</td>\n",
       "      <td>5</td>\n",
       "    </tr>\n",
       "    <tr>\n",
       "      <th>34</th>\n",
       "      <td>Tyne</td>\n",
       "      <td>{'Northamptonshire': 0.9894, 'Tyrone': 0.9854,...</td>\n",
       "      <td>{'Northamptonshire': 0.010600000000000054, 'Ty...</td>\n",
       "      <td>{'Northamptonshire': 4.7918, 'Tyrone': 4.8728,...</td>\n",
       "      <td>{'Northamptonshire': 0.1059, 'Tyrone': 0.0794,...</td>\n",
       "      <td>{'Northamptonshire': 25, 'Tyrone': 93, 'Fife':...</td>\n",
       "      <td>34</td>\n",
       "      <td>5</td>\n",
       "    </tr>\n",
       "  </tbody>\n",
       "</table>\n",
       "</div>"
      ],
      "text/plain": [
       "                query                                         pred_score  \\\n",
       "id                                                                         \n",
       "0          E Ayrshire  {'Eilean Siar': 0.7194, 'Pembrokeshire': 0.539...   \n",
       "1   North Lanarcshire  {'North Lanarkshire': 0.9899, 'North Ayrshire'...   \n",
       "2           N. Yorksh  {'North Yorkshire': 0.9864, 'Oxfordshire': 0.9...   \n",
       "3       N.amptonshire  {'Northamptonshire': 0.9931, 'Pembrokeshire': ...   \n",
       "4          Northumbld  {'Northumberland': 0.9903, 'Fermanagh': 0.9826...   \n",
       "5         Northumberl  {'Northumberland': 0.9959, 'North Ayrshire': 0...   \n",
       "6    Nottingham shire  {'Nottinghamshire': 0.9908, 'North Ayrshire': ...   \n",
       "7             Orkneys  {'Renfrewshire': 0.9978, 'Oxfordshire': 0.9989...   \n",
       "8       Pembrockshire  {'Pembrokeshire': 0.9907, 'North Ayrshire': 0....   \n",
       "9       Perth&Kinross  {'Perth and Kinross': 0.9958, 'Pembrokeshire':...   \n",
       "10      Perth-Kinross  {'Perth and Kinross': 0.9958, 'Norfolk': 0.965...   \n",
       "11            Kinross  {'Surrey': 0.9909, 'Kent': 0.9403, 'South York...   \n",
       "12        Radnorshire  {'Radnorshire': 0.9956, 'Pembrokeshire': 0.997...   \n",
       "13            Renfrew  {'Renfrewshire': 0.9979, 'Tyrone': 0.9952, 'No...   \n",
       "14      Scot. Borders  {'Scottish Borders': 0.9932, 'Shetland Islands...   \n",
       "15          Shetlands  {'Shetland Islands': 0.9942, 'Scottish Borders...   \n",
       "16             Shrops  {'Somerset': 0.9978, 'Shropshire': 0.9938, 'Pe...   \n",
       "17     SOMERSUTSIIIIE  {'Tyrone': 0.9768, 'Fife': 0.9909, 'Renfrewshi...   \n",
       "18         S Ayrshire  {'South Ayrshire': 0.9919, 'South Lanarkshire'...   \n",
       "19     S. Lanarkshire  {'South Lanarkshire': 0.9812, 'Staffordshire':...   \n",
       "20    South Yorkshire  {'South Yorkshire': 0.9926, 'South Lanarkshire...   \n",
       "21      Staffordshire  {'Staffordshire': 0.942, 'Eilean Siar': 0.3092...   \n",
       "22           Sterling  {'Stirling': 0.9803, 'Staffordshire': 0.9095, ...   \n",
       "23            Suffolk  {'Suffolk': 0.9934, 'Surrey': 0.9893, 'South L...   \n",
       "24               Suff  {'Suffolk': 0.988, 'Surrey': 0.9796, 'South La...   \n",
       "25             Surrey  {'Surrey': 0.9967, 'South Yorkshire': 0.9924, ...   \n",
       "26               Surr  {'Surrey': 0.9965, 'South Yorkshire': 0.9968, ...   \n",
       "27        Tyne & Wear  {'Northamptonshire': 0.9914, 'North Lanarkshir...   \n",
       "28              Tyron  {'Tyrone': 0.9979, 'Norfolk': 0.9885, 'Northam...   \n",
       "29          Warwicksh  {'Warwickshire': 0.9907, 'Wiltshire': 0.9969, ...   \n",
       "30        W Berkshire  {'Warwickshire': 0.9841, 'Worcestershire': 0.9...   \n",
       "31             Wiltsh  {'Wiltshire': 0.9946, 'Scottish Borders': 0.99...   \n",
       "32    Worchestershire  {'Worcestershire': 0.9984, 'Oxfordshire': 0.99...   \n",
       "33              Worcs  {'Worcestershire': 0.9983, 'Oxfordshire': 0.99...   \n",
       "34               Tyne  {'Northamptonshire': 0.9894, 'Tyrone': 0.9854,...   \n",
       "\n",
       "                                         1-pred_score  \\\n",
       "id                                                      \n",
       "0   {'Eilean Siar': 0.28059999999999996, 'Pembroke...   \n",
       "1   {'North Lanarkshire': 0.010099999999999998, 'N...   \n",
       "2   {'North Yorkshire': 0.013599999999999945, 'Oxf...   \n",
       "3   {'Northamptonshire': 0.006900000000000017, 'Pe...   \n",
       "4   {'Northumberland': 0.009700000000000042, 'Ferm...   \n",
       "5   {'Northumberland': 0.0040999999999999925, 'Nor...   \n",
       "6   {'Nottinghamshire': 0.009199999999999986, 'Nor...   \n",
       "7   {'Renfrewshire': 0.0021999999999999797, 'Oxfor...   \n",
       "8   {'Pembrokeshire': 0.009299999999999975, 'North...   \n",
       "9   {'Perth and Kinross': 0.0041999999999999815, '...   \n",
       "10  {'Perth and Kinross': 0.0041999999999999815, '...   \n",
       "11  {'Surrey': 0.009099999999999997, 'Kent': 0.059...   \n",
       "12  {'Radnorshire': 0.0043999999999999595, 'Pembro...   \n",
       "13  {'Renfrewshire': 0.0020999999999999908, 'Tyron...   \n",
       "14  {'Scottish Borders': 0.006800000000000028, 'Sh...   \n",
       "15  {'Shetland Islands': 0.005800000000000027, 'Sc...   \n",
       "16  {'Somerset': 0.0021999999999999797, 'Shropshir...   \n",
       "17  {'Tyrone': 0.0232, 'Fife': 0.00909999999999999...   \n",
       "18  {'South Ayrshire': 0.008099999999999996, 'Sout...   \n",
       "19  {'South Lanarkshire': 0.01880000000000004, 'St...   \n",
       "20  {'South Yorkshire': 0.007399999999999962, 'Sou...   \n",
       "21  {'Staffordshire': 0.05800000000000005, 'Eilean...   \n",
       "22  {'Stirling': 0.01970000000000005, 'Staffordshi...   \n",
       "23  {'Suffolk': 0.00660000000000005, 'Surrey': 0.0...   \n",
       "24  {'Suffolk': 0.01200000000000001, 'Surrey': 0.0...   \n",
       "25  {'Surrey': 0.0032999999999999696, 'South Yorks...   \n",
       "26  {'Surrey': 0.0034999999999999476, 'South Yorks...   \n",
       "27  {'Northamptonshire': 0.008600000000000052, 'No...   \n",
       "28  {'Tyrone': 0.0020999999999999908, 'Norfolk': 0...   \n",
       "29  {'Warwickshire': 0.009299999999999975, 'Wiltsh...   \n",
       "30  {'Warwickshire': 0.015900000000000025, 'Worces...   \n",
       "31  {'Wiltshire': 0.00539999999999996, 'Scottish B...   \n",
       "32  {'Worcestershire': 0.0016000000000000458, 'Oxf...   \n",
       "33  {'Worcestershire': 0.0017000000000000348, 'Oxf...   \n",
       "34  {'Northamptonshire': 0.010600000000000054, 'Ty...   \n",
       "\n",
       "                                       faiss_distance  \\\n",
       "id                                                      \n",
       "0   {'Eilean Siar': 13.675, 'Pembrokeshire': 17.34...   \n",
       "1   {'North Lanarkshire': 0.1857, 'North Ayrshire'...   \n",
       "2   {'North Yorkshire': 7.6954, 'Oxfordshire': 9.4...   \n",
       "3   {'Northamptonshire': 2.558, 'Pembrokeshire': 2...   \n",
       "4   {'Northumberland': 1.6716, 'Fermanagh': 11.603...   \n",
       "5   {'Northumberland': 4.9383, 'North Ayrshire': 6...   \n",
       "6   {'Nottinghamshire': 0.1109, 'North Ayrshire': ...   \n",
       "7   {'Renfrewshire': 7.6993, 'Oxfordshire': 8.4693...   \n",
       "8   {'Pembrokeshire': 0.0954, 'North Ayrshire': 3....   \n",
       "9   {'Perth and Kinross': 1.8524, 'Pembrokeshire':...   \n",
       "10  {'Perth and Kinross': 1.8967, 'Norfolk': 9.634...   \n",
       "11  {'Surrey': 12.4705, 'Kent': 13.4711, 'South Yo...   \n",
       "12  {'Radnorshire': 0.0, 'Pembrokeshire': 3.6471, ...   \n",
       "13  {'Renfrewshire': 5.5945, 'Tyrone': 6.966, 'Nor...   \n",
       "14  {'Scottish Borders': 0.2031, 'Shetland Islands...   \n",
       "15  {'Shetland Islands': 0.7516, 'Scottish Borders...   \n",
       "16  {'Somerset': 5.3141, 'Shropshire': 6.3937, 'Pe...   \n",
       "17  {'Tyrone': 9.5495, 'Fife': 12.7961, 'Renfrewsh...   \n",
       "18  {'South Ayrshire': 3.5248, 'South Lanarkshire'...   \n",
       "19  {'South Lanarkshire': 8.0286, 'Staffordshire':...   \n",
       "20  {'South Yorkshire': 0.0, 'South Lanarkshire': ...   \n",
       "21  {'Staffordshire': 0.0, 'Eilean Siar': 9.9669, ...   \n",
       "22  {'Stirling': 2.4107, 'Staffordshire': 11.4084,...   \n",
       "23  {'Suffolk': 0.0, 'Surrey': 7.1292, 'South Lana...   \n",
       "24  {'Suffolk': 4.0392, 'Surrey': 4.9928, 'South L...   \n",
       "25  {'Surrey': 0.0, 'South Yorkshire': 5.5817, 'So...   \n",
       "26  {'Surrey': 4.1421, 'South Yorkshire': 6.5809, ...   \n",
       "27  {'Northamptonshire': 4.4946, 'North Lanarkshir...   \n",
       "28  {'Tyrone': 0.7807, 'Norfolk': 11.4744, 'Northa...   \n",
       "29  {'Warwickshire': 8.6173, 'Wiltshire': 14.4939,...   \n",
       "30  {'Warwickshire': 5.9148, 'Worcestershire': 9.8...   \n",
       "31  {'Wiltshire': 9.1789, 'Scottish Borders': 12.9...   \n",
       "32  {'Worcestershire': 0.4978, 'Oxfordshire': 4.45...   \n",
       "33  {'Worcestershire': 6.9262, 'Oxfordshire': 10.8...   \n",
       "34  {'Northamptonshire': 4.7918, 'Tyrone': 4.8728,...   \n",
       "\n",
       "                                          cosine_dist  \\\n",
       "id                                                      \n",
       "0   {'Eilean Siar': 0.4136, 'Pembrokeshire': 0.462...   \n",
       "1   {'North Lanarkshire': 0.004, 'North Ayrshire':...   \n",
       "2   {'North Yorkshire': 0.126, 'Oxfordshire': 0.16...   \n",
       "3   {'Northamptonshire': 0.0537, 'Pembrokeshire': ...   \n",
       "4   {'Northumberland': 0.0249, 'Fermanagh': 0.1883...   \n",
       "5   {'Northumberland': 0.0824, 'North Ayrshire': 0...   \n",
       "6   {'Nottinghamshire': 0.0025, 'North Ayrshire': ...   \n",
       "7   {'Renfrewshire': 0.1478, 'Oxfordshire': 0.1603...   \n",
       "8   {'Pembrokeshire': 0.002, 'North Ayrshire': 0.0...   \n",
       "9   {'Perth and Kinross': 0.0351, 'Pembrokeshire':...   \n",
       "10  {'Perth and Kinross': 0.0351, 'Norfolk': 0.171...   \n",
       "11  {'Surrey': 0.29, 'Kent': 0.3855, 'South Yorksh...   \n",
       "12  {'Radnorshire': 0.0, 'Pembrokeshire': 0.072, '...   \n",
       "13  {'Renfrewshire': 0.119, 'Tyrone': 0.1186, 'Nor...   \n",
       "14  {'Scottish Borders': 0.0027, 'Shetland Islands...   \n",
       "15  {'Shetland Islands': 0.0101, 'Scottish Borders...   \n",
       "16  {'Somerset': 0.1096, 'Shropshire': 0.1375, 'Pe...   \n",
       "17  {'Tyrone': 0.1615, 'Fife': 0.2615, 'Renfrewshi...   \n",
       "18  {'South Ayrshire': 0.1071, 'South Lanarkshire'...   \n",
       "19  {'South Lanarkshire': 0.2197, 'Staffordshire':...   \n",
       "20  {'South Yorkshire': 0.0, 'South Lanarkshire': ...   \n",
       "21  {'Staffordshire': 0.0, 'Eilean Siar': 0.2107, ...   \n",
       "22  {'Stirling': 0.0446, 'Staffordshire': 0.2278, ...   \n",
       "23  {'Suffolk': 0.0, 'Surrey': 0.1576, 'South Lana...   \n",
       "24  {'Suffolk': 0.0872, 'Surrey': 0.1062, 'South L...   \n",
       "25  {'Surrey': 0.0, 'South Yorkshire': 0.1283, 'So...   \n",
       "26  {'Surrey': 0.0877, 'South Yorkshire': 0.147, '...   \n",
       "27  {'Northamptonshire': 0.0992, 'North Lanarkshir...   \n",
       "28  {'Tyrone': 0.0126, 'Norfolk': 0.1922, 'Northam...   \n",
       "29  {'Warwickshire': 0.1743, 'Wiltshire': 0.2877, ...   \n",
       "30  {'Warwickshire': 0.1534, 'Worcestershire': 0.2...   \n",
       "31  {'Wiltshire': 0.1598, 'Scottish Borders': 0.20...   \n",
       "32  {'Worcestershire': 0.0099, 'Oxfordshire': 0.09...   \n",
       "33  {'Worcestershire': 0.1327, 'Oxfordshire': 0.20...   \n",
       "34  {'Northamptonshire': 0.1059, 'Tyrone': 0.0794,...   \n",
       "\n",
       "                               candidate_original_ids  query_original_id  \\\n",
       "id                                                                         \n",
       "0   {'Eilean Siar': 68, 'Pembrokeshire': 48, 'East...                  0   \n",
       "1   {'North Lanarkshire': 77, 'North Ayrshire': 76...                  1   \n",
       "2   {'North Yorkshire': 24, 'Oxfordshire': 28, 'No...                  2   \n",
       "3   {'Northamptonshire': 25, 'Pembrokeshire': 48, ...                  3   \n",
       "4   {'Northumberland': 26, 'Fermanagh': 91, 'Orkne...                  4   \n",
       "5   {'Northumberland': 26, 'North Ayrshire': 76, '...                  5   \n",
       "6   {'Nottinghamshire': 27, 'North Ayrshire': 76, ...                  6   \n",
       "7   {'Renfrewshire': 80, 'Oxfordshire': 28, 'Moray...                  7   \n",
       "8   {'Pembrokeshire': 48, 'North Ayrshire': 76, 'N...                  8   \n",
       "9   {'Perth and Kinross': 79, 'Pembrokeshire': 48,...                  9   \n",
       "10  {'Perth and Kinross': 79, 'Norfolk': 23, 'Pemb...                 10   \n",
       "11  {'Surrey': 34, 'Kent': 18, 'South Yorkshire': ...                 11   \n",
       "12  {'Radnorshire': 49, 'Pembrokeshire': 48, 'Falk...                 12   \n",
       "13  {'Renfrewshire': 80, 'Tyrone': 93, 'Norfolk': ...                 13   \n",
       "14  {'Scottish Borders': 81, 'Shetland Islands': 8...                 14   \n",
       "15  {'Shetland Islands': 82, 'Scottish Borders': 8...                 15   \n",
       "16  {'Somerset': 30, 'Shropshire': 29, 'Perth and ...                 16   \n",
       "17  {'Tyrone': 93, 'Fife': 70, 'Renfrewshire': 80,...                 17   \n",
       "18  {'South Ayrshire': 83, 'South Lanarkshire': 84...                 18   \n",
       "19  {'South Lanarkshire': 84, 'Staffordshire': 32,...                 19   \n",
       "20  {'South Yorkshire': 31, 'South Lanarkshire': 8...                 20   \n",
       "21  {'Staffordshire': 32, 'Eilean Siar': 68, 'Suff...                 21   \n",
       "22  {'Stirling': 85, 'Staffordshire': 32, 'Eilean ...                 22   \n",
       "23  {'Suffolk': 33, 'Surrey': 34, 'South Lanarkshi...                 23   \n",
       "24  {'Suffolk': 33, 'Surrey': 34, 'South Lanarkshi...                 24   \n",
       "25  {'Surrey': 34, 'South Yorkshire': 31, 'South A...                 25   \n",
       "26  {'Surrey': 34, 'South Yorkshire': 31, 'South L...                 26   \n",
       "27  {'Northamptonshire': 25, 'North Lanarkshire': ...                 27   \n",
       "28  {'Tyrone': 93, 'Norfolk': 23, 'Northamptonshir...                 28   \n",
       "29  {'Warwickshire': 36, 'Wiltshire': 41, 'Scottis...                 29   \n",
       "30  {'Warwickshire': 36, 'Worcestershire': 42, 'Gl...                 30   \n",
       "31  {'Wiltshire': 41, 'Scottish Borders': 81, 'Sur...                 31   \n",
       "32  {'Worcestershire': 42, 'Oxfordshire': 28, 'Ren...                 32   \n",
       "33  {'Worcestershire': 42, 'Oxfordshire': 28, 'Ren...                 33   \n",
       "34  {'Northamptonshire': 25, 'Tyrone': 93, 'Fife':...                 34   \n",
       "\n",
       "    num_all_searches  \n",
       "id                    \n",
       "0                  5  \n",
       "1                  5  \n",
       "2                  5  \n",
       "3                  5  \n",
       "4                  5  \n",
       "5                  5  \n",
       "6                  5  \n",
       "7                  5  \n",
       "8                  5  \n",
       "9                  5  \n",
       "10                 5  \n",
       "11                 5  \n",
       "12                 5  \n",
       "13                 5  \n",
       "14                 5  \n",
       "15                 5  \n",
       "16                 5  \n",
       "17                 5  \n",
       "18                 5  \n",
       "19                 5  \n",
       "20                 5  \n",
       "21                 5  \n",
       "22                 5  \n",
       "23                 5  \n",
       "24                 5  \n",
       "25                 5  \n",
       "26                 5  \n",
       "27                 5  \n",
       "28                 5  \n",
       "29                 5  \n",
       "30                 5  \n",
       "31                 5  \n",
       "32                 5  \n",
       "33                 5  \n",
       "34                 5  "
      ]
     },
     "execution_count": 9,
     "metadata": {},
     "output_type": "execute_result"
    }
   ],
   "source": [
    "candidates_pd"
   ]
  },
  {
   "cell_type": "markdown",
   "metadata": {},
   "source": [
    "## Candidate ranking on-the-fly"
   ]
  },
  {
   "cell_type": "code",
   "execution_count": 10,
   "metadata": {
    "scrolled": true
   },
   "outputs": [
    {
     "name": "stderr",
     "output_type": "stream",
     "text": [
      "                                                 "
     ]
    },
    {
     "name": "stdout",
     "output_type": "stream",
     "text": [
      "\u001b[92m2020-12-07 09:41:41\u001b[0m \u001b[95mMAC-ATI0414\u001b[0m \u001b[1m\u001b[90m[INFO]\u001b[0m \u001b[2;32mread input file: ./combined/candidates_demo2/input_dfm_demo2.yaml\u001b[0m\n",
      "\u001b[92m2020-12-07 09:41:41\u001b[0m \u001b[95mMAC-ATI0414\u001b[0m \u001b[1m\u001b[90m[INFO]\u001b[0m \u001b[1;31mGPU was requested but not available.\u001b[0m\n",
      "\u001b[92m2020-12-07 09:41:41\u001b[0m \u001b[95mMAC-ATI0414\u001b[0m \u001b[1m\u001b[90m[INFO]\u001b[0m \u001b[1;32mpytorch will use: cpu\u001b[0m\n",
      "\u001b[92m2020-12-07 09:41:41\u001b[0m \u001b[95mMAC-ATI0414\u001b[0m \u001b[1m\u001b[90m[INFO]\u001b[0m \u001b[2;32msave test-data-class: tmp_561a9e10-cce8-490b-b8d6-3fc0f3c36bd1/query/dataframe.df\u001b[0m\n"
     ]
    },
    {
     "name": "stderr",
     "output_type": "stream",
     "text": [
      "\r"
     ]
    },
    {
     "data": {
      "application/vnd.jupyter.widget-view+json": {
       "model_id": "",
       "version_major": 2,
       "version_minor": 0
      },
      "text/plain": [
       "HBox(children=(FloatProgress(value=0.0, max=1.0), HTML(value='')))"
      ]
     },
     "metadata": {},
     "output_type": "display_data"
    },
    {
     "name": "stderr",
     "output_type": "stream",
     "text": [
      "                                                 "
     ]
    },
    {
     "name": "stdout",
     "output_type": "stream",
     "text": [
      "\n",
      "\n",
      "-- Combine vectors\n",
      "Reading vectors from tmp_561a9e10-cce8-490b-b8d6-3fc0f3c36bd1/query/embeddings/rnn_fwd*\n",
      "0000000 tmp_561a9e10-cce8-490b-b8d6-3fc0f3c36bd1/query/embeddings/rnn_fwd_0\n",
      "\n",
      "\n",
      "-- Combine IDs\n",
      "0000000 tmp_561a9e10-cce8-490b-b8d6-3fc0f3c36bd1/query/embeddings/rnn_indxs_0\n",
      "\n",
      "\n",
      "\n",
      "-- Combine vectors\n",
      "Reading vectors from tmp_561a9e10-cce8-490b-b8d6-3fc0f3c36bd1/query/embeddings/rnn_bwd*\n",
      "0000000 tmp_561a9e10-cce8-490b-b8d6-3fc0f3c36bd1/query/embeddings/rnn_bwd_0\n",
      "\n",
      "\n",
      "-- Combine IDs\n",
      "0000000 tmp_561a9e10-cce8-490b-b8d6-3fc0f3c36bd1/query/embeddings/rnn_indxs_0\n",
      "\n",
      "--- 266.55969405174255 seconds ---\n",
      "Is faiss_id_candis already trained? True\n",
      "=========== Start the search for 0 lincoln\n"
     ]
    },
    {
     "name": "stderr",
     "output_type": "stream",
     "text": [
      "\r"
     ]
    },
    {
     "data": {
      "application/vnd.jupyter.widget-view+json": {
       "model_id": "",
       "version_major": 2,
       "version_minor": 0
      },
      "text/plain": [
       "HBox(children=(FloatProgress(value=0.0, max=1.0), HTML(value='')))"
      ]
     },
     "metadata": {},
     "output_type": "display_data"
    },
    {
     "name": "stdout",
     "output_type": "stream",
     "text": [
      "ID: 1/3 -- Number of found candidates so far: 5, searched: 5\n",
      "=========== Start the search for 1 warwick\n"
     ]
    },
    {
     "name": "stderr",
     "output_type": "stream",
     "text": [
      "                                                 \r"
     ]
    },
    {
     "data": {
      "application/vnd.jupyter.widget-view+json": {
       "model_id": "",
       "version_major": 2,
       "version_minor": 0
      },
      "text/plain": [
       "HBox(children=(FloatProgress(value=0.0, max=1.0), HTML(value='')))"
      ]
     },
     "metadata": {},
     "output_type": "display_data"
    },
    {
     "name": "stderr",
     "output_type": "stream",
     "text": [
      "                                                 "
     ]
    },
    {
     "name": "stdout",
     "output_type": "stream",
     "text": [
      "ID: 2/3 -- Number of found candidates so far: 5, searched: 5\n",
      "=========== Start the search for 2 warwickz\n"
     ]
    },
    {
     "name": "stderr",
     "output_type": "stream",
     "text": [
      "\r"
     ]
    },
    {
     "data": {
      "application/vnd.jupyter.widget-view+json": {
       "model_id": "",
       "version_major": 2,
       "version_minor": 0
      },
      "text/plain": [
       "HBox(children=(FloatProgress(value=0.0, max=1.0), HTML(value='')))"
      ]
     },
     "metadata": {},
     "output_type": "display_data"
    },
    {
     "name": "stdout",
     "output_type": "stream",
     "text": [
      "ID: 3/3 -- Number of found candidates so far: 5, searched: 5\n",
      "TOTAL TIME: 0.33826494216918945\n"
     ]
    }
   ],
   "source": [
    "from DeezyMatch import candidate_ranker\n",
    "\n",
    "# Ranking on-the-fly\n",
    "# find candidates from candidate_scenario \n",
    "# for queries specified by the `query` argument\n",
    "candidates_pd = \\\n",
    "    candidate_ranker(query=[\"lincoln\", \"warwick\", \"warwickz\"],\n",
    "                     candidate_scenario=\"./combined/candidates_demo2\", \n",
    "                     ranking_metric=\"faiss\", \n",
    "                     selection_threshold=100., \n",
    "                     num_candidates=5, \n",
    "                     search_size=5, \n",
    "                     output_path=\"ranker_results/candidates_deezymatch_demo2\", \n",
    "                     pretrained_model_path=\"./models/BL_model/BL_model.model\", \n",
    "                     pretrained_vocab_path=\"./models/BL_model/BL_model.vocab\")"
   ]
  },
  {
   "cell_type": "code",
   "execution_count": 11,
   "metadata": {},
   "outputs": [
    {
     "data": {
      "text/html": [
       "<div>\n",
       "<style scoped>\n",
       "    .dataframe tbody tr th:only-of-type {\n",
       "        vertical-align: middle;\n",
       "    }\n",
       "\n",
       "    .dataframe tbody tr th {\n",
       "        vertical-align: top;\n",
       "    }\n",
       "\n",
       "    .dataframe thead th {\n",
       "        text-align: right;\n",
       "    }\n",
       "</style>\n",
       "<table border=\"1\" class=\"dataframe\">\n",
       "  <thead>\n",
       "    <tr style=\"text-align: right;\">\n",
       "      <th></th>\n",
       "      <th>query</th>\n",
       "      <th>pred_score</th>\n",
       "      <th>1-pred_score</th>\n",
       "      <th>faiss_distance</th>\n",
       "      <th>cosine_dist</th>\n",
       "      <th>candidate_original_ids</th>\n",
       "      <th>query_original_id</th>\n",
       "      <th>num_all_searches</th>\n",
       "    </tr>\n",
       "    <tr>\n",
       "      <th>id</th>\n",
       "      <th></th>\n",
       "      <th></th>\n",
       "      <th></th>\n",
       "      <th></th>\n",
       "      <th></th>\n",
       "      <th></th>\n",
       "      <th></th>\n",
       "      <th></th>\n",
       "    </tr>\n",
       "  </thead>\n",
       "  <tbody>\n",
       "    <tr>\n",
       "      <th>0</th>\n",
       "      <td>lincoln</td>\n",
       "      <td>{'Lincolnshire': 0.9974, 'Clackmannanshire': 0...</td>\n",
       "      <td>{'Lincolnshire': 0.0026000000000000467, 'Clack...</td>\n",
       "      <td>{'Lincolnshire': 7.1052, 'Clackmannanshire': 1...</td>\n",
       "      <td>{'Lincolnshire': 0.1034, 'Clackmannanshire': 0...</td>\n",
       "      <td>{'Lincolnshire': 21, 'Clackmannanshire': 61, '...</td>\n",
       "      <td>0</td>\n",
       "      <td>5</td>\n",
       "    </tr>\n",
       "    <tr>\n",
       "      <th>1</th>\n",
       "      <td>warwick</td>\n",
       "      <td>{'Warwickshire': 0.9976, 'Wiltshire': 0.9985, ...</td>\n",
       "      <td>{'Warwickshire': 0.0023999999999999577, 'Wilts...</td>\n",
       "      <td>{'Warwickshire': 5.7448, 'Wiltshire': 13.742, ...</td>\n",
       "      <td>{'Warwickshire': 0.1339, 'Wiltshire': 0.3037, ...</td>\n",
       "      <td>{'Warwickshire': 36, 'Wiltshire': 41, 'Falkirk...</td>\n",
       "      <td>1</td>\n",
       "      <td>5</td>\n",
       "    </tr>\n",
       "    <tr>\n",
       "      <th>2</th>\n",
       "      <td>warwickz</td>\n",
       "      <td>{'Warwickshire': 0.9967, 'Wiltshire': 0.9983, ...</td>\n",
       "      <td>{'Warwickshire': 0.0032999999999999696, 'Wilts...</td>\n",
       "      <td>{'Warwickshire': 5.0446, 'Wiltshire': 12.6466,...</td>\n",
       "      <td>{'Warwickshire': 0.1208, 'Wiltshire': 0.2853, ...</td>\n",
       "      <td>{'Warwickshire': 36, 'Wiltshire': 41, 'Flintsh...</td>\n",
       "      <td>2</td>\n",
       "      <td>5</td>\n",
       "    </tr>\n",
       "  </tbody>\n",
       "</table>\n",
       "</div>"
      ],
      "text/plain": [
       "       query                                         pred_score  \\\n",
       "id                                                                \n",
       "0    lincoln  {'Lincolnshire': 0.9974, 'Clackmannanshire': 0...   \n",
       "1    warwick  {'Warwickshire': 0.9976, 'Wiltshire': 0.9985, ...   \n",
       "2   warwickz  {'Warwickshire': 0.9967, 'Wiltshire': 0.9983, ...   \n",
       "\n",
       "                                         1-pred_score  \\\n",
       "id                                                      \n",
       "0   {'Lincolnshire': 0.0026000000000000467, 'Clack...   \n",
       "1   {'Warwickshire': 0.0023999999999999577, 'Wilts...   \n",
       "2   {'Warwickshire': 0.0032999999999999696, 'Wilts...   \n",
       "\n",
       "                                       faiss_distance  \\\n",
       "id                                                      \n",
       "0   {'Lincolnshire': 7.1052, 'Clackmannanshire': 1...   \n",
       "1   {'Warwickshire': 5.7448, 'Wiltshire': 13.742, ...   \n",
       "2   {'Warwickshire': 5.0446, 'Wiltshire': 12.6466,...   \n",
       "\n",
       "                                          cosine_dist  \\\n",
       "id                                                      \n",
       "0   {'Lincolnshire': 0.1034, 'Clackmannanshire': 0...   \n",
       "1   {'Warwickshire': 0.1339, 'Wiltshire': 0.3037, ...   \n",
       "2   {'Warwickshire': 0.1208, 'Wiltshire': 0.2853, ...   \n",
       "\n",
       "                               candidate_original_ids  query_original_id  \\\n",
       "id                                                                         \n",
       "0   {'Lincolnshire': 21, 'Clackmannanshire': 61, '...                  0   \n",
       "1   {'Warwickshire': 36, 'Wiltshire': 41, 'Falkirk...                  1   \n",
       "2   {'Warwickshire': 36, 'Wiltshire': 41, 'Flintsh...                  2   \n",
       "\n",
       "    num_all_searches  \n",
       "id                    \n",
       "0                  5  \n",
       "1                  5  \n",
       "2                  5  "
      ]
     },
     "execution_count": 11,
     "metadata": {},
     "output_type": "execute_result"
    }
   ],
   "source": [
    "candidates_pd"
   ]
  },
  {
   "cell_type": "code",
   "execution_count": null,
   "metadata": {},
   "outputs": [],
   "source": []
  }
 ],
 "metadata": {
  "kernelspec": {
   "display_name": "Python 3",
   "language": "python",
   "name": "python3"
  },
  "language_info": {
   "codemirror_mode": {
    "name": "ipython",
    "version": 3
   },
   "file_extension": ".py",
   "mimetype": "text/x-python",
   "name": "python",
   "nbconvert_exporter": "python",
   "pygments_lexer": "ipython3",
   "version": "3.7.8"
  }
 },
 "nbformat": 4,
 "nbformat_minor": 4
}
