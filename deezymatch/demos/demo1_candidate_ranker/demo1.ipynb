{
 "cells": [
  {
   "cell_type": "markdown",
   "metadata": {},
   "source": [
    "# Demo 1\n",
    "\n",
    "In this demo, we load an already trained model (see `pretrained_model_path` and `pretrained_vocab_path` in the following cell) for the task of candidate ranking. As you will see, in the first part, we use a set of `static` queries while in the second part (i.e., `candidate ranking on-the-fly`), we will change the queries on-the-fly.\n",
    "\n",
    "Link to the [DeezyMatch model](https://github.com/LinkedPasts/LaNC-workshop/tree/main/deezymatch/models/wikigaz_en_brit), [candidates](https://github.com/LinkedPasts/LaNC-workshop/blob/main/deezymatch/candidate_scenarios/ukcounties_candidates.txt) and [queries](https://github.com/LinkedPasts/LaNC-workshop/blob/main/deezymatch/query_scenarios/ukcounties_queries.txt) files."
   ]
  },
  {
   "cell_type": "markdown",
   "metadata": {},
   "source": [
    "## Candidate Ranker"
   ]
  },
  {
   "cell_type": "code",
   "execution_count": null,
   "metadata": {},
   "outputs": [],
   "source": [
    "from DeezyMatch import candidate_ranker\n",
    "\n",
    "# Select candidates based on L2-norm distance (aka faiss distance):\n",
    "# find candidates from candidate_scenario \n",
    "# for queries specified in query_scenario\n",
    "candidates_pd = \\\n",
    "    candidate_ranker(query_scenario=\"./combined/queries_demo1\",\n",
    "                     candidate_scenario=\"./combined/candidates_demo1\", \n",
    "                     ranking_metric=\"faiss\", \n",
    "                     selection_threshold=100., \n",
    "                     num_candidates=5, \n",
    "                     search_size=5, \n",
    "                     output_path=\"ranker_results/candidates_deezymatch_demo1\", \n",
    "                     pretrained_model_path=\"../../models/wikigaz_en_brit/wikigaz_en_brit.model\", \n",
    "                     pretrained_vocab_path=\"../../models/wikigaz_en_brit/wikigaz_en_brit.vocab\")"
   ]
  },
  {
   "cell_type": "code",
   "execution_count": null,
   "metadata": {},
   "outputs": [],
   "source": [
    "candidates_pd"
   ]
  },
  {
   "cell_type": "markdown",
   "metadata": {},
   "source": [
    "## Candidate ranking on-the-fly"
   ]
  },
  {
   "cell_type": "code",
   "execution_count": null,
   "metadata": {},
   "outputs": [],
   "source": [
    "from DeezyMatch import candidate_ranker\n",
    "\n",
    "# Ranking on-the-fly\n",
    "# find candidates from candidate_scenario \n",
    "# for queries specified by the `query` argument\n",
    "candidates_pd = \\\n",
    "    candidate_ranker(query=[\"london\", \"S. Ayrshire\"],\n",
    "                     candidate_scenario=\"./combined/candidates_demo1\", \n",
    "                     ranking_metric=\"faiss\", \n",
    "                     selection_threshold=100., \n",
    "                     num_candidates=5, \n",
    "                     search_size=5, \n",
    "                     output_path=\"ranker_results/candidates_deezymatch_demo1\", \n",
    "                     pretrained_model_path=\"../../models/wikigaz_en_brit/wikigaz_en_brit.model\", \n",
    "                     pretrained_vocab_path=\"../../models/wikigaz_en_brit/wikigaz_en_brit.vocab\")"
   ]
  },
  {
   "cell_type": "code",
   "execution_count": null,
   "metadata": {},
   "outputs": [],
   "source": [
    "candidates_pd"
   ]
  }
 ],
 "metadata": {
  "kernelspec": {
   "display_name": "Python (py37deezy)",
   "language": "python",
   "name": "py37deezy"
  },
  "language_info": {
   "codemirror_mode": {
    "name": "ipython",
    "version": 3
   },
   "file_extension": ".py",
   "mimetype": "text/x-python",
   "name": "python",
   "nbconvert_exporter": "python",
   "pygments_lexer": "ipython3",
   "version": "3.7.8"
  }
 },
 "nbformat": 4,
 "nbformat_minor": 4
}
