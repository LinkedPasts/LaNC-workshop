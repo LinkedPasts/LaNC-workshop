{
 "cells": [
  {
   "cell_type": "markdown",
   "metadata": {},
   "source": [
    "# Preparing files/directories for demo1\n",
    "\n",
    "If this is the first time that you are using DeezyMatch, you can safely skip this notebook and go to notebook: `demo1`."
   ]
  },
  {
   "cell_type": "markdown",
   "metadata": {},
   "source": [
    "## Generate query vectors"
   ]
  },
  {
   "cell_type": "code",
   "execution_count": 2,
   "metadata": {},
   "outputs": [
    {
     "name": "stderr",
     "output_type": "stream",
     "text": [
      "                                                  "
     ]
    },
    {
     "name": "stdout",
     "output_type": "stream",
     "text": [
      "\u001b[92m2020-12-07 08:40:08\u001b[0m \u001b[95mMAC-ATI0414\u001b[0m \u001b[1m\u001b[90m[INFO]\u001b[0m \u001b[2;32mread input file: ../../models/wikigaz_en_brit/input_dfm_brit.yaml\u001b[0m\n",
      "\u001b[92m2020-12-07 08:40:08\u001b[0m \u001b[95mMAC-ATI0414\u001b[0m \u001b[1m\u001b[90m[INFO]\u001b[0m \u001b[1;31mGPU was requested but not available.\u001b[0m\n",
      "\u001b[92m2020-12-07 08:40:08\u001b[0m \u001b[95mMAC-ATI0414\u001b[0m \u001b[1m\u001b[90m[INFO]\u001b[0m \u001b[1;32mpytorch will use: cpu\u001b[0m\n",
      "\u001b[92m2020-12-07 08:40:09\u001b[0m \u001b[95mMAC-ATI0414\u001b[0m \u001b[1m\u001b[90m[INFO]\u001b[0m \u001b[2;32mread CSV file: ../../query_scenarios/ukcounties_queries.txt\u001b[0m\n",
      "\u001b[92m2020-12-07 08:40:09\u001b[0m \u001b[95mMAC-ATI0414\u001b[0m \u001b[1m\u001b[90m[INFO]\u001b[0m \u001b[1;32mnumber of labels, True: 0 and False: 35\u001b[0m\n",
      "\u001b[92m2020-12-07 08:40:09\u001b[0m \u001b[95mMAC-ATI0414\u001b[0m \u001b[1m\u001b[90m[INFO]\u001b[0m \u001b[2;32mskipping 0 lines\u001b[0m\n",
      "\u001b[92m2020-12-07 08:40:09\u001b[0m \u001b[95mMAC-ATI0414\u001b[0m \u001b[1m\u001b[90m[INFO]\u001b[0m \u001b[2;32msave test-data-class: /Users/khosseini/myJobs/ATI/Projects/2019/LaNC-workshop/deezymatch/demos/demo1_candidate_ranker/queries/demo1/dataframe.df\u001b[0m\n"
     ]
    },
    {
     "name": "stderr",
     "output_type": "stream",
     "text": [
      "\r"
     ]
    },
    {
     "data": {
      "application/vnd.jupyter.widget-view+json": {
       "model_id": "",
       "version_major": 2,
       "version_minor": 0
      },
      "text/plain": [
       "HBox(children=(FloatProgress(value=0.0, max=2.0), HTML(value='')))"
      ]
     },
     "metadata": {},
     "output_type": "display_data"
    },
    {
     "name": "stdout",
     "output_type": "stream",
     "text": [
      "--- 0.19751691818237305 seconds ---\n"
     ]
    }
   ],
   "source": [
    "from DeezyMatch import inference as dm_inference\n",
    "\n",
    "# generate vectors for queries (specified in dataset_path) \n",
    "# using a model stored at pretrained_model_path and pretrained_vocab_path \n",
    "dm_inference(input_file_path=\"../../models/wikigaz_en_brit/input_dfm_brit.yaml\",\n",
    "             dataset_path=\"../../query_scenarios/ukcounties_queries.txt\", \n",
    "             pretrained_model_path=\"../../models/wikigaz_en_brit/wikigaz_en_brit.model\", \n",
    "             pretrained_vocab_path=\"../../models/wikigaz_en_brit/wikigaz_en_brit.vocab\",\n",
    "             inference_mode=\"vect\",\n",
    "             scenario=\"queries/demo1\")"
   ]
  },
  {
   "cell_type": "markdown",
   "metadata": {},
   "source": [
    "## Generate candidate vectors"
   ]
  },
  {
   "cell_type": "code",
   "execution_count": 3,
   "metadata": {},
   "outputs": [
    {
     "name": "stderr",
     "output_type": "stream",
     "text": [
      "                                                  "
     ]
    },
    {
     "name": "stdout",
     "output_type": "stream",
     "text": [
      "\u001b[92m2020-12-07 08:40:52\u001b[0m \u001b[95mMAC-ATI0414\u001b[0m \u001b[1m\u001b[90m[INFO]\u001b[0m \u001b[2;32mread input file: ../../models/wikigaz_en_brit/input_dfm_brit.yaml\u001b[0m\n",
      "\u001b[92m2020-12-07 08:40:52\u001b[0m \u001b[95mMAC-ATI0414\u001b[0m \u001b[1m\u001b[90m[INFO]\u001b[0m \u001b[1;31mGPU was requested but not available.\u001b[0m\n",
      "\u001b[92m2020-12-07 08:40:52\u001b[0m \u001b[95mMAC-ATI0414\u001b[0m \u001b[1m\u001b[90m[INFO]\u001b[0m \u001b[1;32mpytorch will use: cpu\u001b[0m\n",
      "\u001b[92m2020-12-07 08:40:52\u001b[0m \u001b[95mMAC-ATI0414\u001b[0m \u001b[1m\u001b[90m[INFO]\u001b[0m \u001b[2;32mread CSV file: ../../candidate_scenarios/ukcounties_candidates.txt\u001b[0m\n",
      "\u001b[92m2020-12-07 08:40:52\u001b[0m \u001b[95mMAC-ATI0414\u001b[0m \u001b[1m\u001b[90m[INFO]\u001b[0m \u001b[1;32mnumber of labels, True: 0 and False: 94\u001b[0m\n",
      "\u001b[92m2020-12-07 08:40:52\u001b[0m \u001b[95mMAC-ATI0414\u001b[0m \u001b[1m\u001b[90m[INFO]\u001b[0m \u001b[2;32mskipping 0 lines\u001b[0m\n",
      "\u001b[92m2020-12-07 08:40:52\u001b[0m \u001b[95mMAC-ATI0414\u001b[0m \u001b[1m\u001b[90m[INFO]\u001b[0m \u001b[2;32msave test-data-class: /Users/khosseini/myJobs/ATI/Projects/2019/LaNC-workshop/deezymatch/demos/demo1_candidate_ranker/candidates/demo1/dataframe.df\u001b[0m\n"
     ]
    },
    {
     "name": "stderr",
     "output_type": "stream",
     "text": [
      "\r"
     ]
    },
    {
     "data": {
      "application/vnd.jupyter.widget-view+json": {
       "model_id": "",
       "version_major": 2,
       "version_minor": 0
      },
      "text/plain": [
       "HBox(children=(FloatProgress(value=0.0, max=3.0), HTML(value='')))"
      ]
     },
     "metadata": {},
     "output_type": "display_data"
    },
    {
     "name": "stdout",
     "output_type": "stream",
     "text": [
      "--- 0.1686251163482666 seconds ---\n"
     ]
    }
   ],
   "source": [
    "from DeezyMatch import inference as dm_inference\n",
    "\n",
    "# generate vectors for candidates (specified in dataset_path) \n",
    "# using a model stored at pretrained_model_path and pretrained_vocab_path \n",
    "dm_inference(input_file_path=\"../../models/wikigaz_en_brit/input_dfm_brit.yaml\",\n",
    "             dataset_path=\"../../candidate_scenarios/ukcounties_candidates.txt\", \n",
    "             pretrained_model_path=\"../../models/wikigaz_en_brit/wikigaz_en_brit.model\", \n",
    "             pretrained_vocab_path=\"../../models/wikigaz_en_brit/wikigaz_en_brit.vocab\",\n",
    "             inference_mode=\"vect\",\n",
    "             scenario=\"candidates/demo1\")"
   ]
  },
  {
   "cell_type": "markdown",
   "metadata": {},
   "source": [
    "## Assembling queries and candidates vector representations¶"
   ]
  },
  {
   "cell_type": "code",
   "execution_count": 4,
   "metadata": {},
   "outputs": [
    {
     "name": "stdout",
     "output_type": "stream",
     "text": [
      "\u001b[92m2020-12-07 08:41:57\u001b[0m \u001b[95mMAC-ATI0414\u001b[0m \u001b[1m\u001b[90m[INFO]\u001b[0m \u001b[2;32mread input file: queries/demo1/input_dfm_brit.yaml\u001b[0m\n",
      "\u001b[92m2020-12-07 08:41:57\u001b[0m \u001b[95mMAC-ATI0414\u001b[0m \u001b[1m\u001b[90m[INFO]\u001b[0m \u001b[1;31mGPU was requested but not available.\u001b[0m\n",
      "\u001b[92m2020-12-07 08:41:57\u001b[0m \u001b[95mMAC-ATI0414\u001b[0m \u001b[1m\u001b[90m[INFO]\u001b[0m \u001b[1;32mpytorch will use: cpu\u001b[0m\n",
      "\n",
      "\n",
      "-- Combine vectors\n",
      "Reading vectors from queries/demo1/embeddings/rnn_fwd*\n",
      "0000000 queries/demo1/embeddings/rnn_fwd_0\n",
      "\n",
      "\n",
      "-- Combine IDs\n",
      "0000000 queries/demo1/embeddings/rnn_indxs_0\n",
      "\n",
      "\n",
      "\n",
      "-- Combine vectors\n",
      "Reading vectors from queries/demo1/embeddings/rnn_bwd*\n",
      "0000000 queries/demo1/embeddings/rnn_bwd_0\n",
      "\n",
      "\n",
      "-- Combine IDs\n",
      "0000000 queries/demo1/embeddings/rnn_indxs_0\n",
      "\n",
      "--- 108.47477197647095 seconds ---\n"
     ]
    }
   ],
   "source": [
    "from DeezyMatch import combine_vecs\n",
    "\n",
    "# combine vectors and save them in combined/candidates_test\n",
    "combine_vecs(rnn_passes=['fwd', 'bwd'], \n",
    "             input_scenario='queries/demo1', \n",
    "             output_scenario='combined/queries_demo1', \n",
    "             print_every=10)"
   ]
  },
  {
   "cell_type": "code",
   "execution_count": 5,
   "metadata": {},
   "outputs": [
    {
     "name": "stdout",
     "output_type": "stream",
     "text": [
      "\u001b[92m2020-12-07 08:42:09\u001b[0m \u001b[95mMAC-ATI0414\u001b[0m \u001b[1m\u001b[90m[INFO]\u001b[0m \u001b[2;32mread input file: candidates/demo1/input_dfm_brit.yaml\u001b[0m\n",
      "\u001b[92m2020-12-07 08:42:09\u001b[0m \u001b[95mMAC-ATI0414\u001b[0m \u001b[1m\u001b[90m[INFO]\u001b[0m \u001b[1;31mGPU was requested but not available.\u001b[0m\n",
      "\u001b[92m2020-12-07 08:42:09\u001b[0m \u001b[95mMAC-ATI0414\u001b[0m \u001b[1m\u001b[90m[INFO]\u001b[0m \u001b[1;32mpytorch will use: cpu\u001b[0m\n",
      "\n",
      "\n",
      "-- Combine vectors\n",
      "Reading vectors from candidates/demo1/embeddings/rnn_fwd*\n",
      "0000000 candidates/demo1/embeddings/rnn_fwd_0\n",
      "\n",
      "\n",
      "-- Combine IDs\n",
      "0000000 candidates/demo1/embeddings/rnn_indxs_0\n",
      "\n",
      "\n",
      "\n",
      "-- Combine vectors\n",
      "Reading vectors from candidates/demo1/embeddings/rnn_bwd*\n",
      "0000000 candidates/demo1/embeddings/rnn_bwd_0\n",
      "\n",
      "\n",
      "-- Combine IDs\n",
      "0000000 candidates/demo1/embeddings/rnn_indxs_0\n",
      "\n",
      "--- 120.8360698223114 seconds ---\n"
     ]
    }
   ],
   "source": [
    "from DeezyMatch import combine_vecs\n",
    "\n",
    "# combine vectors and save them in combined/candidates_test\n",
    "combine_vecs(rnn_passes=['fwd', 'bwd'], \n",
    "             input_scenario='candidates/demo1', \n",
    "             output_scenario='combined/candidates_demo1', \n",
    "             print_every=10)"
   ]
  },
  {
   "cell_type": "markdown",
   "metadata": {},
   "source": [
    "## Candidate Ranker"
   ]
  },
  {
   "cell_type": "code",
   "execution_count": 7,
   "metadata": {},
   "outputs": [
    {
     "name": "stderr",
     "output_type": "stream",
     "text": [
      "                                                 "
     ]
    },
    {
     "name": "stdout",
     "output_type": "stream",
     "text": [
      "\u001b[92m2020-12-07 08:44:17\u001b[0m \u001b[95mMAC-ATI0414\u001b[0m \u001b[1m\u001b[90m[INFO]\u001b[0m \u001b[2;32mread input file: ./combined/candidates_demo1/input_dfm_brit.yaml\u001b[0m\n",
      "\u001b[92m2020-12-07 08:44:17\u001b[0m \u001b[95mMAC-ATI0414\u001b[0m \u001b[1m\u001b[90m[INFO]\u001b[0m \u001b[1;31mGPU was requested but not available.\u001b[0m\n",
      "\u001b[92m2020-12-07 08:44:17\u001b[0m \u001b[95mMAC-ATI0414\u001b[0m \u001b[1m\u001b[90m[INFO]\u001b[0m \u001b[1;32mpytorch will use: cpu\u001b[0m\n",
      "Is faiss_id_candis already trained? True\n",
      "=========== Start the search for 0 E Ayrshire\n"
     ]
    },
    {
     "name": "stderr",
     "output_type": "stream",
     "text": [
      "\r"
     ]
    },
    {
     "data": {
      "application/vnd.jupyter.widget-view+json": {
       "model_id": "",
       "version_major": 2,
       "version_minor": 0
      },
      "text/plain": [
       "HBox(children=(FloatProgress(value=0.0, max=1.0), HTML(value='')))"
      ]
     },
     "metadata": {},
     "output_type": "display_data"
    },
    {
     "name": "stderr",
     "output_type": "stream",
     "text": [
      "                                                 "
     ]
    },
    {
     "name": "stdout",
     "output_type": "stream",
     "text": [
      "ID: 1/35 -- Number of found candidates so far: 5, searched: 5\n",
      "=========== Start the search for 1 North Lanarcshire\n"
     ]
    },
    {
     "name": "stderr",
     "output_type": "stream",
     "text": [
      "\r"
     ]
    },
    {
     "data": {
      "application/vnd.jupyter.widget-view+json": {
       "model_id": "",
       "version_major": 2,
       "version_minor": 0
      },
      "text/plain": [
       "HBox(children=(FloatProgress(value=0.0, max=1.0), HTML(value='')))"
      ]
     },
     "metadata": {},
     "output_type": "display_data"
    },
    {
     "name": "stderr",
     "output_type": "stream",
     "text": [
      "                                                 "
     ]
    },
    {
     "name": "stdout",
     "output_type": "stream",
     "text": [
      "ID: 2/35 -- Number of found candidates so far: 5, searched: 5\n",
      "=========== Start the search for 2 N. Yorksh\n"
     ]
    },
    {
     "name": "stderr",
     "output_type": "stream",
     "text": [
      "\r"
     ]
    },
    {
     "data": {
      "application/vnd.jupyter.widget-view+json": {
       "model_id": "",
       "version_major": 2,
       "version_minor": 0
      },
      "text/plain": [
       "HBox(children=(FloatProgress(value=0.0, max=1.0), HTML(value='')))"
      ]
     },
     "metadata": {},
     "output_type": "display_data"
    },
    {
     "name": "stderr",
     "output_type": "stream",
     "text": [
      "                                                 "
     ]
    },
    {
     "name": "stdout",
     "output_type": "stream",
     "text": [
      "ID: 3/35 -- Number of found candidates so far: 5, searched: 5\n",
      "=========== Start the search for 3 N.amptonshire\n"
     ]
    },
    {
     "name": "stderr",
     "output_type": "stream",
     "text": [
      "\r"
     ]
    },
    {
     "data": {
      "application/vnd.jupyter.widget-view+json": {
       "model_id": "",
       "version_major": 2,
       "version_minor": 0
      },
      "text/plain": [
       "HBox(children=(FloatProgress(value=0.0, max=1.0), HTML(value='')))"
      ]
     },
     "metadata": {},
     "output_type": "display_data"
    },
    {
     "name": "stderr",
     "output_type": "stream",
     "text": [
      "                                                 "
     ]
    },
    {
     "name": "stdout",
     "output_type": "stream",
     "text": [
      "ID: 4/35 -- Number of found candidates so far: 5, searched: 5\n",
      "=========== Start the search for 4 Northumbld\n"
     ]
    },
    {
     "name": "stderr",
     "output_type": "stream",
     "text": [
      "\r"
     ]
    },
    {
     "data": {
      "application/vnd.jupyter.widget-view+json": {
       "model_id": "",
       "version_major": 2,
       "version_minor": 0
      },
      "text/plain": [
       "HBox(children=(FloatProgress(value=0.0, max=1.0), HTML(value='')))"
      ]
     },
     "metadata": {},
     "output_type": "display_data"
    },
    {
     "name": "stderr",
     "output_type": "stream",
     "text": [
      "                                                 "
     ]
    },
    {
     "name": "stdout",
     "output_type": "stream",
     "text": [
      "ID: 5/35 -- Number of found candidates so far: 5, searched: 5\n",
      "=========== Start the search for 5 Northumberl\n"
     ]
    },
    {
     "name": "stderr",
     "output_type": "stream",
     "text": [
      "\r"
     ]
    },
    {
     "data": {
      "application/vnd.jupyter.widget-view+json": {
       "model_id": "",
       "version_major": 2,
       "version_minor": 0
      },
      "text/plain": [
       "HBox(children=(FloatProgress(value=0.0, max=1.0), HTML(value='')))"
      ]
     },
     "metadata": {},
     "output_type": "display_data"
    },
    {
     "name": "stderr",
     "output_type": "stream",
     "text": [
      "                                                 "
     ]
    },
    {
     "name": "stdout",
     "output_type": "stream",
     "text": [
      "ID: 6/35 -- Number of found candidates so far: 5, searched: 5\n",
      "=========== Start the search for 6 Nottingham shire\n"
     ]
    },
    {
     "name": "stderr",
     "output_type": "stream",
     "text": [
      "\r"
     ]
    },
    {
     "data": {
      "application/vnd.jupyter.widget-view+json": {
       "model_id": "",
       "version_major": 2,
       "version_minor": 0
      },
      "text/plain": [
       "HBox(children=(FloatProgress(value=0.0, max=1.0), HTML(value='')))"
      ]
     },
     "metadata": {},
     "output_type": "display_data"
    },
    {
     "name": "stderr",
     "output_type": "stream",
     "text": [
      "                                                 "
     ]
    },
    {
     "name": "stdout",
     "output_type": "stream",
     "text": [
      "ID: 7/35 -- Number of found candidates so far: 5, searched: 5\n",
      "=========== Start the search for 7 Orkneys\n"
     ]
    },
    {
     "name": "stderr",
     "output_type": "stream",
     "text": [
      "\r"
     ]
    },
    {
     "data": {
      "application/vnd.jupyter.widget-view+json": {
       "model_id": "",
       "version_major": 2,
       "version_minor": 0
      },
      "text/plain": [
       "HBox(children=(FloatProgress(value=0.0, max=1.0), HTML(value='')))"
      ]
     },
     "metadata": {},
     "output_type": "display_data"
    },
    {
     "name": "stderr",
     "output_type": "stream",
     "text": [
      "                                                 "
     ]
    },
    {
     "name": "stdout",
     "output_type": "stream",
     "text": [
      "ID: 8/35 -- Number of found candidates so far: 5, searched: 5\n",
      "=========== Start the search for 8 Pembrockshire\n"
     ]
    },
    {
     "name": "stderr",
     "output_type": "stream",
     "text": [
      "\r"
     ]
    },
    {
     "data": {
      "application/vnd.jupyter.widget-view+json": {
       "model_id": "",
       "version_major": 2,
       "version_minor": 0
      },
      "text/plain": [
       "HBox(children=(FloatProgress(value=0.0, max=1.0), HTML(value='')))"
      ]
     },
     "metadata": {},
     "output_type": "display_data"
    },
    {
     "name": "stderr",
     "output_type": "stream",
     "text": [
      "                                                 "
     ]
    },
    {
     "name": "stdout",
     "output_type": "stream",
     "text": [
      "ID: 9/35 -- Number of found candidates so far: 5, searched: 5\n",
      "=========== Start the search for 9 Perth&Kinross\n"
     ]
    },
    {
     "name": "stderr",
     "output_type": "stream",
     "text": [
      "\r"
     ]
    },
    {
     "data": {
      "application/vnd.jupyter.widget-view+json": {
       "model_id": "",
       "version_major": 2,
       "version_minor": 0
      },
      "text/plain": [
       "HBox(children=(FloatProgress(value=0.0, max=1.0), HTML(value='')))"
      ]
     },
     "metadata": {},
     "output_type": "display_data"
    },
    {
     "name": "stderr",
     "output_type": "stream",
     "text": [
      "                                                 "
     ]
    },
    {
     "name": "stdout",
     "output_type": "stream",
     "text": [
      "ID: 10/35 -- Number of found candidates so far: 5, searched: 5\n",
      "=========== Start the search for 10 Perth-Kinross\n"
     ]
    },
    {
     "name": "stderr",
     "output_type": "stream",
     "text": [
      "\r"
     ]
    },
    {
     "data": {
      "application/vnd.jupyter.widget-view+json": {
       "model_id": "",
       "version_major": 2,
       "version_minor": 0
      },
      "text/plain": [
       "HBox(children=(FloatProgress(value=0.0, max=1.0), HTML(value='')))"
      ]
     },
     "metadata": {},
     "output_type": "display_data"
    },
    {
     "name": "stderr",
     "output_type": "stream",
     "text": [
      "                                                 "
     ]
    },
    {
     "name": "stdout",
     "output_type": "stream",
     "text": [
      "ID: 11/35 -- Number of found candidates so far: 5, searched: 5\n",
      "=========== Start the search for 11 Kinross\n"
     ]
    },
    {
     "name": "stderr",
     "output_type": "stream",
     "text": [
      "\r"
     ]
    },
    {
     "data": {
      "application/vnd.jupyter.widget-view+json": {
       "model_id": "",
       "version_major": 2,
       "version_minor": 0
      },
      "text/plain": [
       "HBox(children=(FloatProgress(value=0.0, max=1.0), HTML(value='')))"
      ]
     },
     "metadata": {},
     "output_type": "display_data"
    },
    {
     "name": "stderr",
     "output_type": "stream",
     "text": [
      "                                                 "
     ]
    },
    {
     "name": "stdout",
     "output_type": "stream",
     "text": [
      "ID: 12/35 -- Number of found candidates so far: 5, searched: 5\n",
      "=========== Start the search for 12 Radnorshire\n"
     ]
    },
    {
     "name": "stderr",
     "output_type": "stream",
     "text": [
      "\r"
     ]
    },
    {
     "data": {
      "application/vnd.jupyter.widget-view+json": {
       "model_id": "",
       "version_major": 2,
       "version_minor": 0
      },
      "text/plain": [
       "HBox(children=(FloatProgress(value=0.0, max=1.0), HTML(value='')))"
      ]
     },
     "metadata": {},
     "output_type": "display_data"
    },
    {
     "name": "stderr",
     "output_type": "stream",
     "text": [
      "                                                 "
     ]
    },
    {
     "name": "stdout",
     "output_type": "stream",
     "text": [
      "ID: 13/35 -- Number of found candidates so far: 5, searched: 5\n",
      "=========== Start the search for 13 Renfrew\n"
     ]
    },
    {
     "name": "stderr",
     "output_type": "stream",
     "text": [
      "\r"
     ]
    },
    {
     "data": {
      "application/vnd.jupyter.widget-view+json": {
       "model_id": "",
       "version_major": 2,
       "version_minor": 0
      },
      "text/plain": [
       "HBox(children=(FloatProgress(value=0.0, max=1.0), HTML(value='')))"
      ]
     },
     "metadata": {},
     "output_type": "display_data"
    },
    {
     "name": "stderr",
     "output_type": "stream",
     "text": [
      "                                                 "
     ]
    },
    {
     "name": "stdout",
     "output_type": "stream",
     "text": [
      "ID: 14/35 -- Number of found candidates so far: 5, searched: 5\n",
      "=========== Start the search for 14 Scot. Borders\n"
     ]
    },
    {
     "name": "stderr",
     "output_type": "stream",
     "text": [
      "\r"
     ]
    },
    {
     "data": {
      "application/vnd.jupyter.widget-view+json": {
       "model_id": "",
       "version_major": 2,
       "version_minor": 0
      },
      "text/plain": [
       "HBox(children=(FloatProgress(value=0.0, max=1.0), HTML(value='')))"
      ]
     },
     "metadata": {},
     "output_type": "display_data"
    },
    {
     "name": "stderr",
     "output_type": "stream",
     "text": [
      "                                                 "
     ]
    },
    {
     "name": "stdout",
     "output_type": "stream",
     "text": [
      "ID: 15/35 -- Number of found candidates so far: 5, searched: 5\n",
      "=========== Start the search for 15 Shetlands\n"
     ]
    },
    {
     "name": "stderr",
     "output_type": "stream",
     "text": [
      "\r"
     ]
    },
    {
     "data": {
      "application/vnd.jupyter.widget-view+json": {
       "model_id": "",
       "version_major": 2,
       "version_minor": 0
      },
      "text/plain": [
       "HBox(children=(FloatProgress(value=0.0, max=1.0), HTML(value='')))"
      ]
     },
     "metadata": {},
     "output_type": "display_data"
    },
    {
     "name": "stderr",
     "output_type": "stream",
     "text": [
      "                                                 "
     ]
    },
    {
     "name": "stdout",
     "output_type": "stream",
     "text": [
      "ID: 16/35 -- Number of found candidates so far: 5, searched: 5\n",
      "=========== Start the search for 16 Shrops\n"
     ]
    },
    {
     "name": "stderr",
     "output_type": "stream",
     "text": [
      "\r"
     ]
    },
    {
     "data": {
      "application/vnd.jupyter.widget-view+json": {
       "model_id": "",
       "version_major": 2,
       "version_minor": 0
      },
      "text/plain": [
       "HBox(children=(FloatProgress(value=0.0, max=1.0), HTML(value='')))"
      ]
     },
     "metadata": {},
     "output_type": "display_data"
    },
    {
     "name": "stderr",
     "output_type": "stream",
     "text": [
      "                                                 "
     ]
    },
    {
     "name": "stdout",
     "output_type": "stream",
     "text": [
      "ID: 17/35 -- Number of found candidates so far: 5, searched: 5\n",
      "=========== Start the search for 17 SOMERSUTSIIIIE\n"
     ]
    },
    {
     "name": "stderr",
     "output_type": "stream",
     "text": [
      "\r"
     ]
    },
    {
     "data": {
      "application/vnd.jupyter.widget-view+json": {
       "model_id": "",
       "version_major": 2,
       "version_minor": 0
      },
      "text/plain": [
       "HBox(children=(FloatProgress(value=0.0, max=1.0), HTML(value='')))"
      ]
     },
     "metadata": {},
     "output_type": "display_data"
    },
    {
     "name": "stderr",
     "output_type": "stream",
     "text": [
      "                                                 "
     ]
    },
    {
     "name": "stdout",
     "output_type": "stream",
     "text": [
      "ID: 18/35 -- Number of found candidates so far: 5, searched: 5\n",
      "=========== Start the search for 18 S Ayrshire\n"
     ]
    },
    {
     "name": "stderr",
     "output_type": "stream",
     "text": [
      "\r"
     ]
    },
    {
     "data": {
      "application/vnd.jupyter.widget-view+json": {
       "model_id": "",
       "version_major": 2,
       "version_minor": 0
      },
      "text/plain": [
       "HBox(children=(FloatProgress(value=0.0, max=1.0), HTML(value='')))"
      ]
     },
     "metadata": {},
     "output_type": "display_data"
    },
    {
     "name": "stderr",
     "output_type": "stream",
     "text": [
      "                                                 "
     ]
    },
    {
     "name": "stdout",
     "output_type": "stream",
     "text": [
      "ID: 19/35 -- Number of found candidates so far: 5, searched: 5\n",
      "=========== Start the search for 19 S. Lanarkshire\n"
     ]
    },
    {
     "name": "stderr",
     "output_type": "stream",
     "text": [
      "\r"
     ]
    },
    {
     "data": {
      "application/vnd.jupyter.widget-view+json": {
       "model_id": "",
       "version_major": 2,
       "version_minor": 0
      },
      "text/plain": [
       "HBox(children=(FloatProgress(value=0.0, max=1.0), HTML(value='')))"
      ]
     },
     "metadata": {},
     "output_type": "display_data"
    },
    {
     "name": "stderr",
     "output_type": "stream",
     "text": [
      "                                                 "
     ]
    },
    {
     "name": "stdout",
     "output_type": "stream",
     "text": [
      "ID: 20/35 -- Number of found candidates so far: 5, searched: 5\n",
      "=========== Start the search for 20 South Yorkshire\n"
     ]
    },
    {
     "name": "stderr",
     "output_type": "stream",
     "text": [
      "\r"
     ]
    },
    {
     "data": {
      "application/vnd.jupyter.widget-view+json": {
       "model_id": "",
       "version_major": 2,
       "version_minor": 0
      },
      "text/plain": [
       "HBox(children=(FloatProgress(value=0.0, max=1.0), HTML(value='')))"
      ]
     },
     "metadata": {},
     "output_type": "display_data"
    },
    {
     "name": "stderr",
     "output_type": "stream",
     "text": [
      "                                                 "
     ]
    },
    {
     "name": "stdout",
     "output_type": "stream",
     "text": [
      "ID: 21/35 -- Number of found candidates so far: 5, searched: 5\n",
      "=========== Start the search for 21 Staffordshire\n"
     ]
    },
    {
     "name": "stderr",
     "output_type": "stream",
     "text": [
      "\r"
     ]
    },
    {
     "data": {
      "application/vnd.jupyter.widget-view+json": {
       "model_id": "",
       "version_major": 2,
       "version_minor": 0
      },
      "text/plain": [
       "HBox(children=(FloatProgress(value=0.0, max=1.0), HTML(value='')))"
      ]
     },
     "metadata": {},
     "output_type": "display_data"
    },
    {
     "name": "stderr",
     "output_type": "stream",
     "text": [
      "                                                 "
     ]
    },
    {
     "name": "stdout",
     "output_type": "stream",
     "text": [
      "ID: 22/35 -- Number of found candidates so far: 5, searched: 5\n",
      "=========== Start the search for 22 Sterling\n"
     ]
    },
    {
     "name": "stderr",
     "output_type": "stream",
     "text": [
      "\r"
     ]
    },
    {
     "data": {
      "application/vnd.jupyter.widget-view+json": {
       "model_id": "",
       "version_major": 2,
       "version_minor": 0
      },
      "text/plain": [
       "HBox(children=(FloatProgress(value=0.0, max=1.0), HTML(value='')))"
      ]
     },
     "metadata": {},
     "output_type": "display_data"
    },
    {
     "name": "stderr",
     "output_type": "stream",
     "text": [
      "                                                 "
     ]
    },
    {
     "name": "stdout",
     "output_type": "stream",
     "text": [
      "ID: 23/35 -- Number of found candidates so far: 5, searched: 5\n",
      "=========== Start the search for 23 Suffolk\n"
     ]
    },
    {
     "name": "stderr",
     "output_type": "stream",
     "text": [
      "\r"
     ]
    },
    {
     "data": {
      "application/vnd.jupyter.widget-view+json": {
       "model_id": "",
       "version_major": 2,
       "version_minor": 0
      },
      "text/plain": [
       "HBox(children=(FloatProgress(value=0.0, max=1.0), HTML(value='')))"
      ]
     },
     "metadata": {},
     "output_type": "display_data"
    },
    {
     "name": "stderr",
     "output_type": "stream",
     "text": [
      "                                                 "
     ]
    },
    {
     "name": "stdout",
     "output_type": "stream",
     "text": [
      "ID: 24/35 -- Number of found candidates so far: 5, searched: 5\n",
      "=========== Start the search for 24 Suff\n"
     ]
    },
    {
     "name": "stderr",
     "output_type": "stream",
     "text": [
      "\r"
     ]
    },
    {
     "data": {
      "application/vnd.jupyter.widget-view+json": {
       "model_id": "",
       "version_major": 2,
       "version_minor": 0
      },
      "text/plain": [
       "HBox(children=(FloatProgress(value=0.0, max=1.0), HTML(value='')))"
      ]
     },
     "metadata": {},
     "output_type": "display_data"
    },
    {
     "name": "stderr",
     "output_type": "stream",
     "text": [
      "                                                 "
     ]
    },
    {
     "name": "stdout",
     "output_type": "stream",
     "text": [
      "ID: 25/35 -- Number of found candidates so far: 5, searched: 5\n",
      "=========== Start the search for 25 Surrey\n"
     ]
    },
    {
     "name": "stderr",
     "output_type": "stream",
     "text": [
      "\r"
     ]
    },
    {
     "data": {
      "application/vnd.jupyter.widget-view+json": {
       "model_id": "",
       "version_major": 2,
       "version_minor": 0
      },
      "text/plain": [
       "HBox(children=(FloatProgress(value=0.0, max=1.0), HTML(value='')))"
      ]
     },
     "metadata": {},
     "output_type": "display_data"
    },
    {
     "name": "stderr",
     "output_type": "stream",
     "text": [
      "                                                 "
     ]
    },
    {
     "name": "stdout",
     "output_type": "stream",
     "text": [
      "ID: 26/35 -- Number of found candidates so far: 5, searched: 5\n",
      "=========== Start the search for 26 Surr\n"
     ]
    },
    {
     "name": "stderr",
     "output_type": "stream",
     "text": [
      "\r"
     ]
    },
    {
     "data": {
      "application/vnd.jupyter.widget-view+json": {
       "model_id": "",
       "version_major": 2,
       "version_minor": 0
      },
      "text/plain": [
       "HBox(children=(FloatProgress(value=0.0, max=1.0), HTML(value='')))"
      ]
     },
     "metadata": {},
     "output_type": "display_data"
    },
    {
     "name": "stderr",
     "output_type": "stream",
     "text": [
      "                                                 "
     ]
    },
    {
     "name": "stdout",
     "output_type": "stream",
     "text": [
      "ID: 27/35 -- Number of found candidates so far: 5, searched: 5\n",
      "=========== Start the search for 27 Tyne & Wear\n"
     ]
    },
    {
     "name": "stderr",
     "output_type": "stream",
     "text": [
      "\r"
     ]
    },
    {
     "data": {
      "application/vnd.jupyter.widget-view+json": {
       "model_id": "",
       "version_major": 2,
       "version_minor": 0
      },
      "text/plain": [
       "HBox(children=(FloatProgress(value=0.0, max=1.0), HTML(value='')))"
      ]
     },
     "metadata": {},
     "output_type": "display_data"
    },
    {
     "name": "stderr",
     "output_type": "stream",
     "text": [
      "                                                 "
     ]
    },
    {
     "name": "stdout",
     "output_type": "stream",
     "text": [
      "ID: 28/35 -- Number of found candidates so far: 5, searched: 5\n",
      "=========== Start the search for 28 Tyron\n"
     ]
    },
    {
     "name": "stderr",
     "output_type": "stream",
     "text": [
      "\r"
     ]
    },
    {
     "data": {
      "application/vnd.jupyter.widget-view+json": {
       "model_id": "",
       "version_major": 2,
       "version_minor": 0
      },
      "text/plain": [
       "HBox(children=(FloatProgress(value=0.0, max=1.0), HTML(value='')))"
      ]
     },
     "metadata": {},
     "output_type": "display_data"
    },
    {
     "name": "stderr",
     "output_type": "stream",
     "text": [
      "                                                 "
     ]
    },
    {
     "name": "stdout",
     "output_type": "stream",
     "text": [
      "ID: 29/35 -- Number of found candidates so far: 5, searched: 5\n",
      "=========== Start the search for 29 Warwicksh\n"
     ]
    },
    {
     "name": "stderr",
     "output_type": "stream",
     "text": [
      "\r"
     ]
    },
    {
     "data": {
      "application/vnd.jupyter.widget-view+json": {
       "model_id": "",
       "version_major": 2,
       "version_minor": 0
      },
      "text/plain": [
       "HBox(children=(FloatProgress(value=0.0, max=1.0), HTML(value='')))"
      ]
     },
     "metadata": {},
     "output_type": "display_data"
    },
    {
     "name": "stderr",
     "output_type": "stream",
     "text": [
      "                                                 "
     ]
    },
    {
     "name": "stdout",
     "output_type": "stream",
     "text": [
      "ID: 30/35 -- Number of found candidates so far: 5, searched: 5\n",
      "=========== Start the search for 30 W Berkshire\n"
     ]
    },
    {
     "name": "stderr",
     "output_type": "stream",
     "text": [
      "\r"
     ]
    },
    {
     "data": {
      "application/vnd.jupyter.widget-view+json": {
       "model_id": "",
       "version_major": 2,
       "version_minor": 0
      },
      "text/plain": [
       "HBox(children=(FloatProgress(value=0.0, max=1.0), HTML(value='')))"
      ]
     },
     "metadata": {},
     "output_type": "display_data"
    },
    {
     "name": "stderr",
     "output_type": "stream",
     "text": [
      "                                                 "
     ]
    },
    {
     "name": "stdout",
     "output_type": "stream",
     "text": [
      "ID: 31/35 -- Number of found candidates so far: 5, searched: 5\n",
      "=========== Start the search for 31 Wiltsh\n"
     ]
    },
    {
     "name": "stderr",
     "output_type": "stream",
     "text": [
      "\r"
     ]
    },
    {
     "data": {
      "application/vnd.jupyter.widget-view+json": {
       "model_id": "",
       "version_major": 2,
       "version_minor": 0
      },
      "text/plain": [
       "HBox(children=(FloatProgress(value=0.0, max=1.0), HTML(value='')))"
      ]
     },
     "metadata": {},
     "output_type": "display_data"
    },
    {
     "name": "stderr",
     "output_type": "stream",
     "text": [
      "                                                 "
     ]
    },
    {
     "name": "stdout",
     "output_type": "stream",
     "text": [
      "ID: 32/35 -- Number of found candidates so far: 5, searched: 5\n",
      "=========== Start the search for 32 Worchestershire\n"
     ]
    },
    {
     "name": "stderr",
     "output_type": "stream",
     "text": [
      "\r"
     ]
    },
    {
     "data": {
      "application/vnd.jupyter.widget-view+json": {
       "model_id": "",
       "version_major": 2,
       "version_minor": 0
      },
      "text/plain": [
       "HBox(children=(FloatProgress(value=0.0, max=1.0), HTML(value='')))"
      ]
     },
     "metadata": {},
     "output_type": "display_data"
    },
    {
     "name": "stderr",
     "output_type": "stream",
     "text": [
      "                                                 "
     ]
    },
    {
     "name": "stdout",
     "output_type": "stream",
     "text": [
      "ID: 33/35 -- Number of found candidates so far: 5, searched: 5\n",
      "=========== Start the search for 33 Worcs\n"
     ]
    },
    {
     "name": "stderr",
     "output_type": "stream",
     "text": [
      "\r"
     ]
    },
    {
     "data": {
      "application/vnd.jupyter.widget-view+json": {
       "model_id": "",
       "version_major": 2,
       "version_minor": 0
      },
      "text/plain": [
       "HBox(children=(FloatProgress(value=0.0, max=1.0), HTML(value='')))"
      ]
     },
     "metadata": {},
     "output_type": "display_data"
    },
    {
     "name": "stderr",
     "output_type": "stream",
     "text": [
      "                                                 "
     ]
    },
    {
     "name": "stdout",
     "output_type": "stream",
     "text": [
      "ID: 34/35 -- Number of found candidates so far: 5, searched: 5\n",
      "=========== Start the search for 34 Tyne\n"
     ]
    },
    {
     "name": "stderr",
     "output_type": "stream",
     "text": [
      "\r"
     ]
    },
    {
     "data": {
      "application/vnd.jupyter.widget-view+json": {
       "model_id": "",
       "version_major": 2,
       "version_minor": 0
      },
      "text/plain": [
       "HBox(children=(FloatProgress(value=0.0, max=1.0), HTML(value='')))"
      ]
     },
     "metadata": {},
     "output_type": "display_data"
    },
    {
     "name": "stdout",
     "output_type": "stream",
     "text": [
      "ID: 35/35 -- Number of found candidates so far: 5, searched: 5\n",
      "TOTAL TIME: 2.7938597202301025\n"
     ]
    }
   ],
   "source": [
    "from DeezyMatch import candidate_ranker\n",
    "\n",
    "# Select candidates based on L2-norm distance (aka faiss distance):\n",
    "# find candidates from candidate_scenario \n",
    "# for queries specified in query_scenario\n",
    "candidates_pd = \\\n",
    "    candidate_ranker(query_scenario=\"./combined/queries_demo1\",\n",
    "                     candidate_scenario=\"./combined/candidates_demo1\", \n",
    "                     ranking_metric=\"faiss\", \n",
    "                     selection_threshold=100., \n",
    "                     num_candidates=5, \n",
    "                     search_size=5, \n",
    "                     output_path=\"ranker_results/candidates_deezymatch_demo1\", \n",
    "                     pretrained_model_path=\"../../models/wikigaz_en_brit/wikigaz_en_brit.model\", \n",
    "                     pretrained_vocab_path=\"../../models/wikigaz_en_brit/wikigaz_en_brit.vocab\")"
   ]
  },
  {
   "cell_type": "code",
   "execution_count": 8,
   "metadata": {},
   "outputs": [
    {
     "data": {
      "text/html": [
       "<div>\n",
       "<style scoped>\n",
       "    .dataframe tbody tr th:only-of-type {\n",
       "        vertical-align: middle;\n",
       "    }\n",
       "\n",
       "    .dataframe tbody tr th {\n",
       "        vertical-align: top;\n",
       "    }\n",
       "\n",
       "    .dataframe thead th {\n",
       "        text-align: right;\n",
       "    }\n",
       "</style>\n",
       "<table border=\"1\" class=\"dataframe\">\n",
       "  <thead>\n",
       "    <tr style=\"text-align: right;\">\n",
       "      <th></th>\n",
       "      <th>query</th>\n",
       "      <th>pred_score</th>\n",
       "      <th>1-pred_score</th>\n",
       "      <th>faiss_distance</th>\n",
       "      <th>cosine_dist</th>\n",
       "      <th>candidate_original_ids</th>\n",
       "      <th>query_original_id</th>\n",
       "      <th>num_all_searches</th>\n",
       "    </tr>\n",
       "    <tr>\n",
       "      <th>id</th>\n",
       "      <th></th>\n",
       "      <th></th>\n",
       "      <th></th>\n",
       "      <th></th>\n",
       "      <th></th>\n",
       "      <th></th>\n",
       "      <th></th>\n",
       "      <th></th>\n",
       "    </tr>\n",
       "  </thead>\n",
       "  <tbody>\n",
       "    <tr>\n",
       "      <th>0</th>\n",
       "      <td>E Ayrshire</td>\n",
       "      <td>{'East Ayrshire': 0.9057, 'South Ayrshire': 0....</td>\n",
       "      <td>{'East Ayrshire': 0.09430000000000005, 'South ...</td>\n",
       "      <td>{'East Ayrshire': 6.9775, 'South Ayrshire': 8....</td>\n",
       "      <td>{'East Ayrshire': 0.0998, 'South Ayrshire': 0....</td>\n",
       "      <td>{'East Ayrshire': 64, 'South Ayrshire': 83, 'L...</td>\n",
       "      <td>0</td>\n",
       "      <td>5</td>\n",
       "    </tr>\n",
       "    <tr>\n",
       "      <th>1</th>\n",
       "      <td>North Lanarcshire</td>\n",
       "      <td>{'North Lanarkshire': 0.9776, 'North Ayrshire'...</td>\n",
       "      <td>{'North Lanarkshire': 0.022399999999999975, 'N...</td>\n",
       "      <td>{'North Lanarkshire': 2.8741, 'North Ayrshire'...</td>\n",
       "      <td>{'North Lanarkshire': 0.0443, 'North Ayrshire'...</td>\n",
       "      <td>{'North Lanarkshire': 77, 'North Ayrshire': 76...</td>\n",
       "      <td>1</td>\n",
       "      <td>5</td>\n",
       "    </tr>\n",
       "    <tr>\n",
       "      <th>2</th>\n",
       "      <td>N. Yorksh</td>\n",
       "      <td>{'North Yorkshire': 0.9019, 'South Yorkshire':...</td>\n",
       "      <td>{'North Yorkshire': 0.09809999999999997, 'Sout...</td>\n",
       "      <td>{'North Yorkshire': 8.5669, 'South Yorkshire':...</td>\n",
       "      <td>{'North Yorkshire': 0.1352, 'South Yorkshire':...</td>\n",
       "      <td>{'North Yorkshire': 24, 'South Yorkshire': 31,...</td>\n",
       "      <td>2</td>\n",
       "      <td>5</td>\n",
       "    </tr>\n",
       "    <tr>\n",
       "      <th>3</th>\n",
       "      <td>N.amptonshire</td>\n",
       "      <td>{'Northamptonshire': 0.6901, 'Monmouthshire': ...</td>\n",
       "      <td>{'Northamptonshire': 0.30989999999999995, 'Mon...</td>\n",
       "      <td>{'Northamptonshire': 13.3225, 'Monmouthshire':...</td>\n",
       "      <td>{'Northamptonshire': 0.2228, 'Monmouthshire': ...</td>\n",
       "      <td>{'Northamptonshire': 25, 'Monmouthshire': 46, ...</td>\n",
       "      <td>3</td>\n",
       "      <td>5</td>\n",
       "    </tr>\n",
       "    <tr>\n",
       "      <th>4</th>\n",
       "      <td>Northumbld</td>\n",
       "      <td>{'Northumberland': 0.7131, 'Norfolk': 0.3142, ...</td>\n",
       "      <td>{'Northumberland': 0.28690000000000004, 'Norfo...</td>\n",
       "      <td>{'Northumberland': 18.7103, 'Norfolk': 25.93, ...</td>\n",
       "      <td>{'Northumberland': 0.3622, 'Norfolk': 0.4085, ...</td>\n",
       "      <td>{'Northumberland': 26, 'Norfolk': 23, 'Antrim'...</td>\n",
       "      <td>4</td>\n",
       "      <td>5</td>\n",
       "    </tr>\n",
       "    <tr>\n",
       "      <th>5</th>\n",
       "      <td>Northumberl</td>\n",
       "      <td>{'Northumberland': 0.8548, 'Antrim': 0.6776, '...</td>\n",
       "      <td>{'Northumberland': 0.1452, 'Antrim': 0.3224, '...</td>\n",
       "      <td>{'Northumberland': 9.1898, 'Antrim': 27.7713, ...</td>\n",
       "      <td>{'Northumberland': 0.1627, 'Antrim': 0.5933, '...</td>\n",
       "      <td>{'Northumberland': 26, 'Antrim': 88, 'Cornwall...</td>\n",
       "      <td>5</td>\n",
       "      <td>5</td>\n",
       "    </tr>\n",
       "    <tr>\n",
       "      <th>6</th>\n",
       "      <td>Nottingham shire</td>\n",
       "      <td>{'Nottinghamshire': 0.9879, 'Antrim': 0.7528, ...</td>\n",
       "      <td>{'Nottinghamshire': 0.0121, 'Antrim': 0.247199...</td>\n",
       "      <td>{'Nottinghamshire': 2.0679, 'Antrim': 19.4746,...</td>\n",
       "      <td>{'Nottinghamshire': 0.0327, 'Antrim': 0.4139, ...</td>\n",
       "      <td>{'Nottinghamshire': 27, 'Antrim': 88, 'Kent': ...</td>\n",
       "      <td>6</td>\n",
       "      <td>5</td>\n",
       "    </tr>\n",
       "    <tr>\n",
       "      <th>7</th>\n",
       "      <td>Orkneys</td>\n",
       "      <td>{'Orkney Islands': 0.9698, 'Merionethshire': 0...</td>\n",
       "      <td>{'Orkney Islands': 0.030200000000000005, 'Meri...</td>\n",
       "      <td>{'Orkney Islands': 4.5361, 'Merionethshire': 2...</td>\n",
       "      <td>{'Orkney Islands': 0.0782, 'Merionethshire': 0...</td>\n",
       "      <td>{'Orkney Islands': 78, 'Merionethshire': 45, '...</td>\n",
       "      <td>7</td>\n",
       "      <td>5</td>\n",
       "    </tr>\n",
       "    <tr>\n",
       "      <th>8</th>\n",
       "      <td>Pembrockshire</td>\n",
       "      <td>{'Pembrokeshire': 0.9744, 'West Berkshire': 0....</td>\n",
       "      <td>{'Pembrokeshire': 0.025599999999999956, 'West ...</td>\n",
       "      <td>{'Pembrokeshire': 2.6769, 'West Berkshire': 18...</td>\n",
       "      <td>{'Pembrokeshire': 0.0387, 'West Berkshire': 0....</td>\n",
       "      <td>{'Pembrokeshire': 48, 'West Berkshire': 37, 'B...</td>\n",
       "      <td>8</td>\n",
       "      <td>5</td>\n",
       "    </tr>\n",
       "    <tr>\n",
       "      <th>9</th>\n",
       "      <td>Perth&amp;Kinross</td>\n",
       "      <td>{'Perth and Kinross': 0.718, 'Wiltshire': 0.32...</td>\n",
       "      <td>{'Perth and Kinross': 0.28200000000000003, 'Wi...</td>\n",
       "      <td>{'Perth and Kinross': 15.4106, 'Wiltshire': 15...</td>\n",
       "      <td>{'Perth and Kinross': 0.3792, 'Wiltshire': 0.4...</td>\n",
       "      <td>{'Perth and Kinross': 79, 'Wiltshire': 41, 'Fe...</td>\n",
       "      <td>9</td>\n",
       "      <td>5</td>\n",
       "    </tr>\n",
       "    <tr>\n",
       "      <th>10</th>\n",
       "      <td>Perth-Kinross</td>\n",
       "      <td>{'Perth and Kinross': 0.9001, 'Wiltshire': 0.2...</td>\n",
       "      <td>{'Perth and Kinross': 0.09989999999999999, 'Wi...</td>\n",
       "      <td>{'Perth and Kinross': 8.3341, 'Wiltshire': 15....</td>\n",
       "      <td>{'Perth and Kinross': 0.2078, 'Wiltshire': 0.4...</td>\n",
       "      <td>{'Perth and Kinross': 79, 'Wiltshire': 41, 'St...</td>\n",
       "      <td>10</td>\n",
       "      <td>5</td>\n",
       "    </tr>\n",
       "    <tr>\n",
       "      <th>11</th>\n",
       "      <td>Kinross</td>\n",
       "      <td>{'Angus': 0.8597, 'Perth and Kinross': 0.4612,...</td>\n",
       "      <td>{'Angus': 0.14029999999999998, 'Perth and Kinr...</td>\n",
       "      <td>{'Angus': 13.7481, 'Perth and Kinross': 16.745...</td>\n",
       "      <td>{'Angus': 0.4149, 'Perth and Kinross': 0.4174,...</td>\n",
       "      <td>{'Angus': 58, 'Perth and Kinross': 79, 'West S...</td>\n",
       "      <td>11</td>\n",
       "      <td>5</td>\n",
       "    </tr>\n",
       "    <tr>\n",
       "      <th>12</th>\n",
       "      <td>Radnorshire</td>\n",
       "      <td>{'Radnorshire': 0.946, 'Derry and Londonderry'...</td>\n",
       "      <td>{'Radnorshire': 0.05400000000000005, 'Derry an...</td>\n",
       "      <td>{'Radnorshire': 0.0, 'Derry and Londonderry': ...</td>\n",
       "      <td>{'Radnorshire': 0.0, 'Derry and Londonderry': ...</td>\n",
       "      <td>{'Radnorshire': 49, 'Derry and Londonderry': 9...</td>\n",
       "      <td>12</td>\n",
       "      <td>5</td>\n",
       "    </tr>\n",
       "    <tr>\n",
       "      <th>13</th>\n",
       "      <td>Renfrew</td>\n",
       "      <td>{'Renfrewshire': 0.8605, 'Pembrokeshire': 0.23...</td>\n",
       "      <td>{'Renfrewshire': 0.13949999999999996, 'Pembrok...</td>\n",
       "      <td>{'Renfrewshire': 14.2853, 'Pembrokeshire': 22....</td>\n",
       "      <td>{'Renfrewshire': 0.2231, 'Pembrokeshire': 0.34...</td>\n",
       "      <td>{'Renfrewshire': 80, 'Pembrokeshire': 48, 'Wil...</td>\n",
       "      <td>13</td>\n",
       "      <td>5</td>\n",
       "    </tr>\n",
       "    <tr>\n",
       "      <th>14</th>\n",
       "      <td>Scot. Borders</td>\n",
       "      <td>{'Scottish Borders': 0.9206, 'Dorset': 0.0446,...</td>\n",
       "      <td>{'Scottish Borders': 0.07940000000000003, 'Dor...</td>\n",
       "      <td>{'Scottish Borders': 5.9288, 'Dorset': 15.2653...</td>\n",
       "      <td>{'Scottish Borders': 0.0887, 'Dorset': 0.2806,...</td>\n",
       "      <td>{'Scottish Borders': 81, 'Dorset': 9, 'West Be...</td>\n",
       "      <td>14</td>\n",
       "      <td>5</td>\n",
       "    </tr>\n",
       "    <tr>\n",
       "      <th>15</th>\n",
       "      <td>Shetlands</td>\n",
       "      <td>{'Shetland Islands': 0.9646, 'East Sussex': 0....</td>\n",
       "      <td>{'Shetland Islands': 0.03539999999999999, 'Eas...</td>\n",
       "      <td>{'Shetland Islands': 1.4292, 'East Sussex': 10...</td>\n",
       "      <td>{'Shetland Islands': 0.0292, 'East Sussex': 0....</td>\n",
       "      <td>{'Shetland Islands': 82, 'East Sussex': 11, 'E...</td>\n",
       "      <td>15</td>\n",
       "      <td>5</td>\n",
       "    </tr>\n",
       "    <tr>\n",
       "      <th>16</th>\n",
       "      <td>Shrops</td>\n",
       "      <td>{'Shropshire': 0.4523, 'Somerset': 0.2738, 'Do...</td>\n",
       "      <td>{'Shropshire': 0.5477000000000001, 'Somerset':...</td>\n",
       "      <td>{'Shropshire': 8.1773, 'Somerset': 12.9459, 'D...</td>\n",
       "      <td>{'Shropshire': 0.146, 'Somerset': 0.2646, 'Dor...</td>\n",
       "      <td>{'Shropshire': 29, 'Somerset': 30, 'Dorset': 9...</td>\n",
       "      <td>16</td>\n",
       "      <td>5</td>\n",
       "    </tr>\n",
       "    <tr>\n",
       "      <th>17</th>\n",
       "      <td>SOMERSUTSIIIIE</td>\n",
       "      <td>{'Somerset': 0.6633, 'Dorset': 0.0083, 'Scotti...</td>\n",
       "      <td>{'Somerset': 0.3367, 'Dorset': 0.9917, 'Scotti...</td>\n",
       "      <td>{'Somerset': 5.3295, 'Dorset': 15.2608, 'Scott...</td>\n",
       "      <td>{'Somerset': 0.1038, 'Dorset': 0.3204, 'Scotti...</td>\n",
       "      <td>{'Somerset': 30, 'Dorset': 9, 'Scottish Border...</td>\n",
       "      <td>17</td>\n",
       "      <td>5</td>\n",
       "    </tr>\n",
       "    <tr>\n",
       "      <th>18</th>\n",
       "      <td>S Ayrshire</td>\n",
       "      <td>{'South Ayrshire': 0.8689, 'East Ayrshire': 0....</td>\n",
       "      <td>{'South Ayrshire': 0.1311, 'East Ayrshire': 0....</td>\n",
       "      <td>{'South Ayrshire': 3.8336, 'East Ayrshire': 5....</td>\n",
       "      <td>{'South Ayrshire': 0.0589, 'East Ayrshire': 0....</td>\n",
       "      <td>{'South Ayrshire': 83, 'East Ayrshire': 64, 'S...</td>\n",
       "      <td>18</td>\n",
       "      <td>5</td>\n",
       "    </tr>\n",
       "    <tr>\n",
       "      <th>19</th>\n",
       "      <td>S. Lanarkshire</td>\n",
       "      <td>{'South Lanarkshire': 0.871, 'South Ayrshire':...</td>\n",
       "      <td>{'South Lanarkshire': 0.129, 'South Ayrshire':...</td>\n",
       "      <td>{'South Lanarkshire': 3.8001, 'South Ayrshire'...</td>\n",
       "      <td>{'South Lanarkshire': 0.0635, 'South Ayrshire'...</td>\n",
       "      <td>{'South Lanarkshire': 84, 'South Ayrshire': 83...</td>\n",
       "      <td>19</td>\n",
       "      <td>5</td>\n",
       "    </tr>\n",
       "    <tr>\n",
       "      <th>20</th>\n",
       "      <td>South Yorkshire</td>\n",
       "      <td>{'South Yorkshire': 0.979, 'West Yorkshire': 0...</td>\n",
       "      <td>{'South Yorkshire': 0.02100000000000002, 'West...</td>\n",
       "      <td>{'South Yorkshire': 0.0, 'West Yorkshire': 6.4...</td>\n",
       "      <td>{'South Yorkshire': 0.0, 'West Yorkshire': 0.1...</td>\n",
       "      <td>{'South Yorkshire': 31, 'West Yorkshire': 40, ...</td>\n",
       "      <td>20</td>\n",
       "      <td>5</td>\n",
       "    </tr>\n",
       "    <tr>\n",
       "      <th>21</th>\n",
       "      <td>Staffordshire</td>\n",
       "      <td>{'Staffordshire': 0.9717, 'Scottish Borders': ...</td>\n",
       "      <td>{'Staffordshire': 0.028299999999999992, 'Scott...</td>\n",
       "      <td>{'Staffordshire': 0.0, 'Scottish Borders': 27....</td>\n",
       "      <td>{'Staffordshire': 0.0, 'Scottish Borders': 0.3...</td>\n",
       "      <td>{'Staffordshire': 32, 'Scottish Borders': 81, ...</td>\n",
       "      <td>21</td>\n",
       "      <td>5</td>\n",
       "    </tr>\n",
       "    <tr>\n",
       "      <th>22</th>\n",
       "      <td>Sterling</td>\n",
       "      <td>{'Stirling': 0.963, 'Antrim': 0.4679, 'Kent': ...</td>\n",
       "      <td>{'Stirling': 0.03700000000000003, 'Antrim': 0....</td>\n",
       "      <td>{'Stirling': 1.7116, 'Antrim': 17.0471, 'Kent'...</td>\n",
       "      <td>{'Stirling': 0.0464, 'Antrim': 0.4989, 'Kent':...</td>\n",
       "      <td>{'Stirling': 85, 'Antrim': 88, 'Kent': 18, 'Ty...</td>\n",
       "      <td>22</td>\n",
       "      <td>5</td>\n",
       "    </tr>\n",
       "    <tr>\n",
       "      <th>23</th>\n",
       "      <td>Suffolk</td>\n",
       "      <td>{'Suffolk': 0.9614, 'Norfolk': 0.0046, 'Glasgo...</td>\n",
       "      <td>{'Suffolk': 0.03859999999999997, 'Norfolk': 0....</td>\n",
       "      <td>{'Suffolk': 0.0, 'Norfolk': 40.9484, 'Glasgow ...</td>\n",
       "      <td>{'Suffolk': -0.0, 'Norfolk': 0.554, 'Glasgow C...</td>\n",
       "      <td>{'Suffolk': 33, 'Norfolk': 23, 'Glasgow City':...</td>\n",
       "      <td>23</td>\n",
       "      <td>5</td>\n",
       "    </tr>\n",
       "    <tr>\n",
       "      <th>24</th>\n",
       "      <td>Suff</td>\n",
       "      <td>{'Suffolk': 0.466, 'Fife': 0.0458, 'Angus': 0....</td>\n",
       "      <td>{'Suffolk': 0.534, 'Fife': 0.9542, 'Angus': 0....</td>\n",
       "      <td>{'Suffolk': 18.9209, 'Fife': 19.7081, 'Angus':...</td>\n",
       "      <td>{'Suffolk': 0.2958, 'Fife': 0.4629, 'Angus': 0...</td>\n",
       "      <td>{'Suffolk': 33, 'Fife': 70, 'Angus': 58, 'West...</td>\n",
       "      <td>24</td>\n",
       "      <td>5</td>\n",
       "    </tr>\n",
       "    <tr>\n",
       "      <th>25</th>\n",
       "      <td>Surrey</td>\n",
       "      <td>{'Surrey': 0.9141, 'Shropshire': 0.695, 'South...</td>\n",
       "      <td>{'Surrey': 0.08589999999999998, 'Shropshire': ...</td>\n",
       "      <td>{'Surrey': 0.0, 'Shropshire': 12.222, 'South A...</td>\n",
       "      <td>{'Surrey': 0.0, 'Shropshire': 0.2062, 'South A...</td>\n",
       "      <td>{'Surrey': 34, 'Shropshire': 29, 'South Ayrshi...</td>\n",
       "      <td>25</td>\n",
       "      <td>5</td>\n",
       "    </tr>\n",
       "    <tr>\n",
       "      <th>26</th>\n",
       "      <td>Surr</td>\n",
       "      <td>{'Surrey': 0.1365, 'Shropshire': 0.2523, 'Dors...</td>\n",
       "      <td>{'Surrey': 0.8634999999999999, 'Shropshire': 0...</td>\n",
       "      <td>{'Surrey': 9.8634, 'Shropshire': 12.3621, 'Dor...</td>\n",
       "      <td>{'Surrey': 0.1844, 'Shropshire': 0.2326, 'Dors...</td>\n",
       "      <td>{'Surrey': 34, 'Shropshire': 29, 'Dorset': 9, ...</td>\n",
       "      <td>26</td>\n",
       "      <td>5</td>\n",
       "    </tr>\n",
       "    <tr>\n",
       "      <th>27</th>\n",
       "      <td>Tyne &amp; Wear</td>\n",
       "      <td>{'Tyne and Wear': 0.9443, 'North Yorkshire': 0...</td>\n",
       "      <td>{'Tyne and Wear': 0.05569999999999997, 'North ...</td>\n",
       "      <td>{'Tyne and Wear': 5.4249, 'North Yorkshire': 1...</td>\n",
       "      <td>{'Tyne and Wear': 0.0965, 'North Yorkshire': 0...</td>\n",
       "      <td>{'Tyne and Wear': 35, 'North Yorkshire': 24, '...</td>\n",
       "      <td>27</td>\n",
       "      <td>5</td>\n",
       "    </tr>\n",
       "    <tr>\n",
       "      <th>28</th>\n",
       "      <td>Tyron</td>\n",
       "      <td>{'Tyrone': 0.8978, 'Flintshire': 0.5581, 'Stir...</td>\n",
       "      <td>{'Tyrone': 0.10219999999999996, 'Flintshire': ...</td>\n",
       "      <td>{'Tyrone': 1.1959, 'Flintshire': 16.6245, 'Sti...</td>\n",
       "      <td>{'Tyrone': 0.0204, 'Flintshire': 0.3076, 'Stir...</td>\n",
       "      <td>{'Tyrone': 93, 'Flintshire': 43, 'Stirling': 8...</td>\n",
       "      <td>28</td>\n",
       "      <td>5</td>\n",
       "    </tr>\n",
       "    <tr>\n",
       "      <th>29</th>\n",
       "      <td>Warwicksh</td>\n",
       "      <td>{'Warwickshire': 0.9068, 'Worcestershire': 0.0...</td>\n",
       "      <td>{'Warwickshire': 0.09319999999999995, 'Worcest...</td>\n",
       "      <td>{'Warwickshire': 5.4924, 'Worcestershire': 28....</td>\n",
       "      <td>{'Warwickshire': 0.0688, 'Worcestershire': 0.4...</td>\n",
       "      <td>{'Warwickshire': 36, 'Worcestershire': 42, 'Fa...</td>\n",
       "      <td>29</td>\n",
       "      <td>5</td>\n",
       "    </tr>\n",
       "    <tr>\n",
       "      <th>30</th>\n",
       "      <td>W Berkshire</td>\n",
       "      <td>{'West Berkshire': 0.6569, 'Breconshire': 0.22...</td>\n",
       "      <td>{'West Berkshire': 0.34309999999999996, 'Breco...</td>\n",
       "      <td>{'West Berkshire': 9.8366, 'Breconshire': 12.8...</td>\n",
       "      <td>{'West Berkshire': 0.1514, 'Breconshire': 0.20...</td>\n",
       "      <td>{'West Berkshire': 37, 'Breconshire': 51, 'Bed...</td>\n",
       "      <td>30</td>\n",
       "      <td>5</td>\n",
       "    </tr>\n",
       "    <tr>\n",
       "      <th>31</th>\n",
       "      <td>Wiltsh</td>\n",
       "      <td>{'Wiltshire': 0.5083, 'West Sussex': 0.7487, '...</td>\n",
       "      <td>{'Wiltshire': 0.4917, 'West Sussex': 0.2512999...</td>\n",
       "      <td>{'Wiltshire': 10.9897, 'West Sussex': 13.2182,...</td>\n",
       "      <td>{'Wiltshire': 0.35, 'West Sussex': 0.2862, 'We...</td>\n",
       "      <td>{'Wiltshire': 41, 'West Sussex': 39, 'West Lot...</td>\n",
       "      <td>31</td>\n",
       "      <td>5</td>\n",
       "    </tr>\n",
       "    <tr>\n",
       "      <th>32</th>\n",
       "      <td>Worchestershire</td>\n",
       "      <td>{'Worcestershire': 0.9431, 'Oxfordshire': 0.48...</td>\n",
       "      <td>{'Worcestershire': 0.05689999999999995, 'Oxfor...</td>\n",
       "      <td>{'Worcestershire': 2.0587, 'Oxfordshire': 14.5...</td>\n",
       "      <td>{'Worcestershire': 0.0323, 'Oxfordshire': 0.21...</td>\n",
       "      <td>{'Worcestershire': 42, 'Oxfordshire': 28, 'Wes...</td>\n",
       "      <td>32</td>\n",
       "      <td>5</td>\n",
       "    </tr>\n",
       "    <tr>\n",
       "      <th>33</th>\n",
       "      <td>Worcs</td>\n",
       "      <td>{'Worcestershire': 0.6672, 'Oxfordshire': 0.38...</td>\n",
       "      <td>{'Worcestershire': 0.3328, 'Oxfordshire': 0.61...</td>\n",
       "      <td>{'Worcestershire': 11.9511, 'Oxfordshire': 18....</td>\n",
       "      <td>{'Worcestershire': 0.2113, 'Oxfordshire': 0.30...</td>\n",
       "      <td>{'Worcestershire': 42, 'Oxfordshire': 28, 'Dor...</td>\n",
       "      <td>33</td>\n",
       "      <td>5</td>\n",
       "    </tr>\n",
       "    <tr>\n",
       "      <th>34</th>\n",
       "      <td>Tyne</td>\n",
       "      <td>{'Kent': 0.6046, 'Tyrone': 0.305, 'Stirling': ...</td>\n",
       "      <td>{'Kent': 0.3954, 'Tyrone': 0.6950000000000001,...</td>\n",
       "      <td>{'Kent': 14.0715, 'Tyrone': 14.7303, 'Stirling...</td>\n",
       "      <td>{'Kent': 0.2789, 'Tyrone': 0.2622, 'Stirling':...</td>\n",
       "      <td>{'Kent': 18, 'Tyrone': 93, 'Stirling': 85, 'Ty...</td>\n",
       "      <td>34</td>\n",
       "      <td>5</td>\n",
       "    </tr>\n",
       "  </tbody>\n",
       "</table>\n",
       "</div>"
      ],
      "text/plain": [
       "                query                                         pred_score  \\\n",
       "id                                                                         \n",
       "0          E Ayrshire  {'East Ayrshire': 0.9057, 'South Ayrshire': 0....   \n",
       "1   North Lanarcshire  {'North Lanarkshire': 0.9776, 'North Ayrshire'...   \n",
       "2           N. Yorksh  {'North Yorkshire': 0.9019, 'South Yorkshire':...   \n",
       "3       N.amptonshire  {'Northamptonshire': 0.6901, 'Monmouthshire': ...   \n",
       "4          Northumbld  {'Northumberland': 0.7131, 'Norfolk': 0.3142, ...   \n",
       "5         Northumberl  {'Northumberland': 0.8548, 'Antrim': 0.6776, '...   \n",
       "6    Nottingham shire  {'Nottinghamshire': 0.9879, 'Antrim': 0.7528, ...   \n",
       "7             Orkneys  {'Orkney Islands': 0.9698, 'Merionethshire': 0...   \n",
       "8       Pembrockshire  {'Pembrokeshire': 0.9744, 'West Berkshire': 0....   \n",
       "9       Perth&Kinross  {'Perth and Kinross': 0.718, 'Wiltshire': 0.32...   \n",
       "10      Perth-Kinross  {'Perth and Kinross': 0.9001, 'Wiltshire': 0.2...   \n",
       "11            Kinross  {'Angus': 0.8597, 'Perth and Kinross': 0.4612,...   \n",
       "12        Radnorshire  {'Radnorshire': 0.946, 'Derry and Londonderry'...   \n",
       "13            Renfrew  {'Renfrewshire': 0.8605, 'Pembrokeshire': 0.23...   \n",
       "14      Scot. Borders  {'Scottish Borders': 0.9206, 'Dorset': 0.0446,...   \n",
       "15          Shetlands  {'Shetland Islands': 0.9646, 'East Sussex': 0....   \n",
       "16             Shrops  {'Shropshire': 0.4523, 'Somerset': 0.2738, 'Do...   \n",
       "17     SOMERSUTSIIIIE  {'Somerset': 0.6633, 'Dorset': 0.0083, 'Scotti...   \n",
       "18         S Ayrshire  {'South Ayrshire': 0.8689, 'East Ayrshire': 0....   \n",
       "19     S. Lanarkshire  {'South Lanarkshire': 0.871, 'South Ayrshire':...   \n",
       "20    South Yorkshire  {'South Yorkshire': 0.979, 'West Yorkshire': 0...   \n",
       "21      Staffordshire  {'Staffordshire': 0.9717, 'Scottish Borders': ...   \n",
       "22           Sterling  {'Stirling': 0.963, 'Antrim': 0.4679, 'Kent': ...   \n",
       "23            Suffolk  {'Suffolk': 0.9614, 'Norfolk': 0.0046, 'Glasgo...   \n",
       "24               Suff  {'Suffolk': 0.466, 'Fife': 0.0458, 'Angus': 0....   \n",
       "25             Surrey  {'Surrey': 0.9141, 'Shropshire': 0.695, 'South...   \n",
       "26               Surr  {'Surrey': 0.1365, 'Shropshire': 0.2523, 'Dors...   \n",
       "27        Tyne & Wear  {'Tyne and Wear': 0.9443, 'North Yorkshire': 0...   \n",
       "28              Tyron  {'Tyrone': 0.8978, 'Flintshire': 0.5581, 'Stir...   \n",
       "29          Warwicksh  {'Warwickshire': 0.9068, 'Worcestershire': 0.0...   \n",
       "30        W Berkshire  {'West Berkshire': 0.6569, 'Breconshire': 0.22...   \n",
       "31             Wiltsh  {'Wiltshire': 0.5083, 'West Sussex': 0.7487, '...   \n",
       "32    Worchestershire  {'Worcestershire': 0.9431, 'Oxfordshire': 0.48...   \n",
       "33              Worcs  {'Worcestershire': 0.6672, 'Oxfordshire': 0.38...   \n",
       "34               Tyne  {'Kent': 0.6046, 'Tyrone': 0.305, 'Stirling': ...   \n",
       "\n",
       "                                         1-pred_score  \\\n",
       "id                                                      \n",
       "0   {'East Ayrshire': 0.09430000000000005, 'South ...   \n",
       "1   {'North Lanarkshire': 0.022399999999999975, 'N...   \n",
       "2   {'North Yorkshire': 0.09809999999999997, 'Sout...   \n",
       "3   {'Northamptonshire': 0.30989999999999995, 'Mon...   \n",
       "4   {'Northumberland': 0.28690000000000004, 'Norfo...   \n",
       "5   {'Northumberland': 0.1452, 'Antrim': 0.3224, '...   \n",
       "6   {'Nottinghamshire': 0.0121, 'Antrim': 0.247199...   \n",
       "7   {'Orkney Islands': 0.030200000000000005, 'Meri...   \n",
       "8   {'Pembrokeshire': 0.025599999999999956, 'West ...   \n",
       "9   {'Perth and Kinross': 0.28200000000000003, 'Wi...   \n",
       "10  {'Perth and Kinross': 0.09989999999999999, 'Wi...   \n",
       "11  {'Angus': 0.14029999999999998, 'Perth and Kinr...   \n",
       "12  {'Radnorshire': 0.05400000000000005, 'Derry an...   \n",
       "13  {'Renfrewshire': 0.13949999999999996, 'Pembrok...   \n",
       "14  {'Scottish Borders': 0.07940000000000003, 'Dor...   \n",
       "15  {'Shetland Islands': 0.03539999999999999, 'Eas...   \n",
       "16  {'Shropshire': 0.5477000000000001, 'Somerset':...   \n",
       "17  {'Somerset': 0.3367, 'Dorset': 0.9917, 'Scotti...   \n",
       "18  {'South Ayrshire': 0.1311, 'East Ayrshire': 0....   \n",
       "19  {'South Lanarkshire': 0.129, 'South Ayrshire':...   \n",
       "20  {'South Yorkshire': 0.02100000000000002, 'West...   \n",
       "21  {'Staffordshire': 0.028299999999999992, 'Scott...   \n",
       "22  {'Stirling': 0.03700000000000003, 'Antrim': 0....   \n",
       "23  {'Suffolk': 0.03859999999999997, 'Norfolk': 0....   \n",
       "24  {'Suffolk': 0.534, 'Fife': 0.9542, 'Angus': 0....   \n",
       "25  {'Surrey': 0.08589999999999998, 'Shropshire': ...   \n",
       "26  {'Surrey': 0.8634999999999999, 'Shropshire': 0...   \n",
       "27  {'Tyne and Wear': 0.05569999999999997, 'North ...   \n",
       "28  {'Tyrone': 0.10219999999999996, 'Flintshire': ...   \n",
       "29  {'Warwickshire': 0.09319999999999995, 'Worcest...   \n",
       "30  {'West Berkshire': 0.34309999999999996, 'Breco...   \n",
       "31  {'Wiltshire': 0.4917, 'West Sussex': 0.2512999...   \n",
       "32  {'Worcestershire': 0.05689999999999995, 'Oxfor...   \n",
       "33  {'Worcestershire': 0.3328, 'Oxfordshire': 0.61...   \n",
       "34  {'Kent': 0.3954, 'Tyrone': 0.6950000000000001,...   \n",
       "\n",
       "                                       faiss_distance  \\\n",
       "id                                                      \n",
       "0   {'East Ayrshire': 6.9775, 'South Ayrshire': 8....   \n",
       "1   {'North Lanarkshire': 2.8741, 'North Ayrshire'...   \n",
       "2   {'North Yorkshire': 8.5669, 'South Yorkshire':...   \n",
       "3   {'Northamptonshire': 13.3225, 'Monmouthshire':...   \n",
       "4   {'Northumberland': 18.7103, 'Norfolk': 25.93, ...   \n",
       "5   {'Northumberland': 9.1898, 'Antrim': 27.7713, ...   \n",
       "6   {'Nottinghamshire': 2.0679, 'Antrim': 19.4746,...   \n",
       "7   {'Orkney Islands': 4.5361, 'Merionethshire': 2...   \n",
       "8   {'Pembrokeshire': 2.6769, 'West Berkshire': 18...   \n",
       "9   {'Perth and Kinross': 15.4106, 'Wiltshire': 15...   \n",
       "10  {'Perth and Kinross': 8.3341, 'Wiltshire': 15....   \n",
       "11  {'Angus': 13.7481, 'Perth and Kinross': 16.745...   \n",
       "12  {'Radnorshire': 0.0, 'Derry and Londonderry': ...   \n",
       "13  {'Renfrewshire': 14.2853, 'Pembrokeshire': 22....   \n",
       "14  {'Scottish Borders': 5.9288, 'Dorset': 15.2653...   \n",
       "15  {'Shetland Islands': 1.4292, 'East Sussex': 10...   \n",
       "16  {'Shropshire': 8.1773, 'Somerset': 12.9459, 'D...   \n",
       "17  {'Somerset': 5.3295, 'Dorset': 15.2608, 'Scott...   \n",
       "18  {'South Ayrshire': 3.8336, 'East Ayrshire': 5....   \n",
       "19  {'South Lanarkshire': 3.8001, 'South Ayrshire'...   \n",
       "20  {'South Yorkshire': 0.0, 'West Yorkshire': 6.4...   \n",
       "21  {'Staffordshire': 0.0, 'Scottish Borders': 27....   \n",
       "22  {'Stirling': 1.7116, 'Antrim': 17.0471, 'Kent'...   \n",
       "23  {'Suffolk': 0.0, 'Norfolk': 40.9484, 'Glasgow ...   \n",
       "24  {'Suffolk': 18.9209, 'Fife': 19.7081, 'Angus':...   \n",
       "25  {'Surrey': 0.0, 'Shropshire': 12.222, 'South A...   \n",
       "26  {'Surrey': 9.8634, 'Shropshire': 12.3621, 'Dor...   \n",
       "27  {'Tyne and Wear': 5.4249, 'North Yorkshire': 1...   \n",
       "28  {'Tyrone': 1.1959, 'Flintshire': 16.6245, 'Sti...   \n",
       "29  {'Warwickshire': 5.4924, 'Worcestershire': 28....   \n",
       "30  {'West Berkshire': 9.8366, 'Breconshire': 12.8...   \n",
       "31  {'Wiltshire': 10.9897, 'West Sussex': 13.2182,...   \n",
       "32  {'Worcestershire': 2.0587, 'Oxfordshire': 14.5...   \n",
       "33  {'Worcestershire': 11.9511, 'Oxfordshire': 18....   \n",
       "34  {'Kent': 14.0715, 'Tyrone': 14.7303, 'Stirling...   \n",
       "\n",
       "                                          cosine_dist  \\\n",
       "id                                                      \n",
       "0   {'East Ayrshire': 0.0998, 'South Ayrshire': 0....   \n",
       "1   {'North Lanarkshire': 0.0443, 'North Ayrshire'...   \n",
       "2   {'North Yorkshire': 0.1352, 'South Yorkshire':...   \n",
       "3   {'Northamptonshire': 0.2228, 'Monmouthshire': ...   \n",
       "4   {'Northumberland': 0.3622, 'Norfolk': 0.4085, ...   \n",
       "5   {'Northumberland': 0.1627, 'Antrim': 0.5933, '...   \n",
       "6   {'Nottinghamshire': 0.0327, 'Antrim': 0.4139, ...   \n",
       "7   {'Orkney Islands': 0.0782, 'Merionethshire': 0...   \n",
       "8   {'Pembrokeshire': 0.0387, 'West Berkshire': 0....   \n",
       "9   {'Perth and Kinross': 0.3792, 'Wiltshire': 0.4...   \n",
       "10  {'Perth and Kinross': 0.2078, 'Wiltshire': 0.4...   \n",
       "11  {'Angus': 0.4149, 'Perth and Kinross': 0.4174,...   \n",
       "12  {'Radnorshire': 0.0, 'Derry and Londonderry': ...   \n",
       "13  {'Renfrewshire': 0.2231, 'Pembrokeshire': 0.34...   \n",
       "14  {'Scottish Borders': 0.0887, 'Dorset': 0.2806,...   \n",
       "15  {'Shetland Islands': 0.0292, 'East Sussex': 0....   \n",
       "16  {'Shropshire': 0.146, 'Somerset': 0.2646, 'Dor...   \n",
       "17  {'Somerset': 0.1038, 'Dorset': 0.3204, 'Scotti...   \n",
       "18  {'South Ayrshire': 0.0589, 'East Ayrshire': 0....   \n",
       "19  {'South Lanarkshire': 0.0635, 'South Ayrshire'...   \n",
       "20  {'South Yorkshire': 0.0, 'West Yorkshire': 0.1...   \n",
       "21  {'Staffordshire': 0.0, 'Scottish Borders': 0.3...   \n",
       "22  {'Stirling': 0.0464, 'Antrim': 0.4989, 'Kent':...   \n",
       "23  {'Suffolk': -0.0, 'Norfolk': 0.554, 'Glasgow C...   \n",
       "24  {'Suffolk': 0.2958, 'Fife': 0.4629, 'Angus': 0...   \n",
       "25  {'Surrey': 0.0, 'Shropshire': 0.2062, 'South A...   \n",
       "26  {'Surrey': 0.1844, 'Shropshire': 0.2326, 'Dors...   \n",
       "27  {'Tyne and Wear': 0.0965, 'North Yorkshire': 0...   \n",
       "28  {'Tyrone': 0.0204, 'Flintshire': 0.3076, 'Stir...   \n",
       "29  {'Warwickshire': 0.0688, 'Worcestershire': 0.4...   \n",
       "30  {'West Berkshire': 0.1514, 'Breconshire': 0.20...   \n",
       "31  {'Wiltshire': 0.35, 'West Sussex': 0.2862, 'We...   \n",
       "32  {'Worcestershire': 0.0323, 'Oxfordshire': 0.21...   \n",
       "33  {'Worcestershire': 0.2113, 'Oxfordshire': 0.30...   \n",
       "34  {'Kent': 0.2789, 'Tyrone': 0.2622, 'Stirling':...   \n",
       "\n",
       "                               candidate_original_ids  query_original_id  \\\n",
       "id                                                                         \n",
       "0   {'East Ayrshire': 64, 'South Ayrshire': 83, 'L...                  0   \n",
       "1   {'North Lanarkshire': 77, 'North Ayrshire': 76...                  1   \n",
       "2   {'North Yorkshire': 24, 'South Yorkshire': 31,...                  2   \n",
       "3   {'Northamptonshire': 25, 'Monmouthshire': 46, ...                  3   \n",
       "4   {'Northumberland': 26, 'Norfolk': 23, 'Antrim'...                  4   \n",
       "5   {'Northumberland': 26, 'Antrim': 88, 'Cornwall...                  5   \n",
       "6   {'Nottinghamshire': 27, 'Antrim': 88, 'Kent': ...                  6   \n",
       "7   {'Orkney Islands': 78, 'Merionethshire': 45, '...                  7   \n",
       "8   {'Pembrokeshire': 48, 'West Berkshire': 37, 'B...                  8   \n",
       "9   {'Perth and Kinross': 79, 'Wiltshire': 41, 'Fe...                  9   \n",
       "10  {'Perth and Kinross': 79, 'Wiltshire': 41, 'St...                 10   \n",
       "11  {'Angus': 58, 'Perth and Kinross': 79, 'West S...                 11   \n",
       "12  {'Radnorshire': 49, 'Derry and Londonderry': 9...                 12   \n",
       "13  {'Renfrewshire': 80, 'Pembrokeshire': 48, 'Wil...                 13   \n",
       "14  {'Scottish Borders': 81, 'Dorset': 9, 'West Be...                 14   \n",
       "15  {'Shetland Islands': 82, 'East Sussex': 11, 'E...                 15   \n",
       "16  {'Shropshire': 29, 'Somerset': 30, 'Dorset': 9...                 16   \n",
       "17  {'Somerset': 30, 'Dorset': 9, 'Scottish Border...                 17   \n",
       "18  {'South Ayrshire': 83, 'East Ayrshire': 64, 'S...                 18   \n",
       "19  {'South Lanarkshire': 84, 'South Ayrshire': 83...                 19   \n",
       "20  {'South Yorkshire': 31, 'West Yorkshire': 40, ...                 20   \n",
       "21  {'Staffordshire': 32, 'Scottish Borders': 81, ...                 21   \n",
       "22  {'Stirling': 85, 'Antrim': 88, 'Kent': 18, 'Ty...                 22   \n",
       "23  {'Suffolk': 33, 'Norfolk': 23, 'Glasgow City':...                 23   \n",
       "24  {'Suffolk': 33, 'Fife': 70, 'Angus': 58, 'West...                 24   \n",
       "25  {'Surrey': 34, 'Shropshire': 29, 'South Ayrshi...                 25   \n",
       "26  {'Surrey': 34, 'Shropshire': 29, 'Dorset': 9, ...                 26   \n",
       "27  {'Tyne and Wear': 35, 'North Yorkshire': 24, '...                 27   \n",
       "28  {'Tyrone': 93, 'Flintshire': 43, 'Stirling': 8...                 28   \n",
       "29  {'Warwickshire': 36, 'Worcestershire': 42, 'Fa...                 29   \n",
       "30  {'West Berkshire': 37, 'Breconshire': 51, 'Bed...                 30   \n",
       "31  {'Wiltshire': 41, 'West Sussex': 39, 'West Lot...                 31   \n",
       "32  {'Worcestershire': 42, 'Oxfordshire': 28, 'Wes...                 32   \n",
       "33  {'Worcestershire': 42, 'Oxfordshire': 28, 'Dor...                 33   \n",
       "34  {'Kent': 18, 'Tyrone': 93, 'Stirling': 85, 'Ty...                 34   \n",
       "\n",
       "    num_all_searches  \n",
       "id                    \n",
       "0                  5  \n",
       "1                  5  \n",
       "2                  5  \n",
       "3                  5  \n",
       "4                  5  \n",
       "5                  5  \n",
       "6                  5  \n",
       "7                  5  \n",
       "8                  5  \n",
       "9                  5  \n",
       "10                 5  \n",
       "11                 5  \n",
       "12                 5  \n",
       "13                 5  \n",
       "14                 5  \n",
       "15                 5  \n",
       "16                 5  \n",
       "17                 5  \n",
       "18                 5  \n",
       "19                 5  \n",
       "20                 5  \n",
       "21                 5  \n",
       "22                 5  \n",
       "23                 5  \n",
       "24                 5  \n",
       "25                 5  \n",
       "26                 5  \n",
       "27                 5  \n",
       "28                 5  \n",
       "29                 5  \n",
       "30                 5  \n",
       "31                 5  \n",
       "32                 5  \n",
       "33                 5  \n",
       "34                 5  "
      ]
     },
     "execution_count": 8,
     "metadata": {},
     "output_type": "execute_result"
    }
   ],
   "source": [
    "candidates_pd"
   ]
  },
  {
   "cell_type": "markdown",
   "metadata": {},
   "source": [
    "## Candidate ranking on-the-fly"
   ]
  },
  {
   "cell_type": "code",
   "execution_count": 9,
   "metadata": {},
   "outputs": [
    {
     "name": "stderr",
     "output_type": "stream",
     "text": [
      "                                                 "
     ]
    },
    {
     "name": "stdout",
     "output_type": "stream",
     "text": [
      "\u001b[92m2020-12-07 08:45:36\u001b[0m \u001b[95mMAC-ATI0414\u001b[0m \u001b[1m\u001b[90m[INFO]\u001b[0m \u001b[2;32mread input file: ./combined/candidates_demo1/input_dfm_brit.yaml\u001b[0m\n",
      "\u001b[92m2020-12-07 08:45:36\u001b[0m \u001b[95mMAC-ATI0414\u001b[0m \u001b[1m\u001b[90m[INFO]\u001b[0m \u001b[1;31mGPU was requested but not available.\u001b[0m\n",
      "\u001b[92m2020-12-07 08:45:36\u001b[0m \u001b[95mMAC-ATI0414\u001b[0m \u001b[1m\u001b[90m[INFO]\u001b[0m \u001b[1;32mpytorch will use: cpu\u001b[0m\n",
      "\u001b[92m2020-12-07 08:45:36\u001b[0m \u001b[95mMAC-ATI0414\u001b[0m \u001b[1m\u001b[90m[INFO]\u001b[0m \u001b[2;32msave test-data-class: tmp_668eca4f-3f55-4987-b657-e9e13371c31b/query/dataframe.df\u001b[0m\n"
     ]
    },
    {
     "name": "stderr",
     "output_type": "stream",
     "text": [
      "\r"
     ]
    },
    {
     "data": {
      "application/vnd.jupyter.widget-view+json": {
       "model_id": "",
       "version_major": 2,
       "version_minor": 0
      },
      "text/plain": [
       "HBox(children=(FloatProgress(value=0.0, max=1.0), HTML(value='')))"
      ]
     },
     "metadata": {},
     "output_type": "display_data"
    },
    {
     "name": "stderr",
     "output_type": "stream",
     "text": [
      "                                                 "
     ]
    },
    {
     "name": "stdout",
     "output_type": "stream",
     "text": [
      "\n",
      "\n",
      "-- Combine vectors\n",
      "Reading vectors from tmp_668eca4f-3f55-4987-b657-e9e13371c31b/query/embeddings/rnn_fwd*\n",
      "0000000 tmp_668eca4f-3f55-4987-b657-e9e13371c31b/query/embeddings/rnn_fwd_0\n",
      "\n",
      "\n",
      "-- Combine IDs\n",
      "0000000 tmp_668eca4f-3f55-4987-b657-e9e13371c31b/query/embeddings/rnn_indxs_0\n",
      "\n",
      "\n",
      "\n",
      "-- Combine vectors\n",
      "Reading vectors from tmp_668eca4f-3f55-4987-b657-e9e13371c31b/query/embeddings/rnn_bwd*\n",
      "0000000 tmp_668eca4f-3f55-4987-b657-e9e13371c31b/query/embeddings/rnn_bwd_0\n",
      "\n",
      "\n",
      "-- Combine IDs\n",
      "0000000 tmp_668eca4f-3f55-4987-b657-e9e13371c31b/query/embeddings/rnn_indxs_0\n",
      "\n",
      "--- 327.4503140449524 seconds ---\n",
      "Is faiss_id_candis already trained? True\n",
      "=========== Start the search for 0 london\n"
     ]
    },
    {
     "name": "stderr",
     "output_type": "stream",
     "text": [
      "\r"
     ]
    },
    {
     "data": {
      "application/vnd.jupyter.widget-view+json": {
       "model_id": "",
       "version_major": 2,
       "version_minor": 0
      },
      "text/plain": [
       "HBox(children=(FloatProgress(value=0.0, max=1.0), HTML(value='')))"
      ]
     },
     "metadata": {},
     "output_type": "display_data"
    },
    {
     "name": "stderr",
     "output_type": "stream",
     "text": [
      "                                                 "
     ]
    },
    {
     "name": "stdout",
     "output_type": "stream",
     "text": [
      "ID: 1/2 -- Number of found candidates so far: 5, searched: 5\n",
      "=========== Start the search for 1 S. Ayrshire\n"
     ]
    },
    {
     "name": "stderr",
     "output_type": "stream",
     "text": [
      "\r"
     ]
    },
    {
     "data": {
      "application/vnd.jupyter.widget-view+json": {
       "model_id": "",
       "version_major": 2,
       "version_minor": 0
      },
      "text/plain": [
       "HBox(children=(FloatProgress(value=0.0, max=1.0), HTML(value='')))"
      ]
     },
     "metadata": {},
     "output_type": "display_data"
    },
    {
     "name": "stdout",
     "output_type": "stream",
     "text": [
      "ID: 2/2 -- Number of found candidates so far: 5, searched: 5\n",
      "TOTAL TIME: 0.30617809295654297\n"
     ]
    }
   ],
   "source": [
    "from DeezyMatch import candidate_ranker\n",
    "\n",
    "# Ranking on-the-fly\n",
    "# find candidates from candidate_scenario \n",
    "# for queries specified by the `query` argument\n",
    "candidates_pd = \\\n",
    "    candidate_ranker(query=[\"london\", \"S. Ayrshire\"],\n",
    "                     candidate_scenario=\"./combined/candidates_demo1\", \n",
    "                     ranking_metric=\"faiss\", \n",
    "                     selection_threshold=100., \n",
    "                     num_candidates=5, \n",
    "                     search_size=5, \n",
    "                     output_path=\"ranker_results/candidates_deezymatch_demo1\", \n",
    "                     pretrained_model_path=\"../../models/wikigaz_en_brit/wikigaz_en_brit.model\", \n",
    "                     pretrained_vocab_path=\"../../models/wikigaz_en_brit/wikigaz_en_brit.vocab\")"
   ]
  },
  {
   "cell_type": "code",
   "execution_count": 10,
   "metadata": {},
   "outputs": [
    {
     "data": {
      "text/html": [
       "<div>\n",
       "<style scoped>\n",
       "    .dataframe tbody tr th:only-of-type {\n",
       "        vertical-align: middle;\n",
       "    }\n",
       "\n",
       "    .dataframe tbody tr th {\n",
       "        vertical-align: top;\n",
       "    }\n",
       "\n",
       "    .dataframe thead th {\n",
       "        text-align: right;\n",
       "    }\n",
       "</style>\n",
       "<table border=\"1\" class=\"dataframe\">\n",
       "  <thead>\n",
       "    <tr style=\"text-align: right;\">\n",
       "      <th></th>\n",
       "      <th>query</th>\n",
       "      <th>pred_score</th>\n",
       "      <th>1-pred_score</th>\n",
       "      <th>faiss_distance</th>\n",
       "      <th>cosine_dist</th>\n",
       "      <th>candidate_original_ids</th>\n",
       "      <th>query_original_id</th>\n",
       "      <th>num_all_searches</th>\n",
       "    </tr>\n",
       "    <tr>\n",
       "      <th>id</th>\n",
       "      <th></th>\n",
       "      <th></th>\n",
       "      <th></th>\n",
       "      <th></th>\n",
       "      <th></th>\n",
       "      <th></th>\n",
       "      <th></th>\n",
       "      <th></th>\n",
       "    </tr>\n",
       "  </thead>\n",
       "  <tbody>\n",
       "    <tr>\n",
       "      <th>0</th>\n",
       "      <td>london</td>\n",
       "      <td>{'Greater London': 0.5087, 'Midlothian': 0.643...</td>\n",
       "      <td>{'Greater London': 0.49129999999999996, 'Midlo...</td>\n",
       "      <td>{'Greater London': 15.0297, 'Midlothian': 19.0...</td>\n",
       "      <td>{'Greater London': 0.329, 'Midlothian': 0.4884...</td>\n",
       "      <td>{'Greater London': 14, 'Midlothian': 74, 'Devo...</td>\n",
       "      <td>0</td>\n",
       "      <td>5</td>\n",
       "    </tr>\n",
       "    <tr>\n",
       "      <th>1</th>\n",
       "      <td>S. Ayrshire</td>\n",
       "      <td>{'South Ayrshire': 0.8688, 'East Ayrshire': 0....</td>\n",
       "      <td>{'South Ayrshire': 0.13119999999999998, 'East ...</td>\n",
       "      <td>{'South Ayrshire': 3.3435, 'East Ayrshire': 5....</td>\n",
       "      <td>{'South Ayrshire': 0.0508, 'East Ayrshire': 0....</td>\n",
       "      <td>{'South Ayrshire': 83, 'East Ayrshire': 64, 'S...</td>\n",
       "      <td>1</td>\n",
       "      <td>5</td>\n",
       "    </tr>\n",
       "  </tbody>\n",
       "</table>\n",
       "</div>"
      ],
      "text/plain": [
       "          query                                         pred_score  \\\n",
       "id                                                                   \n",
       "0        london  {'Greater London': 0.5087, 'Midlothian': 0.643...   \n",
       "1   S. Ayrshire  {'South Ayrshire': 0.8688, 'East Ayrshire': 0....   \n",
       "\n",
       "                                         1-pred_score  \\\n",
       "id                                                      \n",
       "0   {'Greater London': 0.49129999999999996, 'Midlo...   \n",
       "1   {'South Ayrshire': 0.13119999999999998, 'East ...   \n",
       "\n",
       "                                       faiss_distance  \\\n",
       "id                                                      \n",
       "0   {'Greater London': 15.0297, 'Midlothian': 19.0...   \n",
       "1   {'South Ayrshire': 3.3435, 'East Ayrshire': 5....   \n",
       "\n",
       "                                          cosine_dist  \\\n",
       "id                                                      \n",
       "0   {'Greater London': 0.329, 'Midlothian': 0.4884...   \n",
       "1   {'South Ayrshire': 0.0508, 'East Ayrshire': 0....   \n",
       "\n",
       "                               candidate_original_ids  query_original_id  \\\n",
       "id                                                                         \n",
       "0   {'Greater London': 14, 'Midlothian': 74, 'Devo...                  0   \n",
       "1   {'South Ayrshire': 83, 'East Ayrshire': 64, 'S...                  1   \n",
       "\n",
       "    num_all_searches  \n",
       "id                    \n",
       "0                  5  \n",
       "1                  5  "
      ]
     },
     "execution_count": 10,
     "metadata": {},
     "output_type": "execute_result"
    }
   ],
   "source": [
    "candidates_pd"
   ]
  }
 ],
 "metadata": {
  "kernelspec": {
   "display_name": "Python (py37deezy)",
   "language": "python",
   "name": "py37deezy"
  },
  "language_info": {
   "codemirror_mode": {
    "name": "ipython",
    "version": 3
   },
   "file_extension": ".py",
   "mimetype": "text/x-python",
   "name": "python",
   "nbconvert_exporter": "python",
   "pygments_lexer": "ipython3",
   "version": "3.7.8"
  }
 },
 "nbformat": 4,
 "nbformat_minor": 4
}
